{
  "cells": [
    {
      "cell_type": "markdown",
      "metadata": {
        "id": "view-in-github",
        "colab_type": "text"
      },
      "source": [
        "<a href=\"https://colab.research.google.com/github/erhankahveci/Python_Temel_Orta/blob/main/Python_Temel_Orta.ipynb\" target=\"_parent\"><img src=\"https://colab.research.google.com/assets/colab-badge.svg\" alt=\"Open In Colab\"/></a>"
      ]
    },
    {
      "cell_type": "markdown",
      "metadata": {
        "id": "a68X3Z716epi"
      },
      "source": [
        "# **Değişken Türleri**"
      ]
    },
    {
      "cell_type": "code",
      "execution_count": null,
      "metadata": {
        "colab": {
          "base_uri": "https://localhost:8080/"
        },
        "id": "cJHQY4oR5orQ",
        "outputId": "003668c7-623c-44d1-edc6-21905ea68670"
      },
      "outputs": [
        {
          "name": "stdout",
          "output_type": "stream",
          "text": [
            "10\n"
          ]
        }
      ],
      "source": [
        "a = 10\n",
        "print (a)"
      ]
    },
    {
      "cell_type": "code",
      "execution_count": null,
      "metadata": {
        "colab": {
          "base_uri": "https://localhost:8080/"
        },
        "id": "085RQy445ysU",
        "outputId": "985ed47d-44d3-48b1-c7eb-902022d2f19e"
      },
      "outputs": [
        {
          "name": "stdout",
          "output_type": "stream",
          "text": [
            "5.5\n"
          ]
        }
      ],
      "source": [
        "b=5.5\n",
        "print (b)"
      ]
    },
    {
      "cell_type": "code",
      "execution_count": null,
      "metadata": {
        "colab": {
          "base_uri": "https://localhost:8080/"
        },
        "id": "iAY0nMA453lc",
        "outputId": "81a0b287-05f3-4e2c-96d5-bcd8f786ba92"
      },
      "outputs": [
        {
          "data": {
            "text/plain": [
              "int"
            ]
          },
          "execution_count": 3,
          "metadata": {},
          "output_type": "execute_result"
        }
      ],
      "source": [
        "type(a)"
      ]
    },
    {
      "cell_type": "code",
      "execution_count": null,
      "metadata": {
        "colab": {
          "base_uri": "https://localhost:8080/"
        },
        "id": "3cYMFaEV57Cl",
        "outputId": "6427d90e-59a9-4032-8ee3-77c8b8208ebc"
      },
      "outputs": [
        {
          "data": {
            "text/plain": [
              "float"
            ]
          },
          "execution_count": 4,
          "metadata": {},
          "output_type": "execute_result"
        }
      ],
      "source": [
        "type(b)"
      ]
    },
    {
      "cell_type": "markdown",
      "metadata": {
        "id": "ddShLOnk6l2d"
      },
      "source": [
        "# **Kullanıcıdan Veri Alma**"
      ]
    },
    {
      "cell_type": "code",
      "execution_count": null,
      "metadata": {
        "colab": {
          "base_uri": "https://localhost:8080/"
        },
        "id": "Y1Tueyj559BF",
        "outputId": "39bd3043-229f-4c83-8d99-2b7e14f97ad3"
      },
      "outputs": [
        {
          "name": "stdout",
          "output_type": "stream",
          "text": [
            "Lütfen Adınızı Giriniz:Merhaba Dünya\n",
            "Adınız: Merhaba Dünya\n"
          ]
        }
      ],
      "source": [
        "x = input(\"Lütfen Adınızı Giriniz:\")\n",
        "print(\"Adınız:\",x)"
      ]
    },
    {
      "cell_type": "markdown",
      "metadata": {
        "id": "sHR9mq5n61S4"
      },
      "source": [
        "# **İki Sayının Ortalaması**"
      ]
    },
    {
      "cell_type": "code",
      "execution_count": null,
      "metadata": {
        "colab": {
          "base_uri": "https://localhost:8080/"
        },
        "id": "aSGPiZEj6MJd",
        "outputId": "10264771-e74c-466e-c7a1-443ebb7efad9"
      },
      "outputs": [
        {
          "output_type": "stream",
          "name": "stdout",
          "text": [
            "Lütfen birinci sayıyı giriniz:12\n",
            "Lütfen ikinci sayıyı giriniz:2\n",
            "12ve2sayılarının ortalaması:  7.0\n"
          ]
        }
      ],
      "source": [
        "sayı1 = int(input(\"Lütfen birinci sayıyı giriniz:\"))\n",
        "sayı2 = int(input(\"Lütfen ikinci sayıyı giriniz:\"))\n",
        "ortalama=(sayı1+sayı2)/2\n",
        "print(str(sayı1)+\"ve\"+str(sayı2)+ \"sayılarının ortalaması: \",ortalama)"
      ]
    },
    {
      "cell_type": "code",
      "execution_count": null,
      "metadata": {
        "colab": {
          "base_uri": "https://localhost:8080/"
        },
        "id": "aPfyhVYw7tfU",
        "outputId": "c25b1ea8-00be-499e-e9da-7ecd6bf5cdf0"
      },
      "outputs": [
        {
          "output_type": "stream",
          "name": "stdout",
          "text": [
            "Lütfen birinci sayıyı giriniz:12\n",
            "Lütfen ikinci sayıyı giriniz:2\n",
            "Girmiş olduğunuz sayılarının ortalaması:  7.0\n"
          ]
        }
      ],
      "source": [
        "sayı1 = int(input(\"Lütfen birinci sayıyı giriniz:\"))\n",
        "sayı2 = int(input(\"Lütfen ikinci sayıyı giriniz:\"))\n",
        "ortalama=(sayı1+sayı2)/2\n",
        "print(\"Girmiş olduğunuz sayılarının ortalaması: \",ortalama)"
      ]
    },
    {
      "cell_type": "markdown",
      "source": [
        "# **String Toplamı**"
      ],
      "metadata": {
        "id": "t8ROX904EQ4X"
      }
    },
    {
      "cell_type": "code",
      "execution_count": null,
      "metadata": {
        "colab": {
          "base_uri": "https://localhost:8080/"
        },
        "id": "-TpBy6qU8gr6",
        "outputId": "0d2d6c33-34a9-4493-a31d-c670452075e3"
      },
      "outputs": [
        {
          "name": "stdout",
          "output_type": "stream",
          "text": [
            "Lütfen birinci sayıyı giriniz:13\n",
            "Lütfen ikinci sayıyı giriniz:13\n",
            "1313\n"
          ]
        }
      ],
      "source": [
        "sayı1= input(\"Lütfen birinci sayıyı giriniz:\") #input'un öncesine int eklemediğimiz için string olarak alındı.\n",
        "sayı2= input(\"Lütfen ikinci sayıyı giriniz:\") #input'un öncesine int eklemediğimiz için string olarak alındı.\n",
        "toplam=sayı1+sayı2\n",
        "print (toplam) #Çıktı string olarak verildi.\n"
      ]
    },
    {
      "cell_type": "markdown",
      "metadata": {
        "id": "W51ROyiK9lsm"
      },
      "source": [
        "# **Matematiksel İşlemler**"
      ]
    },
    {
      "cell_type": "code",
      "execution_count": null,
      "metadata": {
        "colab": {
          "base_uri": "https://localhost:8080/"
        },
        "id": "BwyIqBpz9sgR",
        "outputId": "fb238c24-289a-4b7b-905b-03e02a45a879"
      },
      "outputs": [
        {
          "data": {
            "text/plain": [
              "9"
            ]
          },
          "execution_count": 20,
          "metadata": {},
          "output_type": "execute_result"
        }
      ],
      "source": [
        "3**2 #Kare alma"
      ]
    },
    {
      "cell_type": "code",
      "execution_count": null,
      "metadata": {
        "colab": {
          "base_uri": "https://localhost:8080/"
        },
        "id": "uvaCHxtt92T0",
        "outputId": "df6d6867-41f6-4263-b2d4-f798684bed30"
      },
      "outputs": [
        {
          "data": {
            "text/plain": [
              "125"
            ]
          },
          "execution_count": 21,
          "metadata": {},
          "output_type": "execute_result"
        }
      ],
      "source": [
        "5**3 #Küp alama"
      ]
    },
    {
      "cell_type": "code",
      "execution_count": null,
      "metadata": {
        "colab": {
          "base_uri": "https://localhost:8080/"
        },
        "id": "uV0127jU99s_",
        "outputId": "2ed7c9e0-ec7a-41b7-c929-5692880cbebf"
      },
      "outputs": [
        {
          "data": {
            "text/plain": [
              "True"
            ]
          },
          "execution_count": 22,
          "metadata": {},
          "output_type": "execute_result"
        }
      ],
      "source": [
        "10>5 #True-False döndürür."
      ]
    },
    {
      "cell_type": "code",
      "execution_count": null,
      "metadata": {
        "colab": {
          "base_uri": "https://localhost:8080/"
        },
        "id": "bOMTbz7l-AWD",
        "outputId": "ba52edaa-64e8-416f-95cd-ee70395a967c"
      },
      "outputs": [
        {
          "data": {
            "text/plain": [
              "False"
            ]
          },
          "execution_count": 23,
          "metadata": {},
          "output_type": "execute_result"
        }
      ],
      "source": [
        "not (10==10) #Değil alma"
      ]
    },
    {
      "cell_type": "code",
      "execution_count": null,
      "metadata": {
        "colab": {
          "base_uri": "https://localhost:8080/"
        },
        "id": "x_uN0yB8-Jl_",
        "outputId": "aa4bacba-0296-4933-d8aa-bff46912a94b"
      },
      "outputs": [
        {
          "data": {
            "text/plain": [
              "False"
            ]
          },
          "execution_count": 24,
          "metadata": {},
          "output_type": "execute_result"
        }
      ],
      "source": [
        "True and False"
      ]
    },
    {
      "cell_type": "code",
      "execution_count": null,
      "metadata": {
        "colab": {
          "base_uri": "https://localhost:8080/"
        },
        "id": "beYUQb-h-PDK",
        "outputId": "0377b6ae-5c6a-490a-d8f3-fbaba53216df"
      },
      "outputs": [
        {
          "name": "stdout",
          "output_type": "stream",
          "text": [
            "False\n"
          ]
        }
      ],
      "source": [
        "print(True and False or not True and not False) #Sağdan sola doğru işlemelere başlayınız. <----------ooo"
      ]
    },
    {
      "cell_type": "markdown",
      "metadata": {
        "id": "E6jb3NPh-xeF"
      },
      "source": [
        "# **IF - ELSE**"
      ]
    },
    {
      "cell_type": "code",
      "execution_count": null,
      "metadata": {
        "colab": {
          "base_uri": "https://localhost:8080/"
        },
        "id": "Xd46EKon-1c8",
        "outputId": "4ff770f7-51de-45a9-c715-8fae5d937ac0"
      },
      "outputs": [
        {
          "name": "stdout",
          "output_type": "stream",
          "text": [
            "a sayısı 10'dur.\n"
          ]
        }
      ],
      "source": [
        "a=10\n",
        "if a==10:\n",
        "  print(\"a sayısı 10'dur.\")"
      ]
    },
    {
      "cell_type": "code",
      "execution_count": null,
      "metadata": {
        "colab": {
          "base_uri": "https://localhost:8080/"
        },
        "id": "8oufKL2d_C1C",
        "outputId": "552e328e-6e4d-4b54-a845-0df00fdf72d6"
      },
      "outputs": [
        {
          "name": "stdout",
          "output_type": "stream",
          "text": [
            "a sayısı 5'ten büyüktür.\n",
            "a sayısı: 10\n"
          ]
        }
      ],
      "source": [
        "a=10\n",
        "if a>5:\n",
        "  print(\"a sayısı 5'ten büyüktür.\")\n",
        "else:\n",
        "  print(\"a sayısı 5'ten büyük deildir.\")\n",
        "print(\"a sayısı:\",a) #Bütün koşullarda çalışır."
      ]
    },
    {
      "cell_type": "markdown",
      "metadata": {
        "id": "4o3mKrGjx1xt"
      },
      "source": [
        "# **DERS 2**"
      ]
    },
    {
      "cell_type": "markdown",
      "metadata": {
        "id": "ztEkBYBOyBAD"
      },
      "source": [
        "# **elif**"
      ]
    },
    {
      "cell_type": "code",
      "execution_count": null,
      "metadata": {
        "colab": {
          "base_uri": "https://localhost:8080/"
        },
        "id": "TgdJy_bzyFEO",
        "outputId": "12034be8-8722-4356-8c84-8932d80af21e"
      },
      "outputs": [
        {
          "output_type": "stream",
          "name": "stdout",
          "text": [
            "50\n"
          ]
        }
      ],
      "source": [
        "a = 12\n",
        "b=100 if a==10 else 50\n",
        "print(b)"
      ]
    },
    {
      "cell_type": "code",
      "execution_count": null,
      "metadata": {
        "colab": {
          "base_uri": "https://localhost:8080/"
        },
        "id": "ticUKhW5yZYr",
        "outputId": "35d81f67-50fb-486e-bc15-bd2050426ad7"
      },
      "outputs": [
        {
          "name": "stdout",
          "output_type": "stream",
          "text": [
            "başarılı\n"
          ]
        }
      ],
      "source": [
        "durum = 1\n",
        "\n",
        "msg = \"başarılı\" if durum == 1 else \"başarısız\"\n",
        "print(msg)"
      ]
    },
    {
      "cell_type": "code",
      "execution_count": null,
      "metadata": {
        "colab": {
          "base_uri": "https://localhost:8080/"
        },
        "id": "bnOfmOZxyr1V",
        "outputId": "bb777485-6035-4653-9a03-9daf22706694"
      },
      "outputs": [
        {
          "name": "stdout",
          "output_type": "stream",
          "text": [
            "Merhaba  Erhan\n"
          ]
        }
      ],
      "source": [
        "name = \"Erhan\"\n",
        "if name == \"Erhan\":\n",
        "    print(\"Merhaba \" , name)"
      ]
    },
    {
      "cell_type": "markdown",
      "metadata": {
        "id": "n4retRI-zAVe"
      },
      "source": [
        "# **While**"
      ]
    },
    {
      "cell_type": "code",
      "execution_count": null,
      "metadata": {
        "colab": {
          "base_uri": "https://localhost:8080/"
        },
        "id": "2PbxLvXxzEIc",
        "outputId": "dae0d0ab-d2eb-41f8-fea7-8edb00f0fdc5"
      },
      "outputs": [
        {
          "name": "stdout",
          "output_type": "stream",
          "text": [
            "Merhaba Dünya\n",
            "Merhaba Dünya\n",
            "Merhaba Dünya\n",
            "Merhaba Dünya\n",
            "Merhaba Dünya\n",
            "Merhaba Dünya\n",
            "Merhaba Dünya\n",
            "Merhaba Dünya\n",
            "Merhaba Dünya\n"
          ]
        }
      ],
      "source": [
        "i = 1\n",
        "while i<10:\n",
        "  print (\"Merhaba Dünya\")\n",
        "  i+=1"
      ]
    },
    {
      "cell_type": "code",
      "execution_count": null,
      "metadata": {
        "colab": {
          "base_uri": "https://localhost:8080/"
        },
        "id": "mxi4gk2UzOeB",
        "outputId": "803d0392-b061-40ec-c483-19ae2d6b423a"
      },
      "outputs": [
        {
          "name": "stdout",
          "output_type": "stream",
          "text": [
            "1\n",
            "2\n",
            "3\n",
            "4\n",
            "5\n",
            "6\n",
            "7\n",
            "8\n",
            "9\n"
          ]
        }
      ],
      "source": [
        "i = 1\n",
        "while i<10:\n",
        "  print (i)\n",
        "  i+=1"
      ]
    },
    {
      "cell_type": "code",
      "execution_count": null,
      "metadata": {
        "colab": {
          "base_uri": "https://localhost:8080/"
        },
        "id": "h7cZjFbNzVzN",
        "outputId": "519cef10-30c5-45bb-9860-73296b278633"
      },
      "outputs": [
        {
          "name": "stdout",
          "output_type": "stream",
          "text": [
            "Hello\tWorld\n"
          ]
        }
      ],
      "source": [
        "print(\"Hello\\tWorld\")"
      ]
    },
    {
      "cell_type": "code",
      "execution_count": null,
      "metadata": {
        "colab": {
          "base_uri": "https://localhost:8080/"
        },
        "id": "wlW-wXMqzhbG",
        "outputId": "0a5b69d1-0332-4a5a-f8f2-c238b6326659"
      },
      "outputs": [
        {
          "name": "stdout",
          "output_type": "stream",
          "text": [
            "Hello\n",
            "World\n"
          ]
        }
      ],
      "source": [
        "print(\"Hello\\nWorld\")"
      ]
    },
    {
      "cell_type": "code",
      "execution_count": null,
      "metadata": {
        "colab": {
          "base_uri": "https://localhost:8080/"
        },
        "id": "cpUR5Ud1zkQY",
        "outputId": "bdb2ce03-1f5e-4105-89d2-ee456fc21833"
      },
      "outputs": [
        {
          "name": "stdout",
          "output_type": "stream",
          "text": [
            "Hello \n",
            " World\n"
          ]
        }
      ],
      "source": [
        "print(\"Hello \\n World\")"
      ]
    },
    {
      "cell_type": "code",
      "execution_count": null,
      "metadata": {
        "colab": {
          "base_uri": "https://localhost:8080/"
        },
        "id": "oKJ8TVSWzobS",
        "outputId": "b3f9a9e6-d790-4d9e-fd1d-be7dabd5d7b9"
      },
      "outputs": [
        {
          "name": "stdout",
          "output_type": "stream",
          "text": [
            "Merhaba Dünya\n"
          ]
        }
      ],
      "source": [
        "print(\"Merhaba\",end=\" \")\n",
        "print(\"Dünya\")\n"
      ]
    },
    {
      "cell_type": "code",
      "execution_count": null,
      "metadata": {
        "colab": {
          "base_uri": "https://localhost:8080/"
        },
        "id": "np8ZHgTrz0Ox",
        "outputId": "366e2afd-3e32-4f3c-cc76-320124c7a7c4"
      },
      "outputs": [
        {
          "name": "stdout",
          "output_type": "stream",
          "text": [
            "MerhabaDünya\n"
          ]
        }
      ],
      "source": [
        "print(\"Merhaba\",end=\"\")\n",
        "print(\"Dünya\")"
      ]
    },
    {
      "cell_type": "code",
      "execution_count": null,
      "metadata": {
        "colab": {
          "base_uri": "https://localhost:8080/"
        },
        "id": "HmX_mDX4z3nU",
        "outputId": "509ebf42-2992-4380-e6a1-c6d9ad215e43"
      },
      "outputs": [
        {
          "name": "stdout",
          "output_type": "stream",
          "text": [
            "Merhaba\tDünya\n"
          ]
        }
      ],
      "source": [
        "print(\"Merhaba\",end=\"\\t\")\n",
        "print(\"Dünya\")"
      ]
    },
    {
      "cell_type": "code",
      "execution_count": null,
      "metadata": {
        "colab": {
          "base_uri": "https://localhost:8080/"
        },
        "id": "i1B0wyeAz_UN",
        "outputId": "fc8d7459-ee7b-44b0-c277-ad60f94525df"
      },
      "outputs": [
        {
          "name": "stdout",
          "output_type": "stream",
          "text": [
            "Merhaba***Dünya\n"
          ]
        }
      ],
      "source": [
        "print(\"Merhaba\",end=\"***\")\n",
        "print(\"Dünya\")"
      ]
    },
    {
      "cell_type": "code",
      "execution_count": null,
      "metadata": {
        "colab": {
          "base_uri": "https://localhost:8080/"
        },
        "id": "ljFSpnGo0Bn1",
        "outputId": "7668a753-401f-4fb7-ca32-1aa7b3ea2829"
      },
      "outputs": [
        {
          "name": "stdout",
          "output_type": "stream",
          "text": [
            "1\t2\t3\t4\t5\t6\t7\t8\t9\t"
          ]
        }
      ],
      "source": [
        "i = 1\n",
        "while i<10:\n",
        "  print (i,end=\"\\t\")\n",
        "  i+=1"
      ]
    },
    {
      "cell_type": "code",
      "execution_count": null,
      "metadata": {
        "colab": {
          "base_uri": "https://localhost:8080/"
        },
        "id": "404IH56E0Odm",
        "outputId": "c5cf82e3-a8af-4b0e-e02e-0fa06254c405"
      },
      "outputs": [
        {
          "name": "stdout",
          "output_type": "stream",
          "text": [
            "1 2 3 4 5 6 7 8 9 "
          ]
        }
      ],
      "source": [
        "i = 1\n",
        "while i<10:\n",
        "  print (i,end=\" \")\n",
        "  i+=1"
      ]
    },
    {
      "cell_type": "code",
      "execution_count": null,
      "metadata": {
        "colab": {
          "base_uri": "https://localhost:8080/"
        },
        "id": "qIwmLKq00RZe",
        "outputId": "5a74eb80-d865-44bf-ee29-68789d9a0727"
      },
      "outputs": [
        {
          "name": "stdout",
          "output_type": "stream",
          "text": [
            "1 4 9 16 25 36 49 64 81 "
          ]
        }
      ],
      "source": [
        "i = 1\n",
        "while i<10:\n",
        "  print (i**2,end=\" \")\n",
        "  i+=1"
      ]
    },
    {
      "cell_type": "code",
      "execution_count": null,
      "metadata": {
        "id": "4yg0W8B802ZU",
        "colab": {
          "base_uri": "https://localhost:8080/"
        },
        "outputId": "6ef00cfe-4170-4514-abc8-12206b404801"
      },
      "outputs": [
        {
          "output_type": "stream",
          "name": "stdout",
          "text": [
            "*\n",
            "**\n",
            "***\n",
            "****\n",
            "*****\n"
          ]
        }
      ],
      "source": [
        "i=5\n",
        "satır=1\n",
        "while satır <=i :\n",
        "  print (\"*\" * satır)\n",
        "  satır+=1"
      ]
    },
    {
      "cell_type": "code",
      "source": [
        "satır=5\n",
        "while satır >0:\n",
        "  print (\"*\" * satır)\n",
        "  satır+=-1"
      ],
      "metadata": {
        "colab": {
          "base_uri": "https://localhost:8080/"
        },
        "id": "L8kFEr6w1k3o",
        "outputId": "10e5b8bd-2317-41b2-bdc7-4e98c97ae97c"
      },
      "execution_count": null,
      "outputs": [
        {
          "output_type": "stream",
          "name": "stdout",
          "text": [
            "*****\n",
            "****\n",
            "***\n",
            "**\n",
            "*\n"
          ]
        }
      ]
    },
    {
      "cell_type": "code",
      "source": [
        "while True:\n",
        "  print(\"Lütfen adınızı yazınız: \")\n",
        "  name=input()\n",
        "\n",
        "  if name ==\"Çıkış\" or name== \"Ç\" or name==\"ç\":\n",
        "    print(\"Çıkış yapıldı.\")\n",
        "    break\n",
        "  print(\"Merhaba\",name)\n"
      ],
      "metadata": {
        "colab": {
          "base_uri": "https://localhost:8080/"
        },
        "id": "NlmRYrAp2oGo",
        "outputId": "187e0ccd-877e-4ba7-e4aa-986b4a48ea8a"
      },
      "execution_count": null,
      "outputs": [
        {
          "output_type": "stream",
          "name": "stdout",
          "text": [
            "Lütfen adınızı yazınız: \n",
            "Erhan\n",
            "Merhaba Erhan\n",
            "Lütfen adınızı yazınız: \n",
            "ç\n",
            "Çıkış yapıldı.\n"
          ]
        }
      ]
    },
    {
      "cell_type": "markdown",
      "source": [
        "**Kullanıcıdan aldığı sayının faktöriyelini hesaplayan kod yaznınız**"
      ],
      "metadata": {
        "id": "LOcH4y2o3MIp"
      }
    },
    {
      "cell_type": "code",
      "source": [
        "sayi=int(input(\"Lütfen bir sayı giriniz: \"))\n",
        "faktoriyel=1\n",
        "\n",
        "while sayi >=1:\n",
        "  faktoriyel *= sayi\n",
        "  sayi -=1\n",
        "print(\"Faktoriyel: \",faktoriyel)\n"
      ],
      "metadata": {
        "colab": {
          "base_uri": "https://localhost:8080/"
        },
        "id": "sqiThzdN3E1r",
        "outputId": "e60afa2e-2483-4048-bede-ddda6ac9dc85"
      },
      "execution_count": null,
      "outputs": [
        {
          "output_type": "stream",
          "name": "stdout",
          "text": [
            "Lütfen bir sayı giriniz: 0\n",
            "Faktoriyel:  1\n"
          ]
        }
      ]
    },
    {
      "cell_type": "markdown",
      "source": [
        "# **FOR**"
      ],
      "metadata": {
        "id": "UlCLH0ma5Q5K"
      }
    },
    {
      "cell_type": "code",
      "source": [
        "for i in range(20):\n",
        "  print(i)"
      ],
      "metadata": {
        "colab": {
          "base_uri": "https://localhost:8080/"
        },
        "id": "ekl8YoYX5TZ1",
        "outputId": "e6144211-380c-4fe8-c49d-780a0baf0d67"
      },
      "execution_count": null,
      "outputs": [
        {
          "output_type": "stream",
          "name": "stdout",
          "text": [
            "0\n",
            "1\n",
            "2\n",
            "3\n",
            "4\n",
            "5\n",
            "6\n",
            "7\n",
            "8\n",
            "9\n",
            "10\n",
            "11\n",
            "12\n",
            "13\n",
            "14\n",
            "15\n",
            "16\n",
            "17\n",
            "18\n",
            "19\n"
          ]
        }
      ]
    },
    {
      "cell_type": "code",
      "source": [
        "for i in range (20,45,1):\n",
        "  print(i)"
      ],
      "metadata": {
        "colab": {
          "base_uri": "https://localhost:8080/"
        },
        "id": "s7dVxWVN5ZVp",
        "outputId": "ccfd6d95-0f87-405d-e6c7-4c603e4304b0"
      },
      "execution_count": null,
      "outputs": [
        {
          "output_type": "stream",
          "name": "stdout",
          "text": [
            "20\n",
            "21\n",
            "22\n",
            "23\n",
            "24\n",
            "25\n",
            "26\n",
            "27\n",
            "28\n",
            "29\n",
            "30\n",
            "31\n",
            "32\n",
            "33\n",
            "34\n",
            "35\n",
            "36\n",
            "37\n",
            "38\n",
            "39\n",
            "40\n",
            "41\n",
            "42\n",
            "43\n",
            "44\n"
          ]
        }
      ]
    },
    {
      "cell_type": "code",
      "source": [
        "for i in range (20,0,-4):\n",
        "  print(i)"
      ],
      "metadata": {
        "colab": {
          "base_uri": "https://localhost:8080/"
        },
        "id": "-912z4965xan",
        "outputId": "ff5f92fa-12ff-4b28-e779-0b5d10649159"
      },
      "execution_count": null,
      "outputs": [
        {
          "output_type": "stream",
          "name": "stdout",
          "text": [
            "20\n",
            "16\n",
            "12\n",
            "8\n",
            "4\n"
          ]
        }
      ]
    },
    {
      "cell_type": "code",
      "source": [
        "n =5\n",
        "for i in range (1,n+1):\n",
        "  print(\"*\"*i)"
      ],
      "metadata": {
        "colab": {
          "base_uri": "https://localhost:8080/"
        },
        "id": "xPzjZ1DI53XD",
        "outputId": "5eaabdb6-141d-49c1-8543-a0b7e75e4866"
      },
      "execution_count": null,
      "outputs": [
        {
          "output_type": "stream",
          "name": "stdout",
          "text": [
            "*\n",
            "**\n",
            "***\n",
            "****\n",
            "*****\n"
          ]
        }
      ]
    },
    {
      "cell_type": "code",
      "source": [
        "n =5\n",
        "for i in range (n,0,-1):\n",
        "  print(\"*\"*i)"
      ],
      "metadata": {
        "colab": {
          "base_uri": "https://localhost:8080/"
        },
        "id": "U7umZhdK6DqB",
        "outputId": "3184f7ff-e9c4-4522-fa88-75e3f2180e21"
      },
      "execution_count": null,
      "outputs": [
        {
          "output_type": "stream",
          "name": "stdout",
          "text": [
            "*****\n",
            "****\n",
            "***\n",
            "**\n",
            "*\n"
          ]
        }
      ]
    },
    {
      "cell_type": "code",
      "source": [
        "for i in range (5):\n",
        "  print(\"Erhan({})\".format(i))"
      ],
      "metadata": {
        "colab": {
          "base_uri": "https://localhost:8080/"
        },
        "id": "rblrAX8s6R4E",
        "outputId": "a472644d-6dc3-4c68-bb0d-971d453c3284"
      },
      "execution_count": null,
      "outputs": [
        {
          "output_type": "stream",
          "name": "stdout",
          "text": [
            "Erhan(0)\n",
            "Erhan(1)\n",
            "Erhan(2)\n",
            "Erhan(3)\n",
            "Erhan(4)\n"
          ]
        }
      ]
    },
    {
      "cell_type": "code",
      "source": [
        "print(\"Merhaba {}\".format(i))"
      ],
      "metadata": {
        "colab": {
          "base_uri": "https://localhost:8080/"
        },
        "id": "OmZOkXx26lEu",
        "outputId": "3cf722bf-b3f4-4d3a-a8b5-013647082b77"
      },
      "execution_count": null,
      "outputs": [
        {
          "output_type": "stream",
          "name": "stdout",
          "text": [
            "Merhaba 4\n"
          ]
        }
      ]
    },
    {
      "cell_type": "code",
      "source": [
        "bulundu = 0\n",
        "for i in [10,20,30,40,50]:\n",
        "  if i==40:\n",
        "    bulundu=1\n",
        "    print(\"Aranan eleman bulundu \", i)\n",
        "    break\n",
        "  else:\n",
        "    print(\"Aranan eleman bulunamadı \", i)\n",
        "if bulundu==1:\n",
        "  print(\"Bulundu\")\n",
        "else:\n",
        "  print(\"Bulunamadı\")"
      ],
      "metadata": {
        "colab": {
          "base_uri": "https://localhost:8080/"
        },
        "id": "k_Rf69_06xfH",
        "outputId": "79eb98f7-e64d-4ad7-d7d8-f128bb5bd8f7"
      },
      "execution_count": null,
      "outputs": [
        {
          "output_type": "stream",
          "name": "stdout",
          "text": [
            "Aranan eleman bulunamadı  10\n",
            "Aranan eleman bulunamadı  20\n",
            "Aranan eleman bulunamadı  30\n",
            "Aranan eleman bulundu  40\n",
            "Bulundu\n"
          ]
        }
      ]
    },
    {
      "cell_type": "code",
      "source": [
        "import random\n",
        "for i in range(5):\n",
        "  print(random.randint(1,100))"
      ],
      "metadata": {
        "colab": {
          "base_uri": "https://localhost:8080/"
        },
        "id": "2xYNDyAR7xgx",
        "outputId": "9262e9f8-a991-4d60-d638-6f39345fd786"
      },
      "execution_count": null,
      "outputs": [
        {
          "output_type": "stream",
          "name": "stdout",
          "text": [
            "78\n",
            "9\n",
            "86\n",
            "70\n",
            "86\n"
          ]
        }
      ]
    },
    {
      "cell_type": "code",
      "source": [
        "a,b=0,1\n",
        "\n",
        "for i in range(10):\n",
        "  print(a, end = \" \")\n",
        "  a,b=b,a+b"
      ],
      "metadata": {
        "colab": {
          "base_uri": "https://localhost:8080/"
        },
        "id": "lHzoF6YF8KQz",
        "outputId": "99687608-290b-406a-e111-74cdd3c090c3"
      },
      "execution_count": null,
      "outputs": [
        {
          "output_type": "stream",
          "name": "stdout",
          "text": [
            "0 1 1 2 3 5 8 13 21 34 "
          ]
        }
      ]
    },
    {
      "cell_type": "markdown",
      "source": [
        "**2 ile 100 arasındaki asal sayıları bulan kodu yazınız**"
      ],
      "metadata": {
        "id": "dSpPEqP38l8y"
      }
    },
    {
      "cell_type": "code",
      "source": [
        "for sayi in range (2,100):\n",
        "  asal=True\n",
        "  for i in range (2,sayi):\n",
        "    if sayi % i == 0:\n",
        "      asal=False\n",
        "      break\n",
        "  if asal:\n",
        "    print(sayi, end =\" \")"
      ],
      "metadata": {
        "colab": {
          "base_uri": "https://localhost:8080/"
        },
        "id": "MKda5je18qdj",
        "outputId": "8a8ec597-be36-43a4-bcda-654f1faed55e"
      },
      "execution_count": null,
      "outputs": [
        {
          "output_type": "stream",
          "name": "stdout",
          "text": [
            "2 3 5 7 11 13 17 19 23 29 31 37 41 43 47 53 59 61 67 71 73 79 83 89 97 "
          ]
        }
      ]
    },
    {
      "cell_type": "code",
      "source": [
        "sayi=int(input(\"Kaç yıldız ile bitsin: \"))\n",
        "satir=0\n",
        "\n",
        "while (satir<sayi):\n",
        "    satir+=1\n",
        "    print(\"*\"*satir)"
      ],
      "metadata": {
        "colab": {
          "base_uri": "https://localhost:8080/"
        },
        "id": "7TkBsAeGycRg",
        "outputId": "83c35b07-1d28-4371-ef01-37fb519bb482"
      },
      "execution_count": null,
      "outputs": [
        {
          "output_type": "stream",
          "name": "stdout",
          "text": [
            "Kaç yıldız ile bitsin: 5\n",
            "*\n",
            "**\n",
            "***\n",
            "****\n",
            "*****\n"
          ]
        }
      ]
    },
    {
      "cell_type": "code",
      "source": [
        "n = int(input(\"Kaç terim istiyorsunuz: \"))\n",
        "a, b = 1, 1\n",
        "\n",
        "for i in range(n):\n",
        "    print(a, end=\" \")\n",
        "    a, b = b, a+b\n"
      ],
      "metadata": {
        "colab": {
          "base_uri": "https://localhost:8080/"
        },
        "id": "NLOFwlWgGHRu",
        "outputId": "9d07e1ed-851e-425c-fbd9-749e999ecddf"
      },
      "execution_count": null,
      "outputs": [
        {
          "output_type": "stream",
          "name": "stdout",
          "text": [
            "Kaç terim istiyorsunuz: 14\n",
            "1 1 2 3 5 8 13 21 34 55 89 144 233 377 "
          ]
        }
      ]
    },
    {
      "cell_type": "markdown",
      "source": [
        "# **Ders3**"
      ],
      "metadata": {
        "id": "MuQKEkkMuPfN"
      }
    },
    {
      "cell_type": "markdown",
      "source": [
        "# **Liste**"
      ],
      "metadata": {
        "id": "xpPMY1a_uUjb"
      }
    },
    {
      "cell_type": "code",
      "source": [
        "liste = [10,20,30,-11]\n",
        "min(liste)\n"
      ],
      "metadata": {
        "id": "812aY_kUGQ4a",
        "colab": {
          "base_uri": "https://localhost:8080/"
        },
        "outputId": "eab67002-59b6-4901-853b-467b9c5b6225"
      },
      "execution_count": null,
      "outputs": [
        {
          "output_type": "execute_result",
          "data": {
            "text/plain": [
              "-11"
            ]
          },
          "metadata": {},
          "execution_count": 4
        }
      ]
    },
    {
      "cell_type": "code",
      "source": [
        "liste = [10,20,30,-11]\n",
        "max(liste)"
      ],
      "metadata": {
        "colab": {
          "base_uri": "https://localhost:8080/"
        },
        "id": "GPoSSGoRuoZp",
        "outputId": "a82f758e-1d9d-4ef5-808c-07a24fa02951"
      },
      "execution_count": null,
      "outputs": [
        {
          "output_type": "execute_result",
          "data": {
            "text/plain": [
              "30"
            ]
          },
          "metadata": {},
          "execution_count": 5
        }
      ]
    },
    {
      "cell_type": "code",
      "source": [
        "liste = [10,20,30,-11]\n",
        "sum(liste)"
      ],
      "metadata": {
        "colab": {
          "base_uri": "https://localhost:8080/"
        },
        "id": "MkN4Z4wquvio",
        "outputId": "76a70570-ca5c-4e91-a14c-a2e7bdac689a"
      },
      "execution_count": null,
      "outputs": [
        {
          "output_type": "execute_result",
          "data": {
            "text/plain": [
              "49"
            ]
          },
          "metadata": {},
          "execution_count": 8
        }
      ]
    },
    {
      "cell_type": "code",
      "source": [
        "liste = [10,20,30,-11]\n",
        "for i in liste :\n",
        "  print(i)"
      ],
      "metadata": {
        "colab": {
          "base_uri": "https://localhost:8080/"
        },
        "id": "SRaOn1e6uxWT",
        "outputId": "65f6e263-88f9-43b0-d1f7-ff237e38df43"
      },
      "execution_count": null,
      "outputs": [
        {
          "output_type": "stream",
          "name": "stdout",
          "text": [
            "10\n",
            "20\n",
            "30\n",
            "-11\n"
          ]
        }
      ]
    },
    {
      "cell_type": "code",
      "source": [
        "-11 in liste"
      ],
      "metadata": {
        "colab": {
          "base_uri": "https://localhost:8080/"
        },
        "id": "-ReIMWYju0Ix",
        "outputId": "7c3890d5-01bc-4878-99fb-1be96427fd46"
      },
      "execution_count": null,
      "outputs": [
        {
          "output_type": "execute_result",
          "data": {
            "text/plain": [
              "True"
            ]
          },
          "metadata": {},
          "execution_count": 12
        }
      ]
    },
    {
      "cell_type": "code",
      "source": [
        "50 not in liste"
      ],
      "metadata": {
        "colab": {
          "base_uri": "https://localhost:8080/"
        },
        "id": "m8ZKmgXNvC8z",
        "outputId": "ea7dd2f9-0ead-46d2-ebe0-005e81cc59bd"
      },
      "execution_count": null,
      "outputs": [
        {
          "output_type": "execute_result",
          "data": {
            "text/plain": [
              "True"
            ]
          },
          "metadata": {},
          "execution_count": 13
        }
      ]
    },
    {
      "cell_type": "code",
      "source": [
        "for i in liste:\n",
        "  print(i**2)"
      ],
      "metadata": {
        "colab": {
          "base_uri": "https://localhost:8080/"
        },
        "id": "_zhC6E1SvFyg",
        "outputId": "362959bd-0360-45ed-a17c-d7fda22f432a"
      },
      "execution_count": null,
      "outputs": [
        {
          "output_type": "stream",
          "name": "stdout",
          "text": [
            "100\n",
            "400\n",
            "900\n",
            "121\n"
          ]
        }
      ]
    },
    {
      "cell_type": "code",
      "source": [
        "metin = \"Merhaba Dünya\"\n",
        "\n",
        "for i in metin:\n",
        "  print(i)"
      ],
      "metadata": {
        "colab": {
          "base_uri": "https://localhost:8080/"
        },
        "id": "wXaRurCRvM6v",
        "outputId": "f2a44137-fdee-40e0-f7dd-c3ca77065dc8"
      },
      "execution_count": null,
      "outputs": [
        {
          "output_type": "stream",
          "name": "stdout",
          "text": [
            "M\n",
            "e\n",
            "r\n",
            "h\n",
            "a\n",
            "b\n",
            "a\n",
            " \n",
            "D\n",
            "ü\n",
            "n\n",
            "y\n",
            "a\n"
          ]
        }
      ]
    },
    {
      "cell_type": "code",
      "source": [
        "liste = [10, 11, 3.14, \"Erhan\", True, 100]"
      ],
      "metadata": {
        "id": "d_MewibNvV7l"
      },
      "execution_count": null,
      "outputs": []
    },
    {
      "cell_type": "code",
      "source": [
        "liste"
      ],
      "metadata": {
        "colab": {
          "base_uri": "https://localhost:8080/"
        },
        "id": "XKj5SLbIvfgN",
        "outputId": "977601c7-3b1d-4523-e615-37b718a116ca"
      },
      "execution_count": null,
      "outputs": [
        {
          "output_type": "execute_result",
          "data": {
            "text/plain": [
              "[10, 11, 3.14, 'Erhan', True, 100]"
            ]
          },
          "metadata": {},
          "execution_count": 17
        }
      ]
    },
    {
      "cell_type": "code",
      "source": [
        "for i in liste:\n",
        "  if i == \"Erhan\":\n",
        "    break\n",
        "  print(i)"
      ],
      "metadata": {
        "colab": {
          "base_uri": "https://localhost:8080/"
        },
        "id": "MljwCqB9vgq-",
        "outputId": "7d61bd80-41f9-449e-c78e-4398f1f9bf1c"
      },
      "execution_count": null,
      "outputs": [
        {
          "output_type": "stream",
          "name": "stdout",
          "text": [
            "10\n",
            "11\n",
            "3.14\n"
          ]
        }
      ]
    },
    {
      "cell_type": "code",
      "source": [
        "for i in liste:\n",
        "  if i == \"Erhan\":\n",
        "    continue\n",
        "  print(i)"
      ],
      "metadata": {
        "colab": {
          "base_uri": "https://localhost:8080/"
        },
        "id": "1W_T7tWGvrSr",
        "outputId": "8962287a-7225-4f54-dbfe-1cc6c1a64d7c"
      },
      "execution_count": null,
      "outputs": [
        {
          "output_type": "stream",
          "name": "stdout",
          "text": [
            "10\n",
            "11\n",
            "3.14\n",
            "True\n",
            "100\n"
          ]
        }
      ]
    },
    {
      "cell_type": "code",
      "source": [
        "for i in liste:\n",
        "  if i == \"Erhan\":\n",
        "    pass\n",
        "  print(i)"
      ],
      "metadata": {
        "colab": {
          "base_uri": "https://localhost:8080/"
        },
        "id": "mC0L5BFtv1PA",
        "outputId": "347e06c6-e58e-4091-c174-59ad4aa74a3b"
      },
      "execution_count": null,
      "outputs": [
        {
          "output_type": "stream",
          "name": "stdout",
          "text": [
            "10\n",
            "11\n",
            "3.14\n",
            "Erhan\n",
            "True\n",
            "100\n"
          ]
        }
      ]
    },
    {
      "cell_type": "code",
      "source": [
        "sayı = int(input(\"Bir sayı giriniz: \"))\n",
        "\n",
        "if sayı==0:\n",
        "  pass\n",
        "elif sayı !=0:\n",
        "  print(\"Merhaba Dünya\")"
      ],
      "metadata": {
        "colab": {
          "base_uri": "https://localhost:8080/"
        },
        "id": "QUfFEl8lwEhj",
        "outputId": "ebf7f854-7bde-42eb-e778-feb49543b36f"
      },
      "execution_count": null,
      "outputs": [
        {
          "name": "stdout",
          "output_type": "stream",
          "text": [
            "Bir sayı giriniz: 0\n"
          ]
        }
      ]
    },
    {
      "cell_type": "code",
      "source": [
        "i=10\n",
        "\n",
        "while i<20:\n",
        "  if i==13:\n",
        "    break\n",
        "  print (\"i\",i)\n",
        "  i+=1"
      ],
      "metadata": {
        "colab": {
          "base_uri": "https://localhost:8080/"
        },
        "id": "sUlcOuyHwlAQ",
        "outputId": "e15d39f2-33b3-418c-eba3-f1a3d663cba1"
      },
      "execution_count": null,
      "outputs": [
        {
          "output_type": "stream",
          "name": "stdout",
          "text": [
            "i 10\n",
            "i 11\n",
            "i 12\n"
          ]
        }
      ]
    },
    {
      "cell_type": "code",
      "source": [
        "i=10\n",
        "\n",
        "while i<20:\n",
        "  if i==13:\n",
        "    i+=1\n",
        "    continue\n",
        "  print (\"i\",i)\n",
        "  i+=1"
      ],
      "metadata": {
        "colab": {
          "base_uri": "https://localhost:8080/"
        },
        "id": "wBnm9vhVxES3",
        "outputId": "90eb5556-4bc7-49de-d6f3-59d448e358ff"
      },
      "execution_count": null,
      "outputs": [
        {
          "output_type": "stream",
          "name": "stdout",
          "text": [
            "i 10\n",
            "i 11\n",
            "i 12\n",
            "i 14\n",
            "i 15\n",
            "i 16\n",
            "i 17\n",
            "i 18\n",
            "i 19\n"
          ]
        }
      ]
    },
    {
      "cell_type": "code",
      "source": [
        "i=10\n",
        "\n",
        "while i<20:\n",
        "  if i==13:\n",
        "    i+=1\n",
        "    pass\n",
        "  print (\"i\",i)\n",
        "  i+=1"
      ],
      "metadata": {
        "colab": {
          "base_uri": "https://localhost:8080/"
        },
        "id": "p6OiO1vlxH4j",
        "outputId": "f6cc83b5-bb0f-4e87-872a-43219d1d4945"
      },
      "execution_count": null,
      "outputs": [
        {
          "output_type": "stream",
          "name": "stdout",
          "text": [
            "i 10\n",
            "i 11\n",
            "i 12\n",
            "i 14\n",
            "i 15\n",
            "i 16\n",
            "i 17\n",
            "i 18\n",
            "i 19\n"
          ]
        }
      ]
    },
    {
      "cell_type": "code",
      "source": [
        "liste1 = [1,2,3]\n",
        "liste2 = [10,20,30]\n",
        "a=10\n",
        "\n",
        "for i in liste1:\n",
        "  for j in liste2:\n",
        "    if i>j:\n",
        "      a=a+liste1[j]\n",
        "a"
      ],
      "metadata": {
        "colab": {
          "base_uri": "https://localhost:8080/"
        },
        "id": "nFQ8blt4yR9u",
        "outputId": "eff44ed1-a689-4b66-9b02-8d0cef8766b3"
      },
      "execution_count": null,
      "outputs": [
        {
          "output_type": "execute_result",
          "data": {
            "text/plain": [
              "10"
            ]
          },
          "metadata": {},
          "execution_count": 34
        }
      ]
    },
    {
      "cell_type": "code",
      "source": [
        "liste = [10,20,30,-100]\n",
        "yeniListe=[]\n",
        "\n",
        "for i in liste:\n",
        "  yeniListe.append(i)\n",
        "print(yeniListe)"
      ],
      "metadata": {
        "colab": {
          "base_uri": "https://localhost:8080/"
        },
        "id": "9zt3nm48yqeX",
        "outputId": "6bd34b0b-2f9d-4728-a599-81b59cec0545"
      },
      "execution_count": null,
      "outputs": [
        {
          "output_type": "stream",
          "name": "stdout",
          "text": [
            "[10, 20, 30, -100]\n"
          ]
        }
      ]
    },
    {
      "cell_type": "code",
      "source": [
        "yeniListe = [i for i in liste]\n",
        "yeniListe"
      ],
      "metadata": {
        "colab": {
          "base_uri": "https://localhost:8080/"
        },
        "id": "SQGlP8VfzHtq",
        "outputId": "f003ddd6-51f1-4871-ac90-b647ad573589"
      },
      "execution_count": null,
      "outputs": [
        {
          "output_type": "execute_result",
          "data": {
            "text/plain": [
              "[10, 20, 30, -100]"
            ]
          },
          "metadata": {},
          "execution_count": 36
        }
      ]
    },
    {
      "cell_type": "code",
      "source": [
        "from ast import Index\n",
        "meyveler = [\"muz\",\"portakal\",\"elma\"]\n",
        "print (meyveler)\n",
        "\n",
        "meyveler.append(\"kavun\")\n",
        "print(meyveler)\n",
        "\n",
        "meyveler.remove(\"muz\")\n",
        "print(meyveler)\n",
        "\n",
        "indeks = meyveler.index(\"kavun\")\n",
        "print(indeks)\n",
        "\n",
        "meyveler.sort()\n",
        "print(meyveler)\n",
        "\n",
        "uzunluk = len(meyveler)\n",
        "print(uzunluk)\n",
        "\n",
        "ilk_iki = meyveler[:2]\n",
        "print(ilk_iki)\n",
        "\n",
        "son_iki=meyveler[-2:]\n",
        "print(son_iki)\n",
        "\n",
        "meyveler.reverse()\n",
        "print(meyveler)\n",
        "\n",
        "tersMeyveler = meyveler[::-1]\n",
        "print(tersMeyveler)\n",
        "\n",
        "tersMeyveler = meyveler[-3:]\n",
        "print(tersMeyveler)\n",
        "\n",
        "kopyalama = meyveler.copy()\n",
        "print(kopyalama)\n",
        "\n"
      ],
      "metadata": {
        "colab": {
          "base_uri": "https://localhost:8080/"
        },
        "id": "eNKEXWimzQJO",
        "outputId": "523c64e7-fa2d-49fd-9f8a-e0ac81af7f0c"
      },
      "execution_count": null,
      "outputs": [
        {
          "output_type": "stream",
          "name": "stdout",
          "text": [
            "['muz', 'portakal', 'elma']\n",
            "['muz', 'portakal', 'elma', 'kavun']\n",
            "['portakal', 'elma', 'kavun']\n",
            "2\n",
            "['elma', 'kavun', 'portakal']\n",
            "3\n",
            "['elma', 'kavun']\n",
            "['kavun', 'portakal']\n",
            "['portakal', 'kavun', 'elma']\n",
            "['elma', 'kavun', 'portakal']\n",
            "['portakal', 'kavun', 'elma']\n",
            "['portakal', 'kavun', 'elma']\n"
          ]
        }
      ]
    },
    {
      "cell_type": "markdown",
      "source": [
        "sayılar = [1,2,3,4,5,6,7,8,9,10] listesindeki çift sayıları yeni bir listeye ekleyip yazdırın."
      ],
      "metadata": {
        "id": "dWblKoiN1Cql"
      }
    },
    {
      "cell_type": "code",
      "source": [
        "sayılar = [1,2,3,4,5,6,7,8,9,10]\n",
        "\n",
        "çift_sayılar=[]\n",
        "indeks=0\n",
        "\n",
        "while indeks<len(sayılar):\n",
        "  if sayılar[indeks] % 2 == 0:\n",
        "    çift_sayılar.append(sayılar[indeks])\n",
        "  indeks+=1\n",
        "print(çift_sayılar)"
      ],
      "metadata": {
        "colab": {
          "base_uri": "https://localhost:8080/"
        },
        "id": "w_GrXp6R1OSo",
        "outputId": "4fc305e4-0cc3-4e16-b9f7-1bcd2e984950"
      },
      "execution_count": null,
      "outputs": [
        {
          "output_type": "stream",
          "name": "stdout",
          "text": [
            "[2, 4, 6, 8, 10]\n"
          ]
        }
      ]
    },
    {
      "cell_type": "markdown",
      "source": [
        "[2,-2,4,-10,2,33,-44] verilen listedeki negatif sayıları 0 yap ve listeye yazdır."
      ],
      "metadata": {
        "id": "QUJCuEx_1mc7"
      }
    },
    {
      "cell_type": "code",
      "source": [
        "sayılar = [2,-2,4,-10,2,33,-44]\n",
        "\n",
        "indeks=0\n",
        "\n",
        "while indeks<len(sayılar):\n",
        "  if sayılar[indeks] < 0:\n",
        "    sayılar[indeks]=0\n",
        "  indeks+=1\n",
        "\n",
        "print(sayılar)"
      ],
      "metadata": {
        "colab": {
          "base_uri": "https://localhost:8080/"
        },
        "id": "PvTm_N6S1zl8",
        "outputId": "3010b64a-d722-4944-fed7-1d966dcbfa8e"
      },
      "execution_count": null,
      "outputs": [
        {
          "output_type": "stream",
          "name": "stdout",
          "text": [
            "[2, 0, 4, 0, 2, 33, 0]\n"
          ]
        }
      ]
    },
    {
      "cell_type": "markdown",
      "source": [
        "elemanlar=[\"elma\",\"muz\",\"elma\",\"muz\",\"çilek\",\"muz\",\"portakal\"] verilen listedeki tekrar eden elemanları tek bir eleman olarak yazdırın."
      ],
      "metadata": {
        "id": "rq_zc51B3Oj7"
      }
    },
    {
      "cell_type": "code",
      "source": [
        "elemanlar=[\"elma\",\"muz\",\"elma\",\"muz\",\"çilek\",\"muz\",\"portakal\"]\n",
        "\n",
        "yeniElemanlar=[]\n",
        "\n",
        "for i in elemanlar:\n",
        "  if i not in yeniElemanlar:\n",
        "    yeniElemanlar.append(i)\n",
        "print(yeniElemanlar)"
      ],
      "metadata": {
        "colab": {
          "base_uri": "https://localhost:8080/"
        },
        "id": "SgMrAO6E3SGX",
        "outputId": "37ac4efa-275e-4587-af31-fd6b5094fb2e"
      },
      "execution_count": null,
      "outputs": [
        {
          "output_type": "stream",
          "name": "stdout",
          "text": [
            "['elma', 'muz', 'çilek', 'portakal']\n"
          ]
        }
      ]
    },
    {
      "cell_type": "code",
      "source": [
        "elemanlar=[\"elma\",\"muz\",\"elma\",\"muz\",\"çilek\",\"muz\",\"portakal\"]\n",
        "\n",
        "yeniElemanlar=[]\n",
        "\n",
        "for i in elemanlar:\n",
        "  if i in yeniElemanlar:\n",
        "    continue\n",
        "  else:\n",
        "    yeniElemanlar.append(i)\n",
        "print(yeniElemanlar)"
      ],
      "metadata": {
        "colab": {
          "base_uri": "https://localhost:8080/"
        },
        "id": "_6Mb1rFn3wkk",
        "outputId": "08a0c567-1097-4c64-bf15-ba81314d2324"
      },
      "execution_count": null,
      "outputs": [
        {
          "output_type": "stream",
          "name": "stdout",
          "text": [
            "['elma', 'muz', 'çilek', 'portakal']\n"
          ]
        }
      ]
    },
    {
      "cell_type": "code",
      "source": [
        "liste=[10,20,30,40]"
      ],
      "metadata": {
        "id": "yh3gEvARuWM3"
      },
      "execution_count": null,
      "outputs": []
    },
    {
      "cell_type": "code",
      "source": [
        "liste.append(-999)"
      ],
      "metadata": {
        "id": "aXyDesdducIC"
      },
      "execution_count": null,
      "outputs": []
    },
    {
      "cell_type": "code",
      "source": [
        "liste"
      ],
      "metadata": {
        "colab": {
          "base_uri": "https://localhost:8080/"
        },
        "id": "kyTfiBamuk5F",
        "outputId": "99739a80-da38-452e-a25f-e51115c67ccc"
      },
      "execution_count": null,
      "outputs": [
        {
          "output_type": "execute_result",
          "data": {
            "text/plain": [
              "[10, 20, 30, 40, -999]"
            ]
          },
          "metadata": {},
          "execution_count": 3
        }
      ]
    },
    {
      "cell_type": "code",
      "source": [
        "len(liste)"
      ],
      "metadata": {
        "colab": {
          "base_uri": "https://localhost:8080/"
        },
        "id": "cAhtoOb9ulre",
        "outputId": "eadbb95f-97cf-40d5-9aeb-058556c79504"
      },
      "execution_count": null,
      "outputs": [
        {
          "output_type": "execute_result",
          "data": {
            "text/plain": [
              "5"
            ]
          },
          "metadata": {},
          "execution_count": 4
        }
      ]
    },
    {
      "cell_type": "code",
      "source": [
        "liste[4]=1000"
      ],
      "metadata": {
        "id": "ffXU-FIZunXs"
      },
      "execution_count": null,
      "outputs": []
    },
    {
      "cell_type": "code",
      "source": [
        "liste"
      ],
      "metadata": {
        "colab": {
          "base_uri": "https://localhost:8080/"
        },
        "id": "Gx-xQknwu01k",
        "outputId": "23405aa7-528e-4a40-91df-595590299e78"
      },
      "execution_count": null,
      "outputs": [
        {
          "output_type": "execute_result",
          "data": {
            "text/plain": [
              "[10, 20, 30, 40, 1000]"
            ]
          },
          "metadata": {},
          "execution_count": 6
        }
      ]
    },
    {
      "cell_type": "code",
      "source": [
        "liste.insert(2,235432)"
      ],
      "metadata": {
        "id": "LiexMVzmu1uQ"
      },
      "execution_count": null,
      "outputs": []
    },
    {
      "cell_type": "code",
      "source": [
        "liste"
      ],
      "metadata": {
        "colab": {
          "base_uri": "https://localhost:8080/"
        },
        "id": "XaNQRXfSvCiQ",
        "outputId": "ed02a65c-cf8e-43e3-d57e-bbfa35a0aa49"
      },
      "execution_count": null,
      "outputs": [
        {
          "output_type": "execute_result",
          "data": {
            "text/plain": [
              "[10, 20, 235432, 30, 40, 1000]"
            ]
          },
          "metadata": {},
          "execution_count": 8
        }
      ]
    },
    {
      "cell_type": "code",
      "source": [
        "len(liste)"
      ],
      "metadata": {
        "colab": {
          "base_uri": "https://localhost:8080/"
        },
        "id": "3Qwg__p2vDQT",
        "outputId": "a8e95b81-c8ee-4141-fb02-e28229e06e28"
      },
      "execution_count": null,
      "outputs": [
        {
          "output_type": "execute_result",
          "data": {
            "text/plain": [
              "6"
            ]
          },
          "metadata": {},
          "execution_count": 9
        }
      ]
    },
    {
      "cell_type": "code",
      "source": [
        "liste.insert(6,0)"
      ],
      "metadata": {
        "id": "m2zp_XilvHtQ"
      },
      "execution_count": null,
      "outputs": []
    },
    {
      "cell_type": "code",
      "source": [
        "liste"
      ],
      "metadata": {
        "colab": {
          "base_uri": "https://localhost:8080/"
        },
        "id": "ZObRMGaPvOiy",
        "outputId": "efebd26e-b747-43cf-bea5-8a65f60400ed"
      },
      "execution_count": null,
      "outputs": [
        {
          "output_type": "execute_result",
          "data": {
            "text/plain": [
              "[10, 20, 235432, 30, 40, 1000, 0]"
            ]
          },
          "metadata": {},
          "execution_count": 11
        }
      ]
    },
    {
      "cell_type": "code",
      "source": [
        "liste.insert(100,-555)#Sona ekler 100. eleman olmaz."
      ],
      "metadata": {
        "id": "WhWXdmZ1vPVZ"
      },
      "execution_count": null,
      "outputs": []
    },
    {
      "cell_type": "code",
      "source": [
        "liste"
      ],
      "metadata": {
        "colab": {
          "base_uri": "https://localhost:8080/"
        },
        "id": "0MAE8rvGvXZf",
        "outputId": "0dd21ffd-8f48-40c1-a945-ea5190750a0d"
      },
      "execution_count": null,
      "outputs": [
        {
          "output_type": "execute_result",
          "data": {
            "text/plain": [
              "[10, 20, 235432, 2, 2, 30, 40, 1000, 0, -555]"
            ]
          },
          "metadata": {},
          "execution_count": 16
        }
      ]
    },
    {
      "cell_type": "code",
      "source": [
        "liste[7]"
      ],
      "metadata": {
        "colab": {
          "base_uri": "https://localhost:8080/"
        },
        "id": "Gnnkk63Uve1r",
        "outputId": "1662e106-939f-4a52-b3e2-a9313df6d71c"
      },
      "execution_count": null,
      "outputs": [
        {
          "output_type": "execute_result",
          "data": {
            "text/plain": [
              "1000"
            ]
          },
          "metadata": {},
          "execution_count": 18
        }
      ]
    },
    {
      "cell_type": "markdown",
      "source": [
        "# **POP**"
      ],
      "metadata": {
        "id": "9f5K5JxxvvLw"
      }
    },
    {
      "cell_type": "code",
      "source": [
        "liste"
      ],
      "metadata": {
        "colab": {
          "base_uri": "https://localhost:8080/"
        },
        "id": "NzDTS7mSvyiC",
        "outputId": "f5d4c2e0-68d0-4c9f-da27-c7433b0e08b2"
      },
      "execution_count": null,
      "outputs": [
        {
          "output_type": "execute_result",
          "data": {
            "text/plain": [
              "[10, 20, 235432, 2, 2, 30, 40, 1000, 0, -555]"
            ]
          },
          "metadata": {},
          "execution_count": 19
        }
      ]
    },
    {
      "cell_type": "code",
      "source": [
        "liste.pop() #Son elemanı döndürüp siler."
      ],
      "metadata": {
        "colab": {
          "base_uri": "https://localhost:8080/"
        },
        "id": "WWvBhLTrv0Nd",
        "outputId": "3d7d39fb-dd93-49ae-89af-edbc105caf42"
      },
      "execution_count": null,
      "outputs": [
        {
          "output_type": "execute_result",
          "data": {
            "text/plain": [
              "-555"
            ]
          },
          "metadata": {},
          "execution_count": 20
        }
      ]
    },
    {
      "cell_type": "code",
      "source": [
        "liste"
      ],
      "metadata": {
        "colab": {
          "base_uri": "https://localhost:8080/"
        },
        "id": "kZf1lLr2v4x6",
        "outputId": "f0856530-3d5d-4fd5-d101-4e09d337c946"
      },
      "execution_count": null,
      "outputs": [
        {
          "output_type": "execute_result",
          "data": {
            "text/plain": [
              "[10, 20, 235432, 2, 2, 30, 40, 1000, 0]"
            ]
          },
          "metadata": {},
          "execution_count": 21
        }
      ]
    },
    {
      "cell_type": "markdown",
      "source": [
        "# **index**"
      ],
      "metadata": {
        "id": "p6ooBGecwBuM"
      }
    },
    {
      "cell_type": "code",
      "source": [
        "liste"
      ],
      "metadata": {
        "colab": {
          "base_uri": "https://localhost:8080/"
        },
        "id": "Y6Mr6D7FwJaf",
        "outputId": "86ac34f3-ba44-4d57-9879-3dae07dc9b5d"
      },
      "execution_count": null,
      "outputs": [
        {
          "output_type": "execute_result",
          "data": {
            "text/plain": [
              "[10, 20, 235432, 2, 2, 30, 40, 1000, 0]"
            ]
          },
          "metadata": {},
          "execution_count": 22
        }
      ]
    },
    {
      "cell_type": "code",
      "source": [
        "i= liste.index(235432)\n",
        "i"
      ],
      "metadata": {
        "colab": {
          "base_uri": "https://localhost:8080/"
        },
        "id": "IeA-LHkLwKdM",
        "outputId": "c9d69948-9c5c-4d73-be4a-fcdb2486e37f"
      },
      "execution_count": null,
      "outputs": [
        {
          "output_type": "execute_result",
          "data": {
            "text/plain": [
              "2"
            ]
          },
          "metadata": {},
          "execution_count": 24
        }
      ]
    },
    {
      "cell_type": "code",
      "source": [
        "liste=[10,3.14,\"Erzurum\",True]"
      ],
      "metadata": {
        "id": "hzkMIchEwOS4"
      },
      "execution_count": null,
      "outputs": []
    },
    {
      "cell_type": "code",
      "source": [
        "i=liste.index(\"Erzurum\")\n",
        "i"
      ],
      "metadata": {
        "colab": {
          "base_uri": "https://localhost:8080/"
        },
        "id": "s1ukQNpEwXl9",
        "outputId": "817e957c-5ea8-425e-d33d-3ffae9fc66e4"
      },
      "execution_count": null,
      "outputs": [
        {
          "output_type": "execute_result",
          "data": {
            "text/plain": [
              "2"
            ]
          },
          "metadata": {},
          "execution_count": 26
        }
      ]
    },
    {
      "cell_type": "code",
      "source": [
        "i=liste.index(\"Trabzon\")#Hata veriyor.\n",
        "i"
      ],
      "metadata": {
        "colab": {
          "base_uri": "https://localhost:8080/",
          "height": 159
        },
        "id": "yKp2B91wwcaM",
        "outputId": "77d62ac5-9bd6-41d5-c02b-43c45d385f65"
      },
      "execution_count": null,
      "outputs": [
        {
          "output_type": "error",
          "ename": "ValueError",
          "evalue": "'Trabzon' is not in list",
          "traceback": [
            "\u001b[0;31m---------------------------------------------------------------------------\u001b[0m",
            "\u001b[0;31mValueError\u001b[0m                                Traceback (most recent call last)",
            "\u001b[0;32m<ipython-input-28-65b5321ea0de>\u001b[0m in \u001b[0;36m<cell line: 0>\u001b[0;34m()\u001b[0m\n\u001b[0;32m----> 1\u001b[0;31m \u001b[0mi\u001b[0m\u001b[0;34m=\u001b[0m\u001b[0mliste\u001b[0m\u001b[0;34m.\u001b[0m\u001b[0mindex\u001b[0m\u001b[0;34m(\u001b[0m\u001b[0;34m\"Trabzon\"\u001b[0m\u001b[0;34m)\u001b[0m\u001b[0;31m#Hata veriyor.\u001b[0m\u001b[0;34m\u001b[0m\u001b[0;34m\u001b[0m\u001b[0m\n\u001b[0m\u001b[1;32m      2\u001b[0m \u001b[0mi\u001b[0m\u001b[0;34m\u001b[0m\u001b[0;34m\u001b[0m\u001b[0m\n",
            "\u001b[0;31mValueError\u001b[0m: 'Trabzon' is not in list"
          ]
        }
      ]
    },
    {
      "cell_type": "markdown",
      "source": [
        "# **remove**"
      ],
      "metadata": {
        "id": "1Cfo3g01wra8"
      }
    },
    {
      "cell_type": "code",
      "source": [
        "liste"
      ],
      "metadata": {
        "colab": {
          "base_uri": "https://localhost:8080/"
        },
        "id": "YDykhq3ewuCN",
        "outputId": "eff5359c-5885-4cdf-b23c-42559a795e27"
      },
      "execution_count": null,
      "outputs": [
        {
          "output_type": "execute_result",
          "data": {
            "text/plain": [
              "[10, 3.14, 'Erzurum', True]"
            ]
          },
          "metadata": {},
          "execution_count": 29
        }
      ]
    },
    {
      "cell_type": "code",
      "source": [
        "liste.remove(10)"
      ],
      "metadata": {
        "id": "Bb0lx2OOwvq5"
      },
      "execution_count": null,
      "outputs": []
    },
    {
      "cell_type": "code",
      "source": [
        "liste"
      ],
      "metadata": {
        "colab": {
          "base_uri": "https://localhost:8080/"
        },
        "id": "ePzv0XKhwzfA",
        "outputId": "3c31ec88-b4e0-4002-a157-353c0e7328c4"
      },
      "execution_count": null,
      "outputs": [
        {
          "output_type": "execute_result",
          "data": {
            "text/plain": [
              "[3.14, 'Erzurum', True]"
            ]
          },
          "metadata": {},
          "execution_count": 31
        }
      ]
    },
    {
      "cell_type": "code",
      "source": [
        "liste=[10,10,22,33,4,5,66,77,10]\n",
        "liste.remove(10)\n",
        "liste"
      ],
      "metadata": {
        "colab": {
          "base_uri": "https://localhost:8080/"
        },
        "id": "-T1QU2Klw0Fa",
        "outputId": "f917365f-042c-44a4-81c5-67b3c0c6f98f"
      },
      "execution_count": null,
      "outputs": [
        {
          "output_type": "execute_result",
          "data": {
            "text/plain": [
              "[10, 22, 33, 4, 5, 66, 77, 10]"
            ]
          },
          "metadata": {},
          "execution_count": 33
        }
      ]
    },
    {
      "cell_type": "code",
      "source": [
        "liste=[10,10,22,33,4,5,66,77,10]\n",
        "liste.remove(-9) #Hata veriyor.\n",
        "liste"
      ],
      "metadata": {
        "colab": {
          "base_uri": "https://localhost:8080/",
          "height": 176
        },
        "id": "LCAj4wAqw-1v",
        "outputId": "d44a2f43-3770-4a32-9dfa-6958878614df"
      },
      "execution_count": null,
      "outputs": [
        {
          "output_type": "error",
          "ename": "ValueError",
          "evalue": "list.remove(x): x not in list",
          "traceback": [
            "\u001b[0;31m---------------------------------------------------------------------------\u001b[0m",
            "\u001b[0;31mValueError\u001b[0m                                Traceback (most recent call last)",
            "\u001b[0;32m<ipython-input-34-02a534164150>\u001b[0m in \u001b[0;36m<cell line: 0>\u001b[0;34m()\u001b[0m\n\u001b[1;32m      1\u001b[0m \u001b[0mliste\u001b[0m\u001b[0;34m=\u001b[0m\u001b[0;34m[\u001b[0m\u001b[0;36m10\u001b[0m\u001b[0;34m,\u001b[0m\u001b[0;36m10\u001b[0m\u001b[0;34m,\u001b[0m\u001b[0;36m22\u001b[0m\u001b[0;34m,\u001b[0m\u001b[0;36m33\u001b[0m\u001b[0;34m,\u001b[0m\u001b[0;36m4\u001b[0m\u001b[0;34m,\u001b[0m\u001b[0;36m5\u001b[0m\u001b[0;34m,\u001b[0m\u001b[0;36m66\u001b[0m\u001b[0;34m,\u001b[0m\u001b[0;36m77\u001b[0m\u001b[0;34m,\u001b[0m\u001b[0;36m10\u001b[0m\u001b[0;34m]\u001b[0m\u001b[0;34m\u001b[0m\u001b[0;34m\u001b[0m\u001b[0m\n\u001b[0;32m----> 2\u001b[0;31m \u001b[0mliste\u001b[0m\u001b[0;34m.\u001b[0m\u001b[0mremove\u001b[0m\u001b[0;34m(\u001b[0m\u001b[0;34m-\u001b[0m\u001b[0;36m9\u001b[0m\u001b[0;34m)\u001b[0m \u001b[0;31m#Hata veriyor.\u001b[0m\u001b[0;34m\u001b[0m\u001b[0;34m\u001b[0m\u001b[0m\n\u001b[0m\u001b[1;32m      3\u001b[0m \u001b[0mliste\u001b[0m\u001b[0;34m\u001b[0m\u001b[0;34m\u001b[0m\u001b[0m\n",
            "\u001b[0;31mValueError\u001b[0m: list.remove(x): x not in list"
          ]
        }
      ]
    },
    {
      "cell_type": "markdown",
      "source": [
        "# **count**"
      ],
      "metadata": {
        "id": "qJT4rHObxGI_"
      }
    },
    {
      "cell_type": "code",
      "source": [
        "liste"
      ],
      "metadata": {
        "colab": {
          "base_uri": "https://localhost:8080/"
        },
        "id": "rHddNOeaxHpY",
        "outputId": "55082400-3930-47ea-aa07-fca94c51e369"
      },
      "execution_count": null,
      "outputs": [
        {
          "output_type": "execute_result",
          "data": {
            "text/plain": [
              "[10, 10, 22, 33, 4, 5, 66, 77, 10]"
            ]
          },
          "metadata": {},
          "execution_count": 35
        }
      ]
    },
    {
      "cell_type": "code",
      "source": [
        "liste.count(10)"
      ],
      "metadata": {
        "colab": {
          "base_uri": "https://localhost:8080/"
        },
        "id": "oPixUt1XxJKB",
        "outputId": "9caa19cd-f948-4316-93c7-7657ac884a41"
      },
      "execution_count": null,
      "outputs": [
        {
          "output_type": "execute_result",
          "data": {
            "text/plain": [
              "3"
            ]
          },
          "metadata": {},
          "execution_count": 36
        }
      ]
    },
    {
      "cell_type": "code",
      "source": [
        "liste.count(-99)"
      ],
      "metadata": {
        "colab": {
          "base_uri": "https://localhost:8080/"
        },
        "id": "ADZ_-L0TxMv8",
        "outputId": "2e22817d-cedd-46d1-f199-c92972751be6"
      },
      "execution_count": null,
      "outputs": [
        {
          "output_type": "execute_result",
          "data": {
            "text/plain": [
              "0"
            ]
          },
          "metadata": {},
          "execution_count": 37
        }
      ]
    },
    {
      "cell_type": "markdown",
      "source": [
        "# **sort**"
      ],
      "metadata": {
        "id": "H7VFEp8RxXPf"
      }
    },
    {
      "cell_type": "code",
      "source": [
        "liste"
      ],
      "metadata": {
        "colab": {
          "base_uri": "https://localhost:8080/"
        },
        "id": "xqb--8mOxZDr",
        "outputId": "a9193c6f-4911-44b7-d145-7ef63ca21422"
      },
      "execution_count": null,
      "outputs": [
        {
          "output_type": "execute_result",
          "data": {
            "text/plain": [
              "[10, 10, 22, 33, 4, 5, 66, 77, 10]"
            ]
          },
          "metadata": {},
          "execution_count": 38
        }
      ]
    },
    {
      "cell_type": "code",
      "source": [
        "liste.sort()"
      ],
      "metadata": {
        "id": "bnxVOgfixcv7"
      },
      "execution_count": null,
      "outputs": []
    },
    {
      "cell_type": "code",
      "source": [
        "liste"
      ],
      "metadata": {
        "colab": {
          "base_uri": "https://localhost:8080/"
        },
        "id": "cNJTSsV1xeIU",
        "outputId": "09ee73b3-3b4c-4e01-937e-375ea9f38eac"
      },
      "execution_count": null,
      "outputs": [
        {
          "output_type": "execute_result",
          "data": {
            "text/plain": [
              "[4, 5, 10, 10, 10, 22, 33, 66, 77]"
            ]
          },
          "metadata": {},
          "execution_count": 40
        }
      ]
    },
    {
      "cell_type": "code",
      "source": [
        "liste.sort(reverse=True)\n",
        "liste"
      ],
      "metadata": {
        "colab": {
          "base_uri": "https://localhost:8080/"
        },
        "id": "3SMVqZWtxe82",
        "outputId": "6162c0fe-2a59-4d1e-ed7e-48b7e85be55d"
      },
      "execution_count": null,
      "outputs": [
        {
          "output_type": "execute_result",
          "data": {
            "text/plain": [
              "[77, 66, 33, 22, 10, 10, 10, 5, 4]"
            ]
          },
          "metadata": {},
          "execution_count": 41
        }
      ]
    },
    {
      "cell_type": "markdown",
      "source": [
        "# **clear**"
      ],
      "metadata": {
        "id": "VPLsnYl6xoo4"
      }
    },
    {
      "cell_type": "code",
      "source": [
        "liste"
      ],
      "metadata": {
        "colab": {
          "base_uri": "https://localhost:8080/"
        },
        "id": "opzANR3Hxpux",
        "outputId": "95a5ec5e-9559-4860-fa1c-51a4608a80f7"
      },
      "execution_count": null,
      "outputs": [
        {
          "output_type": "execute_result",
          "data": {
            "text/plain": [
              "[77, 66, 33, 22, 10, 10, 10, 5, 4]"
            ]
          },
          "metadata": {},
          "execution_count": 42
        }
      ]
    },
    {
      "cell_type": "code",
      "source": [
        "liste.clear()"
      ],
      "metadata": {
        "id": "hz_gZGtPxqPL"
      },
      "execution_count": null,
      "outputs": []
    },
    {
      "cell_type": "code",
      "source": [
        "liste"
      ],
      "metadata": {
        "colab": {
          "base_uri": "https://localhost:8080/"
        },
        "id": "Lr6vsXdUxsLa",
        "outputId": "960d1a07-6c5a-46da-800e-ec41f3ff993f"
      },
      "execution_count": null,
      "outputs": [
        {
          "output_type": "execute_result",
          "data": {
            "text/plain": [
              "[]"
            ]
          },
          "metadata": {},
          "execution_count": 44
        }
      ]
    },
    {
      "cell_type": "markdown",
      "source": [
        "# **copy**"
      ],
      "metadata": {
        "id": "QENzRRtjxwUo"
      }
    },
    {
      "cell_type": "code",
      "source": [
        "liste=[77, 66, 33, 22, 10, 10, 10, 5, 4]"
      ],
      "metadata": {
        "id": "ZxPAQHYUx1I6"
      },
      "execution_count": null,
      "outputs": []
    },
    {
      "cell_type": "code",
      "source": [
        "liste"
      ],
      "metadata": {
        "colab": {
          "base_uri": "https://localhost:8080/"
        },
        "id": "pNIzhyYQx58m",
        "outputId": "59938f7a-cc7b-4c0c-ab90-34908a7cbb45"
      },
      "execution_count": null,
      "outputs": [
        {
          "output_type": "execute_result",
          "data": {
            "text/plain": [
              "[77, 66, 33, 22, 10, 10, 10, 5, 4]"
            ]
          },
          "metadata": {},
          "execution_count": 46
        }
      ]
    },
    {
      "cell_type": "code",
      "source": [
        "yeniListe=liste.copy()"
      ],
      "metadata": {
        "id": "zUOQ3-fFx6mg"
      },
      "execution_count": null,
      "outputs": []
    },
    {
      "cell_type": "code",
      "source": [
        "yeniListe"
      ],
      "metadata": {
        "colab": {
          "base_uri": "https://localhost:8080/"
        },
        "id": "XDavOy2Lx82Y",
        "outputId": "76b01b34-13c3-4529-e112-cbb3193c258b"
      },
      "execution_count": null,
      "outputs": [
        {
          "output_type": "execute_result",
          "data": {
            "text/plain": [
              "[77, 66, 33, 22, 10, 10, 10, 5, 4]"
            ]
          },
          "metadata": {},
          "execution_count": 48
        }
      ]
    },
    {
      "cell_type": "code",
      "source": [
        "yeniListe.pop()"
      ],
      "metadata": {
        "colab": {
          "base_uri": "https://localhost:8080/"
        },
        "id": "UG41y2oWx9q2",
        "outputId": "45300151-e8d4-40c2-f972-71fe7e6142ef"
      },
      "execution_count": null,
      "outputs": [
        {
          "output_type": "execute_result",
          "data": {
            "text/plain": [
              "4"
            ]
          },
          "metadata": {},
          "execution_count": 49
        }
      ]
    },
    {
      "cell_type": "code",
      "source": [
        "yeniListe"
      ],
      "metadata": {
        "colab": {
          "base_uri": "https://localhost:8080/"
        },
        "id": "SXEJf3oix_k1",
        "outputId": "686a5d86-6eb4-4240-937f-df01edbace31"
      },
      "execution_count": null,
      "outputs": [
        {
          "output_type": "execute_result",
          "data": {
            "text/plain": [
              "[77, 66, 33, 22, 10, 10, 10, 5]"
            ]
          },
          "metadata": {},
          "execution_count": 50
        }
      ]
    },
    {
      "cell_type": "code",
      "source": [
        "liste"
      ],
      "metadata": {
        "colab": {
          "base_uri": "https://localhost:8080/"
        },
        "id": "XhBnWVEzyAVz",
        "outputId": "753ea3e4-ca30-452e-c8a3-cd86b6b45074"
      },
      "execution_count": null,
      "outputs": [
        {
          "output_type": "execute_result",
          "data": {
            "text/plain": [
              "[77, 66, 33, 22, 10, 10, 10, 5, 4]"
            ]
          },
          "metadata": {},
          "execution_count": 51
        }
      ]
    },
    {
      "cell_type": "markdown",
      "source": [
        "**Başlangıçta boş olan bir liste tanımlayınız. Bu listeye 5 eleman kullanıcı yoluyla alınız. Listenin elemanlar toplamını ve ortalamasını bulunuz.**"
      ],
      "metadata": {
        "id": "AFBbIUcJyCn4"
      }
    },
    {
      "cell_type": "code",
      "source": [
        "liste=[]\n",
        "\n",
        "\n",
        "for i in range(5):\n",
        "  eleman=int(input(\"Lütfen {}.elemanı giriniz: \". format(i+1)))\n",
        "  liste.append(eleman)\n",
        "\n",
        "print(liste)\n",
        "print(\"Toplam: \",sum(liste))\n",
        "print(\"Ortalama: \",sum(liste)/len(liste))"
      ],
      "metadata": {
        "colab": {
          "base_uri": "https://localhost:8080/"
        },
        "id": "G1fnqGO8yVtO",
        "outputId": "08c62198-821f-4626-9d65-350d1ec4e314"
      },
      "execution_count": null,
      "outputs": [
        {
          "output_type": "stream",
          "name": "stdout",
          "text": [
            "Lütfen 1.elemanı giriniz: 12\n",
            "Lütfen 2.elemanı giriniz: 12\n",
            "Lütfen 3.elemanı giriniz: 12\n",
            "Lütfen 4.elemanı giriniz: 12\n",
            "Lütfen 5.elemanı giriniz: 12\n",
            "[12, 12, 12, 12, 12]\n",
            "Toplam:  60\n",
            "Ortalama:  12.0\n"
          ]
        }
      ]
    },
    {
      "cell_type": "code",
      "source": [
        "liste=[]\n",
        "\n",
        "\n",
        "for i in range(5):\n",
        "  eleman=int(input(\"Lütfen {}.elemanı giriniz: \". format(i+1)))\n",
        "  liste.append(eleman)\n",
        "\n",
        "print(liste)\n",
        "toplam=0\n",
        "sayac=0\n",
        "for i in liste:\n",
        "  toplam+=i\n",
        "  sayac+=1\n",
        "print(\"Toplam: \",toplam)\n",
        "print(\"Ortalama: \",toplam/sayac)"
      ],
      "metadata": {
        "colab": {
          "base_uri": "https://localhost:8080/"
        },
        "id": "DDfViak_yvYx",
        "outputId": "c44b27d4-506c-4f31-e380-24e7e25aa816"
      },
      "execution_count": null,
      "outputs": [
        {
          "output_type": "stream",
          "name": "stdout",
          "text": [
            "Lütfen 1.elemanı giriniz: 12\n",
            "Lütfen 2.elemanı giriniz: 12\n",
            "Lütfen 3.elemanı giriniz: 12\n",
            "Lütfen 4.elemanı giriniz: 12\n",
            "Lütfen 5.elemanı giriniz: 12\n",
            "[12, 12, 12, 12, 12]\n",
            "Toplam:  60\n",
            "Ortalama:  12.0\n"
          ]
        }
      ]
    },
    {
      "cell_type": "code",
      "source": [
        "liste=[]\n",
        "i=0\n",
        "toplam=0\n",
        "while i<5:\n",
        "  eleman=int(input(\"Lütfen {}.elemanı giriniz: \". format(i+1)))\n",
        "  liste.append(eleman)\n",
        "  toplam+=eleman\n",
        "  i+=1\n",
        "print(liste)\n",
        "print(\"Toplam: \",sum(liste))\n",
        "print(\"Ortalama: \",sum(liste)/len(liste))"
      ],
      "metadata": {
        "colab": {
          "base_uri": "https://localhost:8080/"
        },
        "id": "6WET7Tnf0Jw9",
        "outputId": "913341f8-8bf3-41e4-b090-0f43b324f1ac"
      },
      "execution_count": null,
      "outputs": [
        {
          "output_type": "stream",
          "name": "stdout",
          "text": [
            "Lütfen 1.elemanı giriniz: 12\n",
            "Lütfen 2.elemanı giriniz: 12\n",
            "Lütfen 3.elemanı giriniz: 12\n",
            "Lütfen 4.elemanı giriniz: 2\n",
            "Lütfen 5.elemanı giriniz: 2\n",
            "[12, 12, 12, 2, 2]\n",
            "Toplam:  40\n",
            "Ortalama:  8.0\n"
          ]
        }
      ]
    },
    {
      "cell_type": "code",
      "source": [
        "liste"
      ],
      "metadata": {
        "colab": {
          "base_uri": "https://localhost:8080/"
        },
        "id": "z3kGNxPw0wPG",
        "outputId": "989092c8-31c0-49a6-84b8-a5e0c7607906"
      },
      "execution_count": null,
      "outputs": [
        {
          "output_type": "execute_result",
          "data": {
            "text/plain": [
              "[12, 12, 12, 2, 2]"
            ]
          },
          "metadata": {},
          "execution_count": 63
        }
      ]
    },
    {
      "cell_type": "code",
      "source": [
        "type(liste)"
      ],
      "metadata": {
        "colab": {
          "base_uri": "https://localhost:8080/"
        },
        "id": "HxXOkaPL1Gkh",
        "outputId": "8abd55cf-06fe-4b05-af58-90c2080a8600"
      },
      "execution_count": null,
      "outputs": [
        {
          "output_type": "execute_result",
          "data": {
            "text/plain": [
              "list"
            ]
          },
          "metadata": {},
          "execution_count": 64
        }
      ]
    },
    {
      "cell_type": "code",
      "source": [
        "liste=[\"Erzurum\", \"Trabzon\",10,3.14,[\"Ankara\",\"İstanbul\"],14.53]\n",
        "liste"
      ],
      "metadata": {
        "colab": {
          "base_uri": "https://localhost:8080/"
        },
        "id": "jor8E6mj1H7X",
        "outputId": "d1412d9a-882e-4216-c312-ffde1f92c468"
      },
      "execution_count": null,
      "outputs": [
        {
          "output_type": "execute_result",
          "data": {
            "text/plain": [
              "['Erzurum', 'Trabzon', 10, 3.14, ['Ankara', 'İstanbul'], 14.53]"
            ]
          },
          "metadata": {},
          "execution_count": 74
        }
      ]
    },
    {
      "cell_type": "code",
      "source": [
        "liste[0]"
      ],
      "metadata": {
        "colab": {
          "base_uri": "https://localhost:8080/",
          "height": 35
        },
        "id": "aiBxDbmx1VxK",
        "outputId": "5998b707-c242-44ec-e79b-f7ac04c83998"
      },
      "execution_count": null,
      "outputs": [
        {
          "output_type": "execute_result",
          "data": {
            "text/plain": [
              "'Erzurum'"
            ],
            "application/vnd.google.colaboratory.intrinsic+json": {
              "type": "string"
            }
          },
          "metadata": {},
          "execution_count": 71
        }
      ]
    },
    {
      "cell_type": "code",
      "source": [
        "liste[4]"
      ],
      "metadata": {
        "colab": {
          "base_uri": "https://localhost:8080/"
        },
        "id": "jvRcgEgw1br_",
        "outputId": "a4dd6321-18ce-419a-a4b9-e35dfb29da81"
      },
      "execution_count": null,
      "outputs": [
        {
          "output_type": "execute_result",
          "data": {
            "text/plain": [
              "['Ankara', 'İstanbul']"
            ]
          },
          "metadata": {},
          "execution_count": 73
        }
      ]
    },
    {
      "cell_type": "code",
      "source": [
        "liste=[\"Erzurum\", \"Trabzon\",10,3.14,[\"Ankara\",\"İstanbul\"],14.53]\n",
        "liste[4][2]#Hata veriyor."
      ],
      "metadata": {
        "colab": {
          "base_uri": "https://localhost:8080/",
          "height": 159
        },
        "id": "cb6KKWrN1ekB",
        "outputId": "4dfcf60e-dc64-4af3-c89b-a7cda1c660c9"
      },
      "execution_count": null,
      "outputs": [
        {
          "output_type": "error",
          "ename": "IndexError",
          "evalue": "list index out of range",
          "traceback": [
            "\u001b[0;31m---------------------------------------------------------------------------\u001b[0m",
            "\u001b[0;31mIndexError\u001b[0m                                Traceback (most recent call last)",
            "\u001b[0;32m<ipython-input-76-6285bdd8783a>\u001b[0m in \u001b[0;36m<cell line: 0>\u001b[0;34m()\u001b[0m\n\u001b[1;32m      1\u001b[0m \u001b[0mliste\u001b[0m\u001b[0;34m=\u001b[0m\u001b[0;34m[\u001b[0m\u001b[0;34m\"Erzurum\"\u001b[0m\u001b[0;34m,\u001b[0m \u001b[0;34m\"Trabzon\"\u001b[0m\u001b[0;34m,\u001b[0m\u001b[0;36m10\u001b[0m\u001b[0;34m,\u001b[0m\u001b[0;36m3.14\u001b[0m\u001b[0;34m,\u001b[0m\u001b[0;34m[\u001b[0m\u001b[0;34m\"Ankara\"\u001b[0m\u001b[0;34m,\u001b[0m\u001b[0;34m\"İstanbul\"\u001b[0m\u001b[0;34m]\u001b[0m\u001b[0;34m,\u001b[0m\u001b[0;36m14.53\u001b[0m\u001b[0;34m]\u001b[0m\u001b[0;34m\u001b[0m\u001b[0;34m\u001b[0m\u001b[0m\n\u001b[0;32m----> 2\u001b[0;31m \u001b[0mliste\u001b[0m\u001b[0;34m[\u001b[0m\u001b[0;36m4\u001b[0m\u001b[0;34m]\u001b[0m\u001b[0;34m[\u001b[0m\u001b[0;36m2\u001b[0m\u001b[0;34m]\u001b[0m\u001b[0;31m#Hata veriyor.\u001b[0m\u001b[0;34m\u001b[0m\u001b[0;34m\u001b[0m\u001b[0m\n\u001b[0m",
            "\u001b[0;31mIndexError\u001b[0m: list index out of range"
          ]
        }
      ]
    },
    {
      "cell_type": "code",
      "source": [
        "liste=[\"Erzurum\", \"Trabzon\",10,3.14,[\"Ankara\",\"İstanbul\"],14.53]\n",
        "liste[4][1]"
      ],
      "metadata": {
        "colab": {
          "base_uri": "https://localhost:8080/",
          "height": 35
        },
        "id": "uY8f32aJ1xTW",
        "outputId": "b1c0ed47-c44e-4f7b-fa76-adff439ff825"
      },
      "execution_count": null,
      "outputs": [
        {
          "output_type": "execute_result",
          "data": {
            "text/plain": [
              "'İstanbul'"
            ],
            "application/vnd.google.colaboratory.intrinsic+json": {
              "type": "string"
            }
          },
          "metadata": {},
          "execution_count": 77
        }
      ]
    },
    {
      "cell_type": "code",
      "source": [
        "liste1=[\"Erzurum\",\"Ankara\"]\n",
        "liste2=[10,20,liste1]\n",
        "liste2"
      ],
      "metadata": {
        "colab": {
          "base_uri": "https://localhost:8080/"
        },
        "id": "vD8nvNy91yo0",
        "outputId": "b5f75dcb-d9cc-41d1-b464-645b225fec5d"
      },
      "execution_count": null,
      "outputs": [
        {
          "output_type": "execute_result",
          "data": {
            "text/plain": [
              "[10, 20, ['Erzurum', 'Ankara']]"
            ]
          },
          "metadata": {},
          "execution_count": 79
        }
      ]
    },
    {
      "cell_type": "code",
      "source": [
        "liste2[2][0]"
      ],
      "metadata": {
        "colab": {
          "base_uri": "https://localhost:8080/",
          "height": 35
        },
        "id": "4_HF8f4g18Ce",
        "outputId": "934d6f71-44c9-4ec8-91cb-6ffaa84b2821"
      },
      "execution_count": null,
      "outputs": [
        {
          "output_type": "execute_result",
          "data": {
            "text/plain": [
              "'Erzurum'"
            ],
            "application/vnd.google.colaboratory.intrinsic+json": {
              "type": "string"
            }
          },
          "metadata": {},
          "execution_count": 80
        }
      ]
    },
    {
      "cell_type": "code",
      "source": [
        "liste2[2][1]"
      ],
      "metadata": {
        "colab": {
          "base_uri": "https://localhost:8080/",
          "height": 35
        },
        "id": "uZ7UZ8dX2A3t",
        "outputId": "cc943cce-77f5-466b-8282-4b773941e618"
      },
      "execution_count": null,
      "outputs": [
        {
          "output_type": "execute_result",
          "data": {
            "text/plain": [
              "'Ankara'"
            ],
            "application/vnd.google.colaboratory.intrinsic+json": {
              "type": "string"
            }
          },
          "metadata": {},
          "execution_count": 82
        }
      ]
    },
    {
      "cell_type": "code",
      "source": [
        "liste1=[10,20,30]\n",
        "liste2=[1,2,3]\n",
        "liste3=liste1+liste2\n",
        "liste3"
      ],
      "metadata": {
        "colab": {
          "base_uri": "https://localhost:8080/"
        },
        "id": "5QUw6Qwq2Cve",
        "outputId": "db916633-f8f5-4606-c2b2-cad1046c0a94"
      },
      "execution_count": null,
      "outputs": [
        {
          "output_type": "execute_result",
          "data": {
            "text/plain": [
              "[10, 20, 30, 1, 2, 3]"
            ]
          },
          "metadata": {},
          "execution_count": 83
        }
      ]
    },
    {
      "cell_type": "code",
      "source": [
        "liste1=[10,20,30]\n",
        "liste2=[1,2,3,4,5,6]\n",
        "liste3=liste1+liste2\n",
        "liste3"
      ],
      "metadata": {
        "colab": {
          "base_uri": "https://localhost:8080/"
        },
        "id": "A2Edg_132acd",
        "outputId": "a1814a32-c9a3-4b77-f676-8ec6619cb659"
      },
      "execution_count": null,
      "outputs": [
        {
          "output_type": "execute_result",
          "data": {
            "text/plain": [
              "[10, 20, 30, 1, 2, 3, 4, 5, 6]"
            ]
          },
          "metadata": {},
          "execution_count": 84
        }
      ]
    },
    {
      "cell_type": "code",
      "source": [
        "liste1=[\"Erzurum\",\"Ankara\",\"Trabzon\"]\n",
        "liste1=liste1+[\"İstanbul\"]\n",
        "liste1"
      ],
      "metadata": {
        "colab": {
          "base_uri": "https://localhost:8080/"
        },
        "id": "F6fKtrZt2gKP",
        "outputId": "078407ba-f8bd-422a-fd17-75a7c54df7ad"
      },
      "execution_count": null,
      "outputs": [
        {
          "output_type": "execute_result",
          "data": {
            "text/plain": [
              "['Erzurum', 'Ankara', 'Trabzon', 'İstanbul']"
            ]
          },
          "metadata": {},
          "execution_count": 85
        }
      ]
    },
    {
      "cell_type": "code",
      "source": [
        "liste1=[\"Erzurum\",\"Ankara\",\"Trabzon\"]\n",
        "liste1+=[\"İstanbul\"]\n",
        "liste1"
      ],
      "metadata": {
        "colab": {
          "base_uri": "https://localhost:8080/"
        },
        "id": "SqssdIP32vT7",
        "outputId": "7e999ba8-61c1-4de6-e832-ab9d849fa083"
      },
      "execution_count": null,
      "outputs": [
        {
          "output_type": "execute_result",
          "data": {
            "text/plain": [
              "['Erzurum', 'Ankara', 'Trabzon', 'İstanbul']"
            ]
          },
          "metadata": {},
          "execution_count": 86
        }
      ]
    },
    {
      "cell_type": "code",
      "source": [
        "liste"
      ],
      "metadata": {
        "colab": {
          "base_uri": "https://localhost:8080/"
        },
        "id": "I3wAi9hK288b",
        "outputId": "49b57416-06af-486f-8c6e-55e11c73208c"
      },
      "execution_count": null,
      "outputs": [
        {
          "output_type": "execute_result",
          "data": {
            "text/plain": [
              "['Erzurum', 'Trabzon', 10, 3.14, ['Ankara', 'İstanbul'], 14.53]"
            ]
          },
          "metadata": {},
          "execution_count": 87
        }
      ]
    },
    {
      "cell_type": "code",
      "source": [
        "del liste[0]\n",
        "liste"
      ],
      "metadata": {
        "colab": {
          "base_uri": "https://localhost:8080/"
        },
        "id": "0mJ_-HbU2_vM",
        "outputId": "05ad814d-b72d-420e-f5b1-b06ccafa539e"
      },
      "execution_count": null,
      "outputs": [
        {
          "output_type": "execute_result",
          "data": {
            "text/plain": [
              "['Trabzon', 10, 3.14, ['Ankara', 'İstanbul'], 14.53]"
            ]
          },
          "metadata": {},
          "execution_count": 88
        }
      ]
    },
    {
      "cell_type": "code",
      "source": [
        "metin=\"Merhaba Dünya\"\n",
        "type(metin)"
      ],
      "metadata": {
        "colab": {
          "base_uri": "https://localhost:8080/"
        },
        "id": "RY6HqCWl3Efg",
        "outputId": "f50e29c7-ff79-44ec-edbd-df74cbd06368"
      },
      "execution_count": null,
      "outputs": [
        {
          "output_type": "execute_result",
          "data": {
            "text/plain": [
              "str"
            ]
          },
          "metadata": {},
          "execution_count": 89
        }
      ]
    },
    {
      "cell_type": "code",
      "source": [
        "liste4=list(metin)\n",
        "liste4"
      ],
      "metadata": {
        "colab": {
          "base_uri": "https://localhost:8080/"
        },
        "id": "kaiEkRNk3Pji",
        "outputId": "35e886ce-ed6f-4620-9f37-85805df4af69"
      },
      "execution_count": null,
      "outputs": [
        {
          "output_type": "execute_result",
          "data": {
            "text/plain": [
              "['M', 'e', 'r', 'h', 'a', 'b', 'a', ' ', 'D', 'ü', 'n', 'y', 'a']"
            ]
          },
          "metadata": {},
          "execution_count": 90
        }
      ]
    },
    {
      "cell_type": "code",
      "source": [
        "type(liste)"
      ],
      "metadata": {
        "colab": {
          "base_uri": "https://localhost:8080/"
        },
        "id": "k299kRyP3Th2",
        "outputId": "0bba1c67-bc0d-4450-df10-788254604842"
      },
      "execution_count": null,
      "outputs": [
        {
          "output_type": "execute_result",
          "data": {
            "text/plain": [
              "list"
            ]
          },
          "metadata": {},
          "execution_count": 91
        }
      ]
    },
    {
      "cell_type": "code",
      "source": [
        "liste5=[i for i in range(10)]\n",
        "liste5"
      ],
      "metadata": {
        "colab": {
          "base_uri": "https://localhost:8080/"
        },
        "id": "gtx-X7hE3XI0",
        "outputId": "6c1bbca3-ffd3-4abf-dbde-d084058fd845"
      },
      "execution_count": null,
      "outputs": [
        {
          "output_type": "execute_result",
          "data": {
            "text/plain": [
              "[0, 1, 2, 3, 4, 5, 6, 7, 8, 9]"
            ]
          },
          "metadata": {},
          "execution_count": 93
        }
      ]
    },
    {
      "cell_type": "code",
      "source": [
        "x = []\n",
        "for i in range (10):\n",
        "  x.append(i)\n",
        "x"
      ],
      "metadata": {
        "colab": {
          "base_uri": "https://localhost:8080/"
        },
        "id": "D9ykZOXw3dQe",
        "outputId": "22e33ba8-e7d3-4cb4-8364-a622a2ba8380"
      },
      "execution_count": null,
      "outputs": [
        {
          "output_type": "execute_result",
          "data": {
            "text/plain": [
              "[0, 1, 2, 3, 4, 5, 6, 7, 8, 9]"
            ]
          },
          "metadata": {},
          "execution_count": 94
        }
      ]
    },
    {
      "cell_type": "code",
      "source": [
        "arabalar=[\"BMW\",\"Mercedes\",\"Opel\"]\n",
        "modeller=[\"X6\",\"E200\",\"Corsa\"]"
      ],
      "metadata": {
        "id": "Hx1AZqpn3qVS"
      },
      "execution_count": null,
      "outputs": []
    },
    {
      "cell_type": "code",
      "source": [
        "arabalar.append(modeller)\n",
        "arabalar"
      ],
      "metadata": {
        "colab": {
          "base_uri": "https://localhost:8080/"
        },
        "id": "mQ3Lypj24AoW",
        "outputId": "a416ed82-6392-4238-f51c-af1d57a5008d"
      },
      "execution_count": null,
      "outputs": [
        {
          "output_type": "execute_result",
          "data": {
            "text/plain": [
              "['BMW', 'Mercedes', 'Opel', ['X6', 'E200', 'Corsa']]"
            ]
          },
          "metadata": {},
          "execution_count": 114
        }
      ]
    },
    {
      "cell_type": "code",
      "source": [
        "arabalar.extend(modeller)\n",
        "arabalar"
      ],
      "metadata": {
        "colab": {
          "base_uri": "https://localhost:8080/"
        },
        "id": "t8kxOQ0P4D8D",
        "outputId": "a4df295f-573f-4c9e-8e24-0a88346cff65"
      },
      "execution_count": null,
      "outputs": [
        {
          "output_type": "execute_result",
          "data": {
            "text/plain": [
              "['BMW', 'Mercedes', 'Opel', 'X6', 'E200', 'Corsa']"
            ]
          },
          "metadata": {},
          "execution_count": 117
        }
      ]
    },
    {
      "cell_type": "markdown",
      "source": [
        "# **tuple**"
      ],
      "metadata": {
        "id": "jEkN3AOoxJEY"
      }
    },
    {
      "cell_type": "code",
      "source": [
        "tuple1=(\"Erhan\", 25, \"Erzurum\")"
      ],
      "metadata": {
        "id": "KlPIOvN_xMhK"
      },
      "execution_count": null,
      "outputs": []
    },
    {
      "cell_type": "code",
      "source": [
        "type(tuple1)"
      ],
      "metadata": {
        "colab": {
          "base_uri": "https://localhost:8080/"
        },
        "id": "VNhRDGwUxT82",
        "outputId": "be5b06ea-f0f7-4dee-f4c2-7dbb32728f72"
      },
      "execution_count": null,
      "outputs": [
        {
          "output_type": "execute_result",
          "data": {
            "text/plain": [
              "tuple"
            ]
          },
          "metadata": {},
          "execution_count": 3
        }
      ]
    },
    {
      "cell_type": "code",
      "source": [
        "tuple2=\"Erhan\",40,3.14"
      ],
      "metadata": {
        "id": "ZmaVgDzTxWCZ"
      },
      "execution_count": null,
      "outputs": []
    },
    {
      "cell_type": "code",
      "source": [
        "tuple3=(25,)\n",
        "tuple3"
      ],
      "metadata": {
        "colab": {
          "base_uri": "https://localhost:8080/"
        },
        "id": "MlExNaUAxciO",
        "outputId": "5c64faee-6142-4b13-f343-afc7e3a2d15a"
      },
      "execution_count": null,
      "outputs": [
        {
          "output_type": "execute_result",
          "data": {
            "text/plain": [
              "(25,)"
            ]
          },
          "metadata": {},
          "execution_count": 6
        }
      ]
    },
    {
      "cell_type": "code",
      "source": [
        "tuple1[1]"
      ],
      "metadata": {
        "colab": {
          "base_uri": "https://localhost:8080/"
        },
        "id": "S_5fjCMxxfGD",
        "outputId": "6c6ad870-d00e-4b1d-9bd2-42aec54673ca"
      },
      "execution_count": null,
      "outputs": [
        {
          "output_type": "execute_result",
          "data": {
            "text/plain": [
              "25"
            ]
          },
          "metadata": {},
          "execution_count": 7
        }
      ]
    },
    {
      "cell_type": "code",
      "source": [
        "del tuple2"
      ],
      "metadata": {
        "id": "e7I8yc-JxkCI"
      },
      "execution_count": null,
      "outputs": []
    },
    {
      "cell_type": "code",
      "source": [
        "tuple2"
      ],
      "metadata": {
        "colab": {
          "base_uri": "https://localhost:8080/",
          "height": 141
        },
        "id": "sE0rS9SGxoK0",
        "outputId": "758ef9b3-898d-4980-d212-8dc4b8f9cb96"
      },
      "execution_count": null,
      "outputs": [
        {
          "output_type": "error",
          "ename": "NameError",
          "evalue": "name 'tuple2' is not defined",
          "traceback": [
            "\u001b[0;31m---------------------------------------------------------------------------\u001b[0m",
            "\u001b[0;31mNameError\u001b[0m                                 Traceback (most recent call last)",
            "\u001b[0;32m<ipython-input-9-917c63f9507f>\u001b[0m in \u001b[0;36m<cell line: 0>\u001b[0;34m()\u001b[0m\n\u001b[0;32m----> 1\u001b[0;31m \u001b[0mtuple2\u001b[0m\u001b[0;34m\u001b[0m\u001b[0;34m\u001b[0m\u001b[0m\n\u001b[0m",
            "\u001b[0;31mNameError\u001b[0m: name 'tuple2' is not defined"
          ]
        }
      ]
    },
    {
      "cell_type": "code",
      "source": [
        "tuple1"
      ],
      "metadata": {
        "colab": {
          "base_uri": "https://localhost:8080/"
        },
        "id": "wRIjLT2DxpoF",
        "outputId": "6193a31d-74ce-44b2-b88e-bd9c57a21624"
      },
      "execution_count": null,
      "outputs": [
        {
          "output_type": "execute_result",
          "data": {
            "text/plain": [
              "('Erhan', 25, 'Erzurum')"
            ]
          },
          "metadata": {},
          "execution_count": 10
        }
      ]
    },
    {
      "cell_type": "code",
      "source": [
        "for i in tuple1:\n",
        "  print(i)"
      ],
      "metadata": {
        "colab": {
          "base_uri": "https://localhost:8080/"
        },
        "id": "KmLNxSgAxtpk",
        "outputId": "7bedc67b-7412-422d-82ca-07f8bee0cabb"
      },
      "execution_count": null,
      "outputs": [
        {
          "output_type": "stream",
          "name": "stdout",
          "text": [
            "Erhan\n",
            "25\n",
            "Erzurum\n"
          ]
        }
      ]
    },
    {
      "cell_type": "code",
      "source": [
        "if \"Erhan\" in tuple1:\n",
        "  print(\"Erhan tuple1 içinde var.\")\n",
        "else:\n",
        "  print(\"Erhan tuple1 içinde yok.\")"
      ],
      "metadata": {
        "colab": {
          "base_uri": "https://localhost:8080/"
        },
        "id": "SCn18LVwxxaR",
        "outputId": "1eb8c958-2bb3-445d-a3dc-db8b3a59c8f9"
      },
      "execution_count": null,
      "outputs": [
        {
          "output_type": "stream",
          "name": "stdout",
          "text": [
            "Erhan tuple1 içinde var.\n"
          ]
        }
      ]
    },
    {
      "cell_type": "code",
      "source": [
        "tuple5=(\"m\",\"e\",\"r\",\"h\",\"a\",\"b\",\"a\")\n",
        "tuple5"
      ],
      "metadata": {
        "colab": {
          "base_uri": "https://localhost:8080/"
        },
        "id": "RJxVMUBtx75y",
        "outputId": "713569c4-0baf-4523-e088-8eea1eabc5d0"
      },
      "execution_count": null,
      "outputs": [
        {
          "output_type": "execute_result",
          "data": {
            "text/plain": [
              "('m', 'e', 'r', 'h', 'a', 'b', 'a')"
            ]
          },
          "metadata": {},
          "execution_count": 14
        }
      ]
    },
    {
      "cell_type": "code",
      "source": [
        "len(tuple5)"
      ],
      "metadata": {
        "colab": {
          "base_uri": "https://localhost:8080/"
        },
        "id": "-Pe1y0mpyTcL",
        "outputId": "5bcf1e25-1091-4da1-8aea-8fd522c60352"
      },
      "execution_count": null,
      "outputs": [
        {
          "output_type": "execute_result",
          "data": {
            "text/plain": [
              "7"
            ]
          },
          "metadata": {},
          "execution_count": 15
        }
      ]
    },
    {
      "cell_type": "code",
      "source": [
        "tuple5.count(\"a\")"
      ],
      "metadata": {
        "colab": {
          "base_uri": "https://localhost:8080/"
        },
        "id": "nQU32bORyV7l",
        "outputId": "43c0caf1-4281-4d47-df3a-edef2fb44dcf"
      },
      "execution_count": null,
      "outputs": [
        {
          "output_type": "execute_result",
          "data": {
            "text/plain": [
              "2"
            ]
          },
          "metadata": {},
          "execution_count": 17
        }
      ]
    },
    {
      "cell_type": "code",
      "source": [
        "tuple5.index(\"e\")"
      ],
      "metadata": {
        "colab": {
          "base_uri": "https://localhost:8080/"
        },
        "id": "u56dVmLCyj8m",
        "outputId": "942eb1bb-502d-4e5c-ee2e-0e9ca93eabbb"
      },
      "execution_count": null,
      "outputs": [
        {
          "output_type": "execute_result",
          "data": {
            "text/plain": [
              "1"
            ]
          },
          "metadata": {},
          "execution_count": 20
        }
      ]
    },
    {
      "cell_type": "code",
      "source": [
        "tuple6=(\"a\",\"b\")*5\n",
        "tuple6"
      ],
      "metadata": {
        "colab": {
          "base_uri": "https://localhost:8080/"
        },
        "id": "leFww7M1yqTO",
        "outputId": "9095c0ce-c114-4536-8743-e8df90210301"
      },
      "execution_count": null,
      "outputs": [
        {
          "output_type": "execute_result",
          "data": {
            "text/plain": [
              "('a', 'b', 'a', 'b', 'a', 'b', 'a', 'b', 'a', 'b')"
            ]
          },
          "metadata": {},
          "execution_count": 22
        }
      ]
    },
    {
      "cell_type": "code",
      "source": [
        "tuple7=(1,2,3)+(4,5,6)\n",
        "tuple7"
      ],
      "metadata": {
        "colab": {
          "base_uri": "https://localhost:8080/"
        },
        "id": "W1XkeRezzAFH",
        "outputId": "b204b56a-827e-468c-f635-316c3ced86d2"
      },
      "execution_count": null,
      "outputs": [
        {
          "output_type": "execute_result",
          "data": {
            "text/plain": [
              "(1, 2, 3, 4, 5, 6)"
            ]
          },
          "metadata": {},
          "execution_count": 23
        }
      ]
    },
    {
      "cell_type": "code",
      "source": [
        "tuple8=list(tuple7)\n",
        "type(tuple8)\n",
        "tuple8"
      ],
      "metadata": {
        "colab": {
          "base_uri": "https://localhost:8080/"
        },
        "id": "Gky-UtigzLDN",
        "outputId": "f69306f8-b022-47cf-d747-df932b010b4e"
      },
      "execution_count": null,
      "outputs": [
        {
          "output_type": "execute_result",
          "data": {
            "text/plain": [
              "[1, 2, 3, 4, 5, 6]"
            ]
          },
          "metadata": {},
          "execution_count": 27
        }
      ]
    },
    {
      "cell_type": "code",
      "source": [
        "a=(1,2,3,4,5,6,7,8,9,10)\n",
        "a[1:5]"
      ],
      "metadata": {
        "colab": {
          "base_uri": "https://localhost:8080/"
        },
        "id": "V62XRi75zUYb",
        "outputId": "89b6bc30-dfc1-492e-aef0-1718e766694b"
      },
      "execution_count": null,
      "outputs": [
        {
          "output_type": "execute_result",
          "data": {
            "text/plain": [
              "(2, 3, 4, 5)"
            ]
          },
          "metadata": {},
          "execution_count": 28
        }
      ]
    },
    {
      "cell_type": "code",
      "source": [
        "a[1:]"
      ],
      "metadata": {
        "colab": {
          "base_uri": "https://localhost:8080/"
        },
        "id": "HeYhsa84zffF",
        "outputId": "b59a02e0-26c0-45f6-a787-bcbc0528319f"
      },
      "execution_count": null,
      "outputs": [
        {
          "output_type": "execute_result",
          "data": {
            "text/plain": [
              "(2, 3, 4, 5, 6, 7, 8, 9, 10)"
            ]
          },
          "metadata": {},
          "execution_count": 29
        }
      ]
    },
    {
      "cell_type": "code",
      "source": [
        "a[:5]"
      ],
      "metadata": {
        "colab": {
          "base_uri": "https://localhost:8080/"
        },
        "id": "_wGYKYmdzkyr",
        "outputId": "a87f41d3-24b9-44fd-f9fb-48ef5d0e1721"
      },
      "execution_count": null,
      "outputs": [
        {
          "output_type": "execute_result",
          "data": {
            "text/plain": [
              "(1, 2, 3, 4, 5)"
            ]
          },
          "metadata": {},
          "execution_count": 30
        }
      ]
    },
    {
      "cell_type": "code",
      "source": [
        "a[::2]"
      ],
      "metadata": {
        "colab": {
          "base_uri": "https://localhost:8080/"
        },
        "id": "Pk-OGNcUzm2w",
        "outputId": "6e50d488-bef2-4289-a10a-8fbe5911a30d"
      },
      "execution_count": null,
      "outputs": [
        {
          "output_type": "execute_result",
          "data": {
            "text/plain": [
              "(1, 3, 5, 7, 9)"
            ]
          },
          "metadata": {},
          "execution_count": 31
        }
      ]
    },
    {
      "cell_type": "code",
      "source": [
        "a[::-1]"
      ],
      "metadata": {
        "colab": {
          "base_uri": "https://localhost:8080/"
        },
        "id": "4Z6RrR-Hzqj-",
        "outputId": "589df36e-f38b-4bc9-a907-9c1eb73bde9c"
      },
      "execution_count": null,
      "outputs": [
        {
          "output_type": "execute_result",
          "data": {
            "text/plain": [
              "(10, 9, 8, 7, 6, 5, 4, 3, 2, 1)"
            ]
          },
          "metadata": {},
          "execution_count": 32
        }
      ]
    },
    {
      "cell_type": "code",
      "source": [
        "a[::-2]"
      ],
      "metadata": {
        "colab": {
          "base_uri": "https://localhost:8080/"
        },
        "id": "mPakS3_JztFY",
        "outputId": "95e3d350-e0a1-4c12-950d-d0f02a3a3f3b"
      },
      "execution_count": null,
      "outputs": [
        {
          "output_type": "execute_result",
          "data": {
            "text/plain": [
              "(10, 8, 6, 4, 2)"
            ]
          },
          "metadata": {},
          "execution_count": 33
        }
      ]
    },
    {
      "cell_type": "code",
      "source": [
        "tuple1"
      ],
      "metadata": {
        "colab": {
          "base_uri": "https://localhost:8080/"
        },
        "id": "8bL-tLWbzxVN",
        "outputId": "062c7514-c60c-4c15-88d5-2b669a8937ab"
      },
      "execution_count": null,
      "outputs": [
        {
          "output_type": "execute_result",
          "data": {
            "text/plain": [
              "('Erhan', 25, 'Erzurum')"
            ]
          },
          "metadata": {},
          "execution_count": 34
        }
      ]
    },
    {
      "cell_type": "code",
      "source": [
        "ad,yaş,şehir=tuple1"
      ],
      "metadata": {
        "id": "ySUjLsZsz9bh"
      },
      "execution_count": null,
      "outputs": []
    },
    {
      "cell_type": "code",
      "source": [
        "ad"
      ],
      "metadata": {
        "colab": {
          "base_uri": "https://localhost:8080/",
          "height": 35
        },
        "id": "FTM6QCwq0BrY",
        "outputId": "3b468144-afb7-4ecb-d4d2-4e47fddd4410"
      },
      "execution_count": null,
      "outputs": [
        {
          "output_type": "execute_result",
          "data": {
            "text/plain": [
              "'Erhan'"
            ],
            "application/vnd.google.colaboratory.intrinsic+json": {
              "type": "string"
            }
          },
          "metadata": {},
          "execution_count": 36
        }
      ]
    },
    {
      "cell_type": "code",
      "source": [
        "yaş"
      ],
      "metadata": {
        "colab": {
          "base_uri": "https://localhost:8080/"
        },
        "id": "Tb6TTAl50CrQ",
        "outputId": "2bb4028e-1b15-4205-8bf8-0b98a0513d76"
      },
      "execution_count": null,
      "outputs": [
        {
          "output_type": "execute_result",
          "data": {
            "text/plain": [
              "25"
            ]
          },
          "metadata": {},
          "execution_count": 37
        }
      ]
    },
    {
      "cell_type": "code",
      "source": [
        "şehir"
      ],
      "metadata": {
        "colab": {
          "base_uri": "https://localhost:8080/",
          "height": 35
        },
        "id": "vKMAzvoX0Dlw",
        "outputId": "1011710f-8899-4a70-f5f1-61f9726ee336"
      },
      "execution_count": null,
      "outputs": [
        {
          "output_type": "execute_result",
          "data": {
            "text/plain": [
              "'Erzurum'"
            ],
            "application/vnd.google.colaboratory.intrinsic+json": {
              "type": "string"
            }
          },
          "metadata": {},
          "execution_count": 38
        }
      ]
    },
    {
      "cell_type": "code",
      "source": [
        "tuple2=(0,1,2,3,4,5)\n",
        "tuple2"
      ],
      "metadata": {
        "colab": {
          "base_uri": "https://localhost:8080/"
        },
        "id": "wEfLCX6s0EOI",
        "outputId": "2d087a45-6426-49fe-8bdd-9957103003a4"
      },
      "execution_count": null,
      "outputs": [
        {
          "output_type": "execute_result",
          "data": {
            "text/plain": [
              "(0, 1, 2, 3, 4, 5)"
            ]
          },
          "metadata": {},
          "execution_count": 40
        }
      ]
    },
    {
      "cell_type": "code",
      "source": [
        "ilkEleman,*ortaEleman,sonEleman=tuple2 #Yıldız işareti eklemelisinki ortadaki hepsini döndürsün."
      ],
      "metadata": {
        "id": "EtW5Vaea0QPm"
      },
      "execution_count": null,
      "outputs": []
    },
    {
      "cell_type": "code",
      "source": [
        "ilkEleman"
      ],
      "metadata": {
        "colab": {
          "base_uri": "https://localhost:8080/"
        },
        "id": "tKdXQIBa0ZtU",
        "outputId": "62c37843-3d67-4c97-e3d8-2ebcd2aa77b6"
      },
      "execution_count": null,
      "outputs": [
        {
          "output_type": "execute_result",
          "data": {
            "text/plain": [
              "0"
            ]
          },
          "metadata": {},
          "execution_count": 43
        }
      ]
    },
    {
      "cell_type": "code",
      "source": [
        "sonEleman"
      ],
      "metadata": {
        "colab": {
          "base_uri": "https://localhost:8080/"
        },
        "id": "z02u5q150evj",
        "outputId": "d2c669af-cf0e-483d-d3c8-b77887619122"
      },
      "execution_count": null,
      "outputs": [
        {
          "output_type": "execute_result",
          "data": {
            "text/plain": [
              "5"
            ]
          },
          "metadata": {},
          "execution_count": 44
        }
      ]
    },
    {
      "cell_type": "code",
      "source": [
        "ortaEleman"
      ],
      "metadata": {
        "colab": {
          "base_uri": "https://localhost:8080/"
        },
        "id": "nisWFX0t0ge3",
        "outputId": "820c2e79-ca7e-48ec-86cd-361486271959"
      },
      "execution_count": null,
      "outputs": [
        {
          "output_type": "execute_result",
          "data": {
            "text/plain": [
              "[1, 2, 3, 4]"
            ]
          },
          "metadata": {},
          "execution_count": 45
        }
      ]
    },
    {
      "cell_type": "code",
      "source": [
        "ortaEleman=tuple(ortaEleman)\n",
        "ortaEleman"
      ],
      "metadata": {
        "colab": {
          "base_uri": "https://localhost:8080/"
        },
        "id": "2MvipGiO0h--",
        "outputId": "3c801402-c6d5-4b4e-82fe-d6cd7819d72c"
      },
      "execution_count": null,
      "outputs": [
        {
          "output_type": "execute_result",
          "data": {
            "text/plain": [
              "(1, 2, 3, 4)"
            ]
          },
          "metadata": {},
          "execution_count": 46
        }
      ]
    },
    {
      "cell_type": "code",
      "source": [
        "a=((0,1,2),(3,4,5)(6,7,8))\n",
        "a"
      ],
      "metadata": {
        "colab": {
          "base_uri": "https://localhost:8080/"
        },
        "id": "nEHfYoMs0pzW",
        "outputId": "af28cb6d-3925-41e9-9188-ce1048a2c979"
      },
      "execution_count": null,
      "outputs": [
        {
          "output_type": "execute_result",
          "data": {
            "text/plain": [
              "((0, 1, 2), (3, 4, 5, (6, 7, 8)))"
            ]
          },
          "metadata": {},
          "execution_count": 47
        }
      ]
    },
    {
      "cell_type": "code",
      "source": [
        "a[1][2]"
      ],
      "metadata": {
        "colab": {
          "base_uri": "https://localhost:8080/"
        },
        "id": "TOHgo_r01CWv",
        "outputId": "dae813de-7eb0-40a6-d93d-46da87aabdf3"
      },
      "execution_count": null,
      "outputs": [
        {
          "output_type": "execute_result",
          "data": {
            "text/plain": [
              "5"
            ]
          },
          "metadata": {},
          "execution_count": 48
        }
      ]
    },
    {
      "cell_type": "code",
      "source": [
        "tuple1"
      ],
      "metadata": {
        "colab": {
          "base_uri": "https://localhost:8080/"
        },
        "id": "OB7c0ZFp1D4G",
        "outputId": "5743137d-c01c-465a-b0cb-4ea7178091ed"
      },
      "execution_count": null,
      "outputs": [
        {
          "output_type": "execute_result",
          "data": {
            "text/plain": [
              "('Erhan', 25, 'Erzurum')"
            ]
          },
          "metadata": {},
          "execution_count": 49
        }
      ]
    },
    {
      "cell_type": "code",
      "source": [
        "tuple1[1]"
      ],
      "metadata": {
        "colab": {
          "base_uri": "https://localhost:8080/"
        },
        "id": "brqCgech1H4y",
        "outputId": "fb14d339-d9ae-45c4-d8e8-0d9d3965d736"
      },
      "execution_count": null,
      "outputs": [
        {
          "output_type": "execute_result",
          "data": {
            "text/plain": [
              "25"
            ]
          },
          "metadata": {},
          "execution_count": 51
        }
      ]
    },
    {
      "cell_type": "code",
      "source": [
        "tuple1[1]=40 #tuple değiştirelemez"
      ],
      "metadata": {
        "colab": {
          "base_uri": "https://localhost:8080/",
          "height": 141
        },
        "id": "alwhXbW01JvW",
        "outputId": "d9104e36-fe5f-4ec9-bfb3-7d0bd58a32e0"
      },
      "execution_count": null,
      "outputs": [
        {
          "output_type": "error",
          "ename": "TypeError",
          "evalue": "'tuple' object does not support item assignment",
          "traceback": [
            "\u001b[0;31m---------------------------------------------------------------------------\u001b[0m",
            "\u001b[0;31mTypeError\u001b[0m                                 Traceback (most recent call last)",
            "\u001b[0;32m<ipython-input-53-bee5c643edf4>\u001b[0m in \u001b[0;36m<cell line: 0>\u001b[0;34m()\u001b[0m\n\u001b[0;32m----> 1\u001b[0;31m \u001b[0mtuple1\u001b[0m\u001b[0;34m[\u001b[0m\u001b[0;36m1\u001b[0m\u001b[0;34m]\u001b[0m\u001b[0;34m=\u001b[0m\u001b[0;36m40\u001b[0m\u001b[0;34m\u001b[0m\u001b[0;34m\u001b[0m\u001b[0m\n\u001b[0m",
            "\u001b[0;31mTypeError\u001b[0m: 'tuple' object does not support item assignment"
          ]
        }
      ]
    },
    {
      "cell_type": "code",
      "source": [
        "import sys\n",
        "liste=[1,2,3,4,5,\"merhaba\",3.14,True]\n",
        "tuple9=(1,2,3,4,5,\"merhaba\",3.14,True)\n",
        "print(sys.getsizeof(liste),\"byte\")\n",
        "print(sys.getsizeof(tuple9),\"byte\")\n",
        "\n",
        "import timeit\n",
        "print(timeit.timeit(stmt=\"[1,2,3,4,5,'merhaba',3.14,True]\"))\n",
        "print(timeit.timeit(stmt=\"(1,2,3,4,5,'merhaba',3.14,True)\"))"
      ],
      "metadata": {
        "colab": {
          "base_uri": "https://localhost:8080/"
        },
        "id": "yRxOX68M1NsM",
        "outputId": "9231ecfd-8e15-403f-bba1-4205ba59cd2b"
      },
      "execution_count": null,
      "outputs": [
        {
          "output_type": "stream",
          "name": "stdout",
          "text": [
            "120 byte\n",
            "104 byte\n",
            "0.05885777399998915\n",
            "0.008369483000024047\n"
          ]
        }
      ]
    },
    {
      "cell_type": "markdown",
      "source": [
        "# **SÖZLÜK**"
      ],
      "metadata": {
        "id": "-vhVD5ja2Ud2"
      }
    },
    {
      "cell_type": "code",
      "source": [
        "sözlük={\"isim\":\"Erhan\",\"yaş\":25,\"şehir\":\"Erzurum\"}\n",
        "sözlük"
      ],
      "metadata": {
        "colab": {
          "base_uri": "https://localhost:8080/"
        },
        "id": "NTmoNBmu2X8_",
        "outputId": "84f3f656-b4b3-4b48-fc7f-3a15a453a2b0"
      },
      "execution_count": null,
      "outputs": [
        {
          "output_type": "execute_result",
          "data": {
            "text/plain": [
              "{'isim': 'Erhan', 'yaş': 25, 'şehir': 'Erzurum'}"
            ]
          },
          "metadata": {},
          "execution_count": 56
        }
      ]
    },
    {
      "cell_type": "code",
      "source": [
        "sözlük[\"isim\"]"
      ],
      "metadata": {
        "colab": {
          "base_uri": "https://localhost:8080/",
          "height": 35
        },
        "id": "UHcg2Bnh2k5o",
        "outputId": "f2db233e-51d6-4d0d-8e82-9f3b664be807"
      },
      "execution_count": null,
      "outputs": [
        {
          "output_type": "execute_result",
          "data": {
            "text/plain": [
              "'Erhan'"
            ],
            "application/vnd.google.colaboratory.intrinsic+json": {
              "type": "string"
            }
          },
          "metadata": {},
          "execution_count": 57
        }
      ]
    },
    {
      "cell_type": "code",
      "source": [
        "sözlük[\"yaş\"]"
      ],
      "metadata": {
        "colab": {
          "base_uri": "https://localhost:8080/"
        },
        "id": "DGuDId8Y2th4",
        "outputId": "cbf94614-4be3-4080-9677-7fddd550792f"
      },
      "execution_count": null,
      "outputs": [
        {
          "output_type": "execute_result",
          "data": {
            "text/plain": [
              "25"
            ]
          },
          "metadata": {},
          "execution_count": 59
        }
      ]
    },
    {
      "cell_type": "code",
      "source": [
        "sözlük[\"şehir\"]"
      ],
      "metadata": {
        "colab": {
          "base_uri": "https://localhost:8080/",
          "height": 35
        },
        "id": "hw6cTq-A2v-J",
        "outputId": "6b3d4127-5b35-4e6c-f17a-c826496e324e"
      },
      "execution_count": null,
      "outputs": [
        {
          "output_type": "execute_result",
          "data": {
            "text/plain": [
              "'Erzurum'"
            ],
            "application/vnd.google.colaboratory.intrinsic+json": {
              "type": "string"
            }
          },
          "metadata": {},
          "execution_count": 60
        }
      ]
    },
    {
      "cell_type": "code",
      "source": [
        "sözlük[\"meslek\"]=\"Öğrenci\""
      ],
      "metadata": {
        "id": "5EoHmQ5j2y8K"
      },
      "execution_count": null,
      "outputs": []
    },
    {
      "cell_type": "code",
      "source": [
        "sözlük"
      ],
      "metadata": {
        "colab": {
          "base_uri": "https://localhost:8080/"
        },
        "id": "xwXuVDX429wu",
        "outputId": "fc0ec051-6a1a-4369-f55d-dda8bd84c756"
      },
      "execution_count": null,
      "outputs": [
        {
          "output_type": "execute_result",
          "data": {
            "text/plain": [
              "{'isim': 'Erhan', 'yaş': 25, 'şehir': 'Erzurum', 'meslek': 'Öğrenci'}"
            ]
          },
          "metadata": {},
          "execution_count": 62
        }
      ]
    },
    {
      "cell_type": "code",
      "source": [
        "sözlük[\"eposta\"]=\"erhan@gmail.com\""
      ],
      "metadata": {
        "id": "leG_V_aK2_WY"
      },
      "execution_count": null,
      "outputs": []
    },
    {
      "cell_type": "code",
      "source": [
        "sözlük"
      ],
      "metadata": {
        "colab": {
          "base_uri": "https://localhost:8080/"
        },
        "id": "g4RGBed63FH6",
        "outputId": "bee6258f-a8d2-43fb-9661-1791764dd57c"
      },
      "execution_count": null,
      "outputs": [
        {
          "output_type": "execute_result",
          "data": {
            "text/plain": [
              "{'isim': 'Erhan',\n",
              " 'yaş': 25,\n",
              " 'şehir': 'Erzurum',\n",
              " 'meslek': 'Öğrenci',\n",
              " 'eposta': 'erhan@gmail.com'}"
            ]
          },
          "metadata": {},
          "execution_count": 64
        }
      ]
    },
    {
      "cell_type": "code",
      "source": [
        "del sözlük [\"eposta\"]"
      ],
      "metadata": {
        "id": "QJDQ1YPT3Fon"
      },
      "execution_count": null,
      "outputs": []
    },
    {
      "cell_type": "code",
      "source": [
        "sözlük"
      ],
      "metadata": {
        "colab": {
          "base_uri": "https://localhost:8080/"
        },
        "id": "mISsK4gm3XCy",
        "outputId": "e62fa971-3afd-440f-9cca-d22ee29a9b70"
      },
      "execution_count": null,
      "outputs": [
        {
          "output_type": "execute_result",
          "data": {
            "text/plain": [
              "{'isim': 'Erhan', 'yaş': 25, 'şehir': 'Erzurum', 'meslek': 'Öğrenci'}"
            ]
          },
          "metadata": {},
          "execution_count": 66
        }
      ]
    },
    {
      "cell_type": "code",
      "source": [
        "sözlük.pop(\"yaş\")"
      ],
      "metadata": {
        "colab": {
          "base_uri": "https://localhost:8080/"
        },
        "id": "mQ-UZE0h3Xyg",
        "outputId": "f805beb8-2d76-4de7-aa61-95baf5c0003e"
      },
      "execution_count": null,
      "outputs": [
        {
          "output_type": "execute_result",
          "data": {
            "text/plain": [
              "25"
            ]
          },
          "metadata": {},
          "execution_count": 67
        }
      ]
    },
    {
      "cell_type": "code",
      "source": [
        "sözlük"
      ],
      "metadata": {
        "colab": {
          "base_uri": "https://localhost:8080/"
        },
        "id": "e9JD3p393eCH",
        "outputId": "14e8738d-0666-40b5-fc3f-d32a3551fe1c"
      },
      "execution_count": null,
      "outputs": [
        {
          "output_type": "execute_result",
          "data": {
            "text/plain": [
              "{'isim': 'Erhan', 'şehir': 'Erzurum', 'meslek': 'Öğrenci'}"
            ]
          },
          "metadata": {},
          "execution_count": 68
        }
      ]
    },
    {
      "cell_type": "code",
      "source": [
        "sözlük.popitem()"
      ],
      "metadata": {
        "colab": {
          "base_uri": "https://localhost:8080/"
        },
        "id": "xL-XGN0g3e6M",
        "outputId": "d8f87c1c-1640-4cf9-a300-6d2eb3ada210"
      },
      "execution_count": null,
      "outputs": [
        {
          "output_type": "execute_result",
          "data": {
            "text/plain": [
              "('meslek', 'Öğrenci')"
            ]
          },
          "metadata": {},
          "execution_count": 69
        }
      ]
    },
    {
      "cell_type": "code",
      "source": [
        "sözlük"
      ],
      "metadata": {
        "colab": {
          "base_uri": "https://localhost:8080/"
        },
        "id": "Gn7PFCNc3lb5",
        "outputId": "22e24fc2-75d5-4c61-94e3-1d4216a95703"
      },
      "execution_count": null,
      "outputs": [
        {
          "output_type": "execute_result",
          "data": {
            "text/plain": [
              "{'isim': 'Erhan', 'şehir': 'Erzurum'}"
            ]
          },
          "metadata": {},
          "execution_count": 70
        }
      ]
    },
    {
      "cell_type": "code",
      "source": [
        "sözlük.clear()#Tamamen siler."
      ],
      "metadata": {
        "id": "aoYmcrdA3md8"
      },
      "execution_count": null,
      "outputs": []
    },
    {
      "cell_type": "code",
      "source": [
        "sözlük"
      ],
      "metadata": {
        "colab": {
          "base_uri": "https://localhost:8080/"
        },
        "id": "0p72X2V93415",
        "outputId": "2e423424-b3f5-4698-dc5f-21ced40a19f1"
      },
      "execution_count": null,
      "outputs": [
        {
          "output_type": "execute_result",
          "data": {
            "text/plain": [
              "{}"
            ]
          },
          "metadata": {},
          "execution_count": 74
        }
      ]
    },
    {
      "cell_type": "code",
      "source": [
        "sözlük={\"isim\":\"Erhan\",\"yaş\":25,\"şehir\":\"Erzurum\"}\n",
        "\n",
        "if \"isim\" in sözlük:\n",
        "  print(\"isim sözlük içinde var.\")\n",
        "else:\n",
        "  print(\"isim sözlük içinde yok.\")"
      ],
      "metadata": {
        "colab": {
          "base_uri": "https://localhost:8080/"
        },
        "id": "Rzd_9VS338jq",
        "outputId": "56140cb3-9925-4195-c617-ad6cd121ff23"
      },
      "execution_count": null,
      "outputs": [
        {
          "output_type": "stream",
          "name": "stdout",
          "text": [
            "isim sözlük içinde var.\n"
          ]
        }
      ]
    },
    {
      "cell_type": "code",
      "source": [
        "for i in sözlük:\n",
        "  print(i,sözlük[i])"
      ],
      "metadata": {
        "colab": {
          "base_uri": "https://localhost:8080/"
        },
        "id": "txzXkyMI4CO_",
        "outputId": "541a2138-8005-4a76-c807-73b3a94a43d4"
      },
      "execution_count": null,
      "outputs": [
        {
          "output_type": "stream",
          "name": "stdout",
          "text": [
            "isim Erhan\n",
            "yaş 25\n",
            "şehir Erzurum\n"
          ]
        }
      ]
    },
    {
      "cell_type": "code",
      "source": [
        "for i in sözlük.keys():\n",
        "  print(i)"
      ],
      "metadata": {
        "colab": {
          "base_uri": "https://localhost:8080/"
        },
        "id": "qPhvW06E4oAQ",
        "outputId": "624bb4e4-6563-438d-c368-ac80317b061c"
      },
      "execution_count": null,
      "outputs": [
        {
          "output_type": "stream",
          "name": "stdout",
          "text": [
            "isim\n",
            "yaş\n",
            "şehir\n"
          ]
        }
      ]
    },
    {
      "cell_type": "code",
      "source": [
        "for i in sözlük.values():\n",
        "  print(i)"
      ],
      "metadata": {
        "colab": {
          "base_uri": "https://localhost:8080/"
        },
        "id": "pdWosGS6432L",
        "outputId": "db576a9c-51c9-4cb8-e1b2-d71334aff09f"
      },
      "execution_count": null,
      "outputs": [
        {
          "output_type": "stream",
          "name": "stdout",
          "text": [
            "Erhan\n",
            "25\n",
            "Erzurum\n"
          ]
        }
      ]
    },
    {
      "cell_type": "code",
      "source": [
        "sözlük.items()"
      ],
      "metadata": {
        "colab": {
          "base_uri": "https://localhost:8080/"
        },
        "id": "gdF_OJm44-5I",
        "outputId": "f2eef74a-5f0a-4c05-aa81-54e249bc31b6"
      },
      "execution_count": null,
      "outputs": [
        {
          "output_type": "execute_result",
          "data": {
            "text/plain": [
              "dict_items([('isim', 'Erhan'), ('yaş', 25), ('şehir', 'Erzurum')])"
            ]
          },
          "metadata": {},
          "execution_count": 86
        }
      ]
    },
    {
      "cell_type": "code",
      "source": [
        "for anahtar, değer in sözlük.items():\n",
        "  print(anahtar,\":\",değer)"
      ],
      "metadata": {
        "colab": {
          "base_uri": "https://localhost:8080/"
        },
        "id": "jnKp9ABI5EUf",
        "outputId": "eb7fa710-6213-4e05-952a-4c323f742a99"
      },
      "execution_count": null,
      "outputs": [
        {
          "output_type": "stream",
          "name": "stdout",
          "text": [
            "isim : Erhan\n",
            "yaş : 25\n",
            "şehir : Erzurum\n"
          ]
        }
      ]
    },
    {
      "cell_type": "code",
      "source": [
        "sözlük[\"isim\"]=\"Mete\"\n",
        "sözlük"
      ],
      "metadata": {
        "colab": {
          "base_uri": "https://localhost:8080/"
        },
        "id": "CDN9Phjx5NoM",
        "outputId": "d11ab59e-7f62-44c6-f60b-0ad2bacd84bc"
      },
      "execution_count": null,
      "outputs": [
        {
          "output_type": "execute_result",
          "data": {
            "text/plain": [
              "{'isim': 'Mete', 'yaş': 25, 'şehir': 'Erzurum'}"
            ]
          },
          "metadata": {},
          "execution_count": 92
        }
      ]
    },
    {
      "cell_type": "code",
      "source": [
        "a=dict(sözlük)\n",
        "type(a)"
      ],
      "metadata": {
        "colab": {
          "base_uri": "https://localhost:8080/"
        },
        "id": "7zSf2ieq5dTf",
        "outputId": "1eb859ee-0790-4ce6-db3e-02d0de49a5cf"
      },
      "execution_count": null,
      "outputs": [
        {
          "output_type": "execute_result",
          "data": {
            "text/plain": [
              "dict"
            ]
          },
          "metadata": {},
          "execution_count": 94
        }
      ]
    },
    {
      "cell_type": "code",
      "source": [
        "sözlük2=dict(isim=\"Erhan\",yaş=40,şehir=\"Trabzon\")\n",
        "\n",
        "sözlük.update(sözlük2)\n",
        "\n",
        "sözlük"
      ],
      "metadata": {
        "colab": {
          "base_uri": "https://localhost:8080/"
        },
        "id": "Fkr9MuaQ5iUd",
        "outputId": "86b76823-2940-4660-8330-1f6c4e20324a"
      },
      "execution_count": null,
      "outputs": [
        {
          "output_type": "execute_result",
          "data": {
            "text/plain": [
              "{'isim': 'Erhan', 'yaş': 40, 'şehir': 'Trabzon'}"
            ]
          },
          "metadata": {},
          "execution_count": 96
        }
      ]
    },
    {
      "cell_type": "code",
      "source": [
        "import pandas as pd\n",
        "sözlük = {\n",
        "    \"İsim\": [\"Ahmet\", \"Mehmet\", \"Ayşe\",\"Ebru\"],\n",
        "    \"Yaş\": [25, 30, 28,45],\n",
        "    \"Şehir\": [\"İstanbul\", \"Ankara\", \"İzmir\",\"Trabzon\"]\n",
        "}\n",
        "df = pd.DataFrame(sözlük)\n",
        "df"
      ],
      "metadata": {
        "colab": {
          "base_uri": "https://localhost:8080/",
          "height": 175
        },
        "id": "JD9bMf4F5uE5",
        "outputId": "17f68e3d-0466-4d96-db48-b0902f888edf"
      },
      "execution_count": null,
      "outputs": [
        {
          "output_type": "execute_result",
          "data": {
            "text/plain": [
              "     İsim  Yaş     Şehir\n",
              "0   Ahmet   25  İstanbul\n",
              "1  Mehmet   30    Ankara\n",
              "2    Ayşe   28     İzmir\n",
              "3    Ebru   45   Trabzon"
            ],
            "text/html": [
              "\n",
              "  <div id=\"df-040d3b1c-3b52-4ca6-9388-70ab028fc51f\" class=\"colab-df-container\">\n",
              "    <div>\n",
              "<style scoped>\n",
              "    .dataframe tbody tr th:only-of-type {\n",
              "        vertical-align: middle;\n",
              "    }\n",
              "\n",
              "    .dataframe tbody tr th {\n",
              "        vertical-align: top;\n",
              "    }\n",
              "\n",
              "    .dataframe thead th {\n",
              "        text-align: right;\n",
              "    }\n",
              "</style>\n",
              "<table border=\"1\" class=\"dataframe\">\n",
              "  <thead>\n",
              "    <tr style=\"text-align: right;\">\n",
              "      <th></th>\n",
              "      <th>İsim</th>\n",
              "      <th>Yaş</th>\n",
              "      <th>Şehir</th>\n",
              "    </tr>\n",
              "  </thead>\n",
              "  <tbody>\n",
              "    <tr>\n",
              "      <th>0</th>\n",
              "      <td>Ahmet</td>\n",
              "      <td>25</td>\n",
              "      <td>İstanbul</td>\n",
              "    </tr>\n",
              "    <tr>\n",
              "      <th>1</th>\n",
              "      <td>Mehmet</td>\n",
              "      <td>30</td>\n",
              "      <td>Ankara</td>\n",
              "    </tr>\n",
              "    <tr>\n",
              "      <th>2</th>\n",
              "      <td>Ayşe</td>\n",
              "      <td>28</td>\n",
              "      <td>İzmir</td>\n",
              "    </tr>\n",
              "    <tr>\n",
              "      <th>3</th>\n",
              "      <td>Ebru</td>\n",
              "      <td>45</td>\n",
              "      <td>Trabzon</td>\n",
              "    </tr>\n",
              "  </tbody>\n",
              "</table>\n",
              "</div>\n",
              "    <div class=\"colab-df-buttons\">\n",
              "\n",
              "  <div class=\"colab-df-container\">\n",
              "    <button class=\"colab-df-convert\" onclick=\"convertToInteractive('df-040d3b1c-3b52-4ca6-9388-70ab028fc51f')\"\n",
              "            title=\"Convert this dataframe to an interactive table.\"\n",
              "            style=\"display:none;\">\n",
              "\n",
              "  <svg xmlns=\"http://www.w3.org/2000/svg\" height=\"24px\" viewBox=\"0 -960 960 960\">\n",
              "    <path d=\"M120-120v-720h720v720H120Zm60-500h600v-160H180v160Zm220 220h160v-160H400v160Zm0 220h160v-160H400v160ZM180-400h160v-160H180v160Zm440 0h160v-160H620v160ZM180-180h160v-160H180v160Zm440 0h160v-160H620v160Z\"/>\n",
              "  </svg>\n",
              "    </button>\n",
              "\n",
              "  <style>\n",
              "    .colab-df-container {\n",
              "      display:flex;\n",
              "      gap: 12px;\n",
              "    }\n",
              "\n",
              "    .colab-df-convert {\n",
              "      background-color: #E8F0FE;\n",
              "      border: none;\n",
              "      border-radius: 50%;\n",
              "      cursor: pointer;\n",
              "      display: none;\n",
              "      fill: #1967D2;\n",
              "      height: 32px;\n",
              "      padding: 0 0 0 0;\n",
              "      width: 32px;\n",
              "    }\n",
              "\n",
              "    .colab-df-convert:hover {\n",
              "      background-color: #E2EBFA;\n",
              "      box-shadow: 0px 1px 2px rgba(60, 64, 67, 0.3), 0px 1px 3px 1px rgba(60, 64, 67, 0.15);\n",
              "      fill: #174EA6;\n",
              "    }\n",
              "\n",
              "    .colab-df-buttons div {\n",
              "      margin-bottom: 4px;\n",
              "    }\n",
              "\n",
              "    [theme=dark] .colab-df-convert {\n",
              "      background-color: #3B4455;\n",
              "      fill: #D2E3FC;\n",
              "    }\n",
              "\n",
              "    [theme=dark] .colab-df-convert:hover {\n",
              "      background-color: #434B5C;\n",
              "      box-shadow: 0px 1px 3px 1px rgba(0, 0, 0, 0.15);\n",
              "      filter: drop-shadow(0px 1px 2px rgba(0, 0, 0, 0.3));\n",
              "      fill: #FFFFFF;\n",
              "    }\n",
              "  </style>\n",
              "\n",
              "    <script>\n",
              "      const buttonEl =\n",
              "        document.querySelector('#df-040d3b1c-3b52-4ca6-9388-70ab028fc51f button.colab-df-convert');\n",
              "      buttonEl.style.display =\n",
              "        google.colab.kernel.accessAllowed ? 'block' : 'none';\n",
              "\n",
              "      async function convertToInteractive(key) {\n",
              "        const element = document.querySelector('#df-040d3b1c-3b52-4ca6-9388-70ab028fc51f');\n",
              "        const dataTable =\n",
              "          await google.colab.kernel.invokeFunction('convertToInteractive',\n",
              "                                                    [key], {});\n",
              "        if (!dataTable) return;\n",
              "\n",
              "        const docLinkHtml = 'Like what you see? Visit the ' +\n",
              "          '<a target=\"_blank\" href=https://colab.research.google.com/notebooks/data_table.ipynb>data table notebook</a>'\n",
              "          + ' to learn more about interactive tables.';\n",
              "        element.innerHTML = '';\n",
              "        dataTable['output_type'] = 'display_data';\n",
              "        await google.colab.output.renderOutput(dataTable, element);\n",
              "        const docLink = document.createElement('div');\n",
              "        docLink.innerHTML = docLinkHtml;\n",
              "        element.appendChild(docLink);\n",
              "      }\n",
              "    </script>\n",
              "  </div>\n",
              "\n",
              "\n",
              "<div id=\"df-58e8f7da-2411-4dde-9b45-bb680a5c46e4\">\n",
              "  <button class=\"colab-df-quickchart\" onclick=\"quickchart('df-58e8f7da-2411-4dde-9b45-bb680a5c46e4')\"\n",
              "            title=\"Suggest charts\"\n",
              "            style=\"display:none;\">\n",
              "\n",
              "<svg xmlns=\"http://www.w3.org/2000/svg\" height=\"24px\"viewBox=\"0 0 24 24\"\n",
              "     width=\"24px\">\n",
              "    <g>\n",
              "        <path d=\"M19 3H5c-1.1 0-2 .9-2 2v14c0 1.1.9 2 2 2h14c1.1 0 2-.9 2-2V5c0-1.1-.9-2-2-2zM9 17H7v-7h2v7zm4 0h-2V7h2v10zm4 0h-2v-4h2v4z\"/>\n",
              "    </g>\n",
              "</svg>\n",
              "  </button>\n",
              "\n",
              "<style>\n",
              "  .colab-df-quickchart {\n",
              "      --bg-color: #E8F0FE;\n",
              "      --fill-color: #1967D2;\n",
              "      --hover-bg-color: #E2EBFA;\n",
              "      --hover-fill-color: #174EA6;\n",
              "      --disabled-fill-color: #AAA;\n",
              "      --disabled-bg-color: #DDD;\n",
              "  }\n",
              "\n",
              "  [theme=dark] .colab-df-quickchart {\n",
              "      --bg-color: #3B4455;\n",
              "      --fill-color: #D2E3FC;\n",
              "      --hover-bg-color: #434B5C;\n",
              "      --hover-fill-color: #FFFFFF;\n",
              "      --disabled-bg-color: #3B4455;\n",
              "      --disabled-fill-color: #666;\n",
              "  }\n",
              "\n",
              "  .colab-df-quickchart {\n",
              "    background-color: var(--bg-color);\n",
              "    border: none;\n",
              "    border-radius: 50%;\n",
              "    cursor: pointer;\n",
              "    display: none;\n",
              "    fill: var(--fill-color);\n",
              "    height: 32px;\n",
              "    padding: 0;\n",
              "    width: 32px;\n",
              "  }\n",
              "\n",
              "  .colab-df-quickchart:hover {\n",
              "    background-color: var(--hover-bg-color);\n",
              "    box-shadow: 0 1px 2px rgba(60, 64, 67, 0.3), 0 1px 3px 1px rgba(60, 64, 67, 0.15);\n",
              "    fill: var(--button-hover-fill-color);\n",
              "  }\n",
              "\n",
              "  .colab-df-quickchart-complete:disabled,\n",
              "  .colab-df-quickchart-complete:disabled:hover {\n",
              "    background-color: var(--disabled-bg-color);\n",
              "    fill: var(--disabled-fill-color);\n",
              "    box-shadow: none;\n",
              "  }\n",
              "\n",
              "  .colab-df-spinner {\n",
              "    border: 2px solid var(--fill-color);\n",
              "    border-color: transparent;\n",
              "    border-bottom-color: var(--fill-color);\n",
              "    animation:\n",
              "      spin 1s steps(1) infinite;\n",
              "  }\n",
              "\n",
              "  @keyframes spin {\n",
              "    0% {\n",
              "      border-color: transparent;\n",
              "      border-bottom-color: var(--fill-color);\n",
              "      border-left-color: var(--fill-color);\n",
              "    }\n",
              "    20% {\n",
              "      border-color: transparent;\n",
              "      border-left-color: var(--fill-color);\n",
              "      border-top-color: var(--fill-color);\n",
              "    }\n",
              "    30% {\n",
              "      border-color: transparent;\n",
              "      border-left-color: var(--fill-color);\n",
              "      border-top-color: var(--fill-color);\n",
              "      border-right-color: var(--fill-color);\n",
              "    }\n",
              "    40% {\n",
              "      border-color: transparent;\n",
              "      border-right-color: var(--fill-color);\n",
              "      border-top-color: var(--fill-color);\n",
              "    }\n",
              "    60% {\n",
              "      border-color: transparent;\n",
              "      border-right-color: var(--fill-color);\n",
              "    }\n",
              "    80% {\n",
              "      border-color: transparent;\n",
              "      border-right-color: var(--fill-color);\n",
              "      border-bottom-color: var(--fill-color);\n",
              "    }\n",
              "    90% {\n",
              "      border-color: transparent;\n",
              "      border-bottom-color: var(--fill-color);\n",
              "    }\n",
              "  }\n",
              "</style>\n",
              "\n",
              "  <script>\n",
              "    async function quickchart(key) {\n",
              "      const quickchartButtonEl =\n",
              "        document.querySelector('#' + key + ' button');\n",
              "      quickchartButtonEl.disabled = true;  // To prevent multiple clicks.\n",
              "      quickchartButtonEl.classList.add('colab-df-spinner');\n",
              "      try {\n",
              "        const charts = await google.colab.kernel.invokeFunction(\n",
              "            'suggestCharts', [key], {});\n",
              "      } catch (error) {\n",
              "        console.error('Error during call to suggestCharts:', error);\n",
              "      }\n",
              "      quickchartButtonEl.classList.remove('colab-df-spinner');\n",
              "      quickchartButtonEl.classList.add('colab-df-quickchart-complete');\n",
              "    }\n",
              "    (() => {\n",
              "      let quickchartButtonEl =\n",
              "        document.querySelector('#df-58e8f7da-2411-4dde-9b45-bb680a5c46e4 button');\n",
              "      quickchartButtonEl.style.display =\n",
              "        google.colab.kernel.accessAllowed ? 'block' : 'none';\n",
              "    })();\n",
              "  </script>\n",
              "</div>\n",
              "\n",
              "  <div id=\"id_da71cbb6-c52e-4c61-895a-65f4e6ff3094\">\n",
              "    <style>\n",
              "      .colab-df-generate {\n",
              "        background-color: #E8F0FE;\n",
              "        border: none;\n",
              "        border-radius: 50%;\n",
              "        cursor: pointer;\n",
              "        display: none;\n",
              "        fill: #1967D2;\n",
              "        height: 32px;\n",
              "        padding: 0 0 0 0;\n",
              "        width: 32px;\n",
              "      }\n",
              "\n",
              "      .colab-df-generate:hover {\n",
              "        background-color: #E2EBFA;\n",
              "        box-shadow: 0px 1px 2px rgba(60, 64, 67, 0.3), 0px 1px 3px 1px rgba(60, 64, 67, 0.15);\n",
              "        fill: #174EA6;\n",
              "      }\n",
              "\n",
              "      [theme=dark] .colab-df-generate {\n",
              "        background-color: #3B4455;\n",
              "        fill: #D2E3FC;\n",
              "      }\n",
              "\n",
              "      [theme=dark] .colab-df-generate:hover {\n",
              "        background-color: #434B5C;\n",
              "        box-shadow: 0px 1px 3px 1px rgba(0, 0, 0, 0.15);\n",
              "        filter: drop-shadow(0px 1px 2px rgba(0, 0, 0, 0.3));\n",
              "        fill: #FFFFFF;\n",
              "      }\n",
              "    </style>\n",
              "    <button class=\"colab-df-generate\" onclick=\"generateWithVariable('df')\"\n",
              "            title=\"Generate code using this dataframe.\"\n",
              "            style=\"display:none;\">\n",
              "\n",
              "  <svg xmlns=\"http://www.w3.org/2000/svg\" height=\"24px\"viewBox=\"0 0 24 24\"\n",
              "       width=\"24px\">\n",
              "    <path d=\"M7,19H8.4L18.45,9,17,7.55,7,17.6ZM5,21V16.75L18.45,3.32a2,2,0,0,1,2.83,0l1.4,1.43a1.91,1.91,0,0,1,.58,1.4,1.91,1.91,0,0,1-.58,1.4L9.25,21ZM18.45,9,17,7.55Zm-12,3A5.31,5.31,0,0,0,4.9,8.1,5.31,5.31,0,0,0,1,6.5,5.31,5.31,0,0,0,4.9,4.9,5.31,5.31,0,0,0,6.5,1,5.31,5.31,0,0,0,8.1,4.9,5.31,5.31,0,0,0,12,6.5,5.46,5.46,0,0,0,6.5,12Z\"/>\n",
              "  </svg>\n",
              "    </button>\n",
              "    <script>\n",
              "      (() => {\n",
              "      const buttonEl =\n",
              "        document.querySelector('#id_da71cbb6-c52e-4c61-895a-65f4e6ff3094 button.colab-df-generate');\n",
              "      buttonEl.style.display =\n",
              "        google.colab.kernel.accessAllowed ? 'block' : 'none';\n",
              "\n",
              "      buttonEl.onclick = () => {\n",
              "        google.colab.notebook.generateWithVariable('df');\n",
              "      }\n",
              "      })();\n",
              "    </script>\n",
              "  </div>\n",
              "\n",
              "    </div>\n",
              "  </div>\n"
            ],
            "application/vnd.google.colaboratory.intrinsic+json": {
              "type": "dataframe",
              "variable_name": "df",
              "summary": "{\n  \"name\": \"df\",\n  \"rows\": 4,\n  \"fields\": [\n    {\n      \"column\": \"\\u0130sim\",\n      \"properties\": {\n        \"dtype\": \"string\",\n        \"num_unique_values\": 4,\n        \"samples\": [\n          \"Mehmet\",\n          \"Ebru\",\n          \"Ahmet\"\n        ],\n        \"semantic_type\": \"\",\n        \"description\": \"\"\n      }\n    },\n    {\n      \"column\": \"Ya\\u015f\",\n      \"properties\": {\n        \"dtype\": \"number\",\n        \"std\": 8,\n        \"min\": 25,\n        \"max\": 45,\n        \"num_unique_values\": 4,\n        \"samples\": [\n          30,\n          45,\n          25\n        ],\n        \"semantic_type\": \"\",\n        \"description\": \"\"\n      }\n    },\n    {\n      \"column\": \"\\u015eehir\",\n      \"properties\": {\n        \"dtype\": \"string\",\n        \"num_unique_values\": 4,\n        \"samples\": [\n          \"Ankara\",\n          \"Trabzon\",\n          \"\\u0130stanbul\"\n        ],\n        \"semantic_type\": \"\",\n        \"description\": \"\"\n      }\n    }\n  ]\n}"
            }
          },
          "metadata": {},
          "execution_count": 100
        }
      ]
    },
    {
      "cell_type": "code",
      "source": [
        "df[\"Maaş\"]=None\n",
        "df"
      ],
      "metadata": {
        "colab": {
          "base_uri": "https://localhost:8080/",
          "height": 175
        },
        "id": "x6EMKLre63id",
        "outputId": "30c25953-fca8-4082-8478-7e1eb279fa84"
      },
      "execution_count": null,
      "outputs": [
        {
          "output_type": "execute_result",
          "data": {
            "text/plain": [
              "     İsim  Yaş     Şehir  Maaş\n",
              "0   Ahmet   25  İstanbul  None\n",
              "1  Mehmet   30    Ankara  None\n",
              "2    Ayşe   28     İzmir  None\n",
              "3    Ebru   45   Trabzon  None"
            ],
            "text/html": [
              "\n",
              "  <div id=\"df-b86335b9-e7a8-425f-a0d8-1f8bb5530b60\" class=\"colab-df-container\">\n",
              "    <div>\n",
              "<style scoped>\n",
              "    .dataframe tbody tr th:only-of-type {\n",
              "        vertical-align: middle;\n",
              "    }\n",
              "\n",
              "    .dataframe tbody tr th {\n",
              "        vertical-align: top;\n",
              "    }\n",
              "\n",
              "    .dataframe thead th {\n",
              "        text-align: right;\n",
              "    }\n",
              "</style>\n",
              "<table border=\"1\" class=\"dataframe\">\n",
              "  <thead>\n",
              "    <tr style=\"text-align: right;\">\n",
              "      <th></th>\n",
              "      <th>İsim</th>\n",
              "      <th>Yaş</th>\n",
              "      <th>Şehir</th>\n",
              "      <th>Maaş</th>\n",
              "    </tr>\n",
              "  </thead>\n",
              "  <tbody>\n",
              "    <tr>\n",
              "      <th>0</th>\n",
              "      <td>Ahmet</td>\n",
              "      <td>25</td>\n",
              "      <td>İstanbul</td>\n",
              "      <td>None</td>\n",
              "    </tr>\n",
              "    <tr>\n",
              "      <th>1</th>\n",
              "      <td>Mehmet</td>\n",
              "      <td>30</td>\n",
              "      <td>Ankara</td>\n",
              "      <td>None</td>\n",
              "    </tr>\n",
              "    <tr>\n",
              "      <th>2</th>\n",
              "      <td>Ayşe</td>\n",
              "      <td>28</td>\n",
              "      <td>İzmir</td>\n",
              "      <td>None</td>\n",
              "    </tr>\n",
              "    <tr>\n",
              "      <th>3</th>\n",
              "      <td>Ebru</td>\n",
              "      <td>45</td>\n",
              "      <td>Trabzon</td>\n",
              "      <td>None</td>\n",
              "    </tr>\n",
              "  </tbody>\n",
              "</table>\n",
              "</div>\n",
              "    <div class=\"colab-df-buttons\">\n",
              "\n",
              "  <div class=\"colab-df-container\">\n",
              "    <button class=\"colab-df-convert\" onclick=\"convertToInteractive('df-b86335b9-e7a8-425f-a0d8-1f8bb5530b60')\"\n",
              "            title=\"Convert this dataframe to an interactive table.\"\n",
              "            style=\"display:none;\">\n",
              "\n",
              "  <svg xmlns=\"http://www.w3.org/2000/svg\" height=\"24px\" viewBox=\"0 -960 960 960\">\n",
              "    <path d=\"M120-120v-720h720v720H120Zm60-500h600v-160H180v160Zm220 220h160v-160H400v160Zm0 220h160v-160H400v160ZM180-400h160v-160H180v160Zm440 0h160v-160H620v160ZM180-180h160v-160H180v160Zm440 0h160v-160H620v160Z\"/>\n",
              "  </svg>\n",
              "    </button>\n",
              "\n",
              "  <style>\n",
              "    .colab-df-container {\n",
              "      display:flex;\n",
              "      gap: 12px;\n",
              "    }\n",
              "\n",
              "    .colab-df-convert {\n",
              "      background-color: #E8F0FE;\n",
              "      border: none;\n",
              "      border-radius: 50%;\n",
              "      cursor: pointer;\n",
              "      display: none;\n",
              "      fill: #1967D2;\n",
              "      height: 32px;\n",
              "      padding: 0 0 0 0;\n",
              "      width: 32px;\n",
              "    }\n",
              "\n",
              "    .colab-df-convert:hover {\n",
              "      background-color: #E2EBFA;\n",
              "      box-shadow: 0px 1px 2px rgba(60, 64, 67, 0.3), 0px 1px 3px 1px rgba(60, 64, 67, 0.15);\n",
              "      fill: #174EA6;\n",
              "    }\n",
              "\n",
              "    .colab-df-buttons div {\n",
              "      margin-bottom: 4px;\n",
              "    }\n",
              "\n",
              "    [theme=dark] .colab-df-convert {\n",
              "      background-color: #3B4455;\n",
              "      fill: #D2E3FC;\n",
              "    }\n",
              "\n",
              "    [theme=dark] .colab-df-convert:hover {\n",
              "      background-color: #434B5C;\n",
              "      box-shadow: 0px 1px 3px 1px rgba(0, 0, 0, 0.15);\n",
              "      filter: drop-shadow(0px 1px 2px rgba(0, 0, 0, 0.3));\n",
              "      fill: #FFFFFF;\n",
              "    }\n",
              "  </style>\n",
              "\n",
              "    <script>\n",
              "      const buttonEl =\n",
              "        document.querySelector('#df-b86335b9-e7a8-425f-a0d8-1f8bb5530b60 button.colab-df-convert');\n",
              "      buttonEl.style.display =\n",
              "        google.colab.kernel.accessAllowed ? 'block' : 'none';\n",
              "\n",
              "      async function convertToInteractive(key) {\n",
              "        const element = document.querySelector('#df-b86335b9-e7a8-425f-a0d8-1f8bb5530b60');\n",
              "        const dataTable =\n",
              "          await google.colab.kernel.invokeFunction('convertToInteractive',\n",
              "                                                    [key], {});\n",
              "        if (!dataTable) return;\n",
              "\n",
              "        const docLinkHtml = 'Like what you see? Visit the ' +\n",
              "          '<a target=\"_blank\" href=https://colab.research.google.com/notebooks/data_table.ipynb>data table notebook</a>'\n",
              "          + ' to learn more about interactive tables.';\n",
              "        element.innerHTML = '';\n",
              "        dataTable['output_type'] = 'display_data';\n",
              "        await google.colab.output.renderOutput(dataTable, element);\n",
              "        const docLink = document.createElement('div');\n",
              "        docLink.innerHTML = docLinkHtml;\n",
              "        element.appendChild(docLink);\n",
              "      }\n",
              "    </script>\n",
              "  </div>\n",
              "\n",
              "\n",
              "<div id=\"df-de257940-1244-4a4e-85a8-65cf8488aa36\">\n",
              "  <button class=\"colab-df-quickchart\" onclick=\"quickchart('df-de257940-1244-4a4e-85a8-65cf8488aa36')\"\n",
              "            title=\"Suggest charts\"\n",
              "            style=\"display:none;\">\n",
              "\n",
              "<svg xmlns=\"http://www.w3.org/2000/svg\" height=\"24px\"viewBox=\"0 0 24 24\"\n",
              "     width=\"24px\">\n",
              "    <g>\n",
              "        <path d=\"M19 3H5c-1.1 0-2 .9-2 2v14c0 1.1.9 2 2 2h14c1.1 0 2-.9 2-2V5c0-1.1-.9-2-2-2zM9 17H7v-7h2v7zm4 0h-2V7h2v10zm4 0h-2v-4h2v4z\"/>\n",
              "    </g>\n",
              "</svg>\n",
              "  </button>\n",
              "\n",
              "<style>\n",
              "  .colab-df-quickchart {\n",
              "      --bg-color: #E8F0FE;\n",
              "      --fill-color: #1967D2;\n",
              "      --hover-bg-color: #E2EBFA;\n",
              "      --hover-fill-color: #174EA6;\n",
              "      --disabled-fill-color: #AAA;\n",
              "      --disabled-bg-color: #DDD;\n",
              "  }\n",
              "\n",
              "  [theme=dark] .colab-df-quickchart {\n",
              "      --bg-color: #3B4455;\n",
              "      --fill-color: #D2E3FC;\n",
              "      --hover-bg-color: #434B5C;\n",
              "      --hover-fill-color: #FFFFFF;\n",
              "      --disabled-bg-color: #3B4455;\n",
              "      --disabled-fill-color: #666;\n",
              "  }\n",
              "\n",
              "  .colab-df-quickchart {\n",
              "    background-color: var(--bg-color);\n",
              "    border: none;\n",
              "    border-radius: 50%;\n",
              "    cursor: pointer;\n",
              "    display: none;\n",
              "    fill: var(--fill-color);\n",
              "    height: 32px;\n",
              "    padding: 0;\n",
              "    width: 32px;\n",
              "  }\n",
              "\n",
              "  .colab-df-quickchart:hover {\n",
              "    background-color: var(--hover-bg-color);\n",
              "    box-shadow: 0 1px 2px rgba(60, 64, 67, 0.3), 0 1px 3px 1px rgba(60, 64, 67, 0.15);\n",
              "    fill: var(--button-hover-fill-color);\n",
              "  }\n",
              "\n",
              "  .colab-df-quickchart-complete:disabled,\n",
              "  .colab-df-quickchart-complete:disabled:hover {\n",
              "    background-color: var(--disabled-bg-color);\n",
              "    fill: var(--disabled-fill-color);\n",
              "    box-shadow: none;\n",
              "  }\n",
              "\n",
              "  .colab-df-spinner {\n",
              "    border: 2px solid var(--fill-color);\n",
              "    border-color: transparent;\n",
              "    border-bottom-color: var(--fill-color);\n",
              "    animation:\n",
              "      spin 1s steps(1) infinite;\n",
              "  }\n",
              "\n",
              "  @keyframes spin {\n",
              "    0% {\n",
              "      border-color: transparent;\n",
              "      border-bottom-color: var(--fill-color);\n",
              "      border-left-color: var(--fill-color);\n",
              "    }\n",
              "    20% {\n",
              "      border-color: transparent;\n",
              "      border-left-color: var(--fill-color);\n",
              "      border-top-color: var(--fill-color);\n",
              "    }\n",
              "    30% {\n",
              "      border-color: transparent;\n",
              "      border-left-color: var(--fill-color);\n",
              "      border-top-color: var(--fill-color);\n",
              "      border-right-color: var(--fill-color);\n",
              "    }\n",
              "    40% {\n",
              "      border-color: transparent;\n",
              "      border-right-color: var(--fill-color);\n",
              "      border-top-color: var(--fill-color);\n",
              "    }\n",
              "    60% {\n",
              "      border-color: transparent;\n",
              "      border-right-color: var(--fill-color);\n",
              "    }\n",
              "    80% {\n",
              "      border-color: transparent;\n",
              "      border-right-color: var(--fill-color);\n",
              "      border-bottom-color: var(--fill-color);\n",
              "    }\n",
              "    90% {\n",
              "      border-color: transparent;\n",
              "      border-bottom-color: var(--fill-color);\n",
              "    }\n",
              "  }\n",
              "</style>\n",
              "\n",
              "  <script>\n",
              "    async function quickchart(key) {\n",
              "      const quickchartButtonEl =\n",
              "        document.querySelector('#' + key + ' button');\n",
              "      quickchartButtonEl.disabled = true;  // To prevent multiple clicks.\n",
              "      quickchartButtonEl.classList.add('colab-df-spinner');\n",
              "      try {\n",
              "        const charts = await google.colab.kernel.invokeFunction(\n",
              "            'suggestCharts', [key], {});\n",
              "      } catch (error) {\n",
              "        console.error('Error during call to suggestCharts:', error);\n",
              "      }\n",
              "      quickchartButtonEl.classList.remove('colab-df-spinner');\n",
              "      quickchartButtonEl.classList.add('colab-df-quickchart-complete');\n",
              "    }\n",
              "    (() => {\n",
              "      let quickchartButtonEl =\n",
              "        document.querySelector('#df-de257940-1244-4a4e-85a8-65cf8488aa36 button');\n",
              "      quickchartButtonEl.style.display =\n",
              "        google.colab.kernel.accessAllowed ? 'block' : 'none';\n",
              "    })();\n",
              "  </script>\n",
              "</div>\n",
              "\n",
              "  <div id=\"id_c6abb7d4-7b78-478b-97b3-715238fd1ff1\">\n",
              "    <style>\n",
              "      .colab-df-generate {\n",
              "        background-color: #E8F0FE;\n",
              "        border: none;\n",
              "        border-radius: 50%;\n",
              "        cursor: pointer;\n",
              "        display: none;\n",
              "        fill: #1967D2;\n",
              "        height: 32px;\n",
              "        padding: 0 0 0 0;\n",
              "        width: 32px;\n",
              "      }\n",
              "\n",
              "      .colab-df-generate:hover {\n",
              "        background-color: #E2EBFA;\n",
              "        box-shadow: 0px 1px 2px rgba(60, 64, 67, 0.3), 0px 1px 3px 1px rgba(60, 64, 67, 0.15);\n",
              "        fill: #174EA6;\n",
              "      }\n",
              "\n",
              "      [theme=dark] .colab-df-generate {\n",
              "        background-color: #3B4455;\n",
              "        fill: #D2E3FC;\n",
              "      }\n",
              "\n",
              "      [theme=dark] .colab-df-generate:hover {\n",
              "        background-color: #434B5C;\n",
              "        box-shadow: 0px 1px 3px 1px rgba(0, 0, 0, 0.15);\n",
              "        filter: drop-shadow(0px 1px 2px rgba(0, 0, 0, 0.3));\n",
              "        fill: #FFFFFF;\n",
              "      }\n",
              "    </style>\n",
              "    <button class=\"colab-df-generate\" onclick=\"generateWithVariable('df')\"\n",
              "            title=\"Generate code using this dataframe.\"\n",
              "            style=\"display:none;\">\n",
              "\n",
              "  <svg xmlns=\"http://www.w3.org/2000/svg\" height=\"24px\"viewBox=\"0 0 24 24\"\n",
              "       width=\"24px\">\n",
              "    <path d=\"M7,19H8.4L18.45,9,17,7.55,7,17.6ZM5,21V16.75L18.45,3.32a2,2,0,0,1,2.83,0l1.4,1.43a1.91,1.91,0,0,1,.58,1.4,1.91,1.91,0,0,1-.58,1.4L9.25,21ZM18.45,9,17,7.55Zm-12,3A5.31,5.31,0,0,0,4.9,8.1,5.31,5.31,0,0,0,1,6.5,5.31,5.31,0,0,0,4.9,4.9,5.31,5.31,0,0,0,6.5,1,5.31,5.31,0,0,0,8.1,4.9,5.31,5.31,0,0,0,12,6.5,5.46,5.46,0,0,0,6.5,12Z\"/>\n",
              "  </svg>\n",
              "    </button>\n",
              "    <script>\n",
              "      (() => {\n",
              "      const buttonEl =\n",
              "        document.querySelector('#id_c6abb7d4-7b78-478b-97b3-715238fd1ff1 button.colab-df-generate');\n",
              "      buttonEl.style.display =\n",
              "        google.colab.kernel.accessAllowed ? 'block' : 'none';\n",
              "\n",
              "      buttonEl.onclick = () => {\n",
              "        google.colab.notebook.generateWithVariable('df');\n",
              "      }\n",
              "      })();\n",
              "    </script>\n",
              "  </div>\n",
              "\n",
              "    </div>\n",
              "  </div>\n"
            ],
            "application/vnd.google.colaboratory.intrinsic+json": {
              "type": "dataframe",
              "variable_name": "df",
              "repr_error": "Out of range float values are not JSON compliant: nan"
            }
          },
          "metadata": {},
          "execution_count": 109
        }
      ]
    },
    {
      "cell_type": "code",
      "source": [
        "df.at[1,\"Maaş\"]=50000\n",
        "df.at[3,\"Maaş\"]=150000\n",
        "df"
      ],
      "metadata": {
        "colab": {
          "base_uri": "https://localhost:8080/",
          "height": 175
        },
        "id": "ecxEEzMQ7UfN",
        "outputId": "74da088b-3dad-4d41-f0fd-06284709b98f"
      },
      "execution_count": null,
      "outputs": [
        {
          "output_type": "execute_result",
          "data": {
            "text/plain": [
              "     İsim  Yaş     Şehir    Maaş\n",
              "0   Ahmet   25  İstanbul    None\n",
              "1  Mehmet   30    Ankara   50000\n",
              "2    Ayşe   28     İzmir    None\n",
              "3    Ebru   45   Trabzon  150000"
            ],
            "text/html": [
              "\n",
              "  <div id=\"df-1ec15fdf-f4d8-4d33-bd94-329c7462b914\" class=\"colab-df-container\">\n",
              "    <div>\n",
              "<style scoped>\n",
              "    .dataframe tbody tr th:only-of-type {\n",
              "        vertical-align: middle;\n",
              "    }\n",
              "\n",
              "    .dataframe tbody tr th {\n",
              "        vertical-align: top;\n",
              "    }\n",
              "\n",
              "    .dataframe thead th {\n",
              "        text-align: right;\n",
              "    }\n",
              "</style>\n",
              "<table border=\"1\" class=\"dataframe\">\n",
              "  <thead>\n",
              "    <tr style=\"text-align: right;\">\n",
              "      <th></th>\n",
              "      <th>İsim</th>\n",
              "      <th>Yaş</th>\n",
              "      <th>Şehir</th>\n",
              "      <th>Maaş</th>\n",
              "    </tr>\n",
              "  </thead>\n",
              "  <tbody>\n",
              "    <tr>\n",
              "      <th>0</th>\n",
              "      <td>Ahmet</td>\n",
              "      <td>25</td>\n",
              "      <td>İstanbul</td>\n",
              "      <td>None</td>\n",
              "    </tr>\n",
              "    <tr>\n",
              "      <th>1</th>\n",
              "      <td>Mehmet</td>\n",
              "      <td>30</td>\n",
              "      <td>Ankara</td>\n",
              "      <td>50000</td>\n",
              "    </tr>\n",
              "    <tr>\n",
              "      <th>2</th>\n",
              "      <td>Ayşe</td>\n",
              "      <td>28</td>\n",
              "      <td>İzmir</td>\n",
              "      <td>None</td>\n",
              "    </tr>\n",
              "    <tr>\n",
              "      <th>3</th>\n",
              "      <td>Ebru</td>\n",
              "      <td>45</td>\n",
              "      <td>Trabzon</td>\n",
              "      <td>150000</td>\n",
              "    </tr>\n",
              "  </tbody>\n",
              "</table>\n",
              "</div>\n",
              "    <div class=\"colab-df-buttons\">\n",
              "\n",
              "  <div class=\"colab-df-container\">\n",
              "    <button class=\"colab-df-convert\" onclick=\"convertToInteractive('df-1ec15fdf-f4d8-4d33-bd94-329c7462b914')\"\n",
              "            title=\"Convert this dataframe to an interactive table.\"\n",
              "            style=\"display:none;\">\n",
              "\n",
              "  <svg xmlns=\"http://www.w3.org/2000/svg\" height=\"24px\" viewBox=\"0 -960 960 960\">\n",
              "    <path d=\"M120-120v-720h720v720H120Zm60-500h600v-160H180v160Zm220 220h160v-160H400v160Zm0 220h160v-160H400v160ZM180-400h160v-160H180v160Zm440 0h160v-160H620v160ZM180-180h160v-160H180v160Zm440 0h160v-160H620v160Z\"/>\n",
              "  </svg>\n",
              "    </button>\n",
              "\n",
              "  <style>\n",
              "    .colab-df-container {\n",
              "      display:flex;\n",
              "      gap: 12px;\n",
              "    }\n",
              "\n",
              "    .colab-df-convert {\n",
              "      background-color: #E8F0FE;\n",
              "      border: none;\n",
              "      border-radius: 50%;\n",
              "      cursor: pointer;\n",
              "      display: none;\n",
              "      fill: #1967D2;\n",
              "      height: 32px;\n",
              "      padding: 0 0 0 0;\n",
              "      width: 32px;\n",
              "    }\n",
              "\n",
              "    .colab-df-convert:hover {\n",
              "      background-color: #E2EBFA;\n",
              "      box-shadow: 0px 1px 2px rgba(60, 64, 67, 0.3), 0px 1px 3px 1px rgba(60, 64, 67, 0.15);\n",
              "      fill: #174EA6;\n",
              "    }\n",
              "\n",
              "    .colab-df-buttons div {\n",
              "      margin-bottom: 4px;\n",
              "    }\n",
              "\n",
              "    [theme=dark] .colab-df-convert {\n",
              "      background-color: #3B4455;\n",
              "      fill: #D2E3FC;\n",
              "    }\n",
              "\n",
              "    [theme=dark] .colab-df-convert:hover {\n",
              "      background-color: #434B5C;\n",
              "      box-shadow: 0px 1px 3px 1px rgba(0, 0, 0, 0.15);\n",
              "      filter: drop-shadow(0px 1px 2px rgba(0, 0, 0, 0.3));\n",
              "      fill: #FFFFFF;\n",
              "    }\n",
              "  </style>\n",
              "\n",
              "    <script>\n",
              "      const buttonEl =\n",
              "        document.querySelector('#df-1ec15fdf-f4d8-4d33-bd94-329c7462b914 button.colab-df-convert');\n",
              "      buttonEl.style.display =\n",
              "        google.colab.kernel.accessAllowed ? 'block' : 'none';\n",
              "\n",
              "      async function convertToInteractive(key) {\n",
              "        const element = document.querySelector('#df-1ec15fdf-f4d8-4d33-bd94-329c7462b914');\n",
              "        const dataTable =\n",
              "          await google.colab.kernel.invokeFunction('convertToInteractive',\n",
              "                                                    [key], {});\n",
              "        if (!dataTable) return;\n",
              "\n",
              "        const docLinkHtml = 'Like what you see? Visit the ' +\n",
              "          '<a target=\"_blank\" href=https://colab.research.google.com/notebooks/data_table.ipynb>data table notebook</a>'\n",
              "          + ' to learn more about interactive tables.';\n",
              "        element.innerHTML = '';\n",
              "        dataTable['output_type'] = 'display_data';\n",
              "        await google.colab.output.renderOutput(dataTable, element);\n",
              "        const docLink = document.createElement('div');\n",
              "        docLink.innerHTML = docLinkHtml;\n",
              "        element.appendChild(docLink);\n",
              "      }\n",
              "    </script>\n",
              "  </div>\n",
              "\n",
              "\n",
              "<div id=\"df-473a0f62-14b6-4be8-b5e1-010920902e44\">\n",
              "  <button class=\"colab-df-quickchart\" onclick=\"quickchart('df-473a0f62-14b6-4be8-b5e1-010920902e44')\"\n",
              "            title=\"Suggest charts\"\n",
              "            style=\"display:none;\">\n",
              "\n",
              "<svg xmlns=\"http://www.w3.org/2000/svg\" height=\"24px\"viewBox=\"0 0 24 24\"\n",
              "     width=\"24px\">\n",
              "    <g>\n",
              "        <path d=\"M19 3H5c-1.1 0-2 .9-2 2v14c0 1.1.9 2 2 2h14c1.1 0 2-.9 2-2V5c0-1.1-.9-2-2-2zM9 17H7v-7h2v7zm4 0h-2V7h2v10zm4 0h-2v-4h2v4z\"/>\n",
              "    </g>\n",
              "</svg>\n",
              "  </button>\n",
              "\n",
              "<style>\n",
              "  .colab-df-quickchart {\n",
              "      --bg-color: #E8F0FE;\n",
              "      --fill-color: #1967D2;\n",
              "      --hover-bg-color: #E2EBFA;\n",
              "      --hover-fill-color: #174EA6;\n",
              "      --disabled-fill-color: #AAA;\n",
              "      --disabled-bg-color: #DDD;\n",
              "  }\n",
              "\n",
              "  [theme=dark] .colab-df-quickchart {\n",
              "      --bg-color: #3B4455;\n",
              "      --fill-color: #D2E3FC;\n",
              "      --hover-bg-color: #434B5C;\n",
              "      --hover-fill-color: #FFFFFF;\n",
              "      --disabled-bg-color: #3B4455;\n",
              "      --disabled-fill-color: #666;\n",
              "  }\n",
              "\n",
              "  .colab-df-quickchart {\n",
              "    background-color: var(--bg-color);\n",
              "    border: none;\n",
              "    border-radius: 50%;\n",
              "    cursor: pointer;\n",
              "    display: none;\n",
              "    fill: var(--fill-color);\n",
              "    height: 32px;\n",
              "    padding: 0;\n",
              "    width: 32px;\n",
              "  }\n",
              "\n",
              "  .colab-df-quickchart:hover {\n",
              "    background-color: var(--hover-bg-color);\n",
              "    box-shadow: 0 1px 2px rgba(60, 64, 67, 0.3), 0 1px 3px 1px rgba(60, 64, 67, 0.15);\n",
              "    fill: var(--button-hover-fill-color);\n",
              "  }\n",
              "\n",
              "  .colab-df-quickchart-complete:disabled,\n",
              "  .colab-df-quickchart-complete:disabled:hover {\n",
              "    background-color: var(--disabled-bg-color);\n",
              "    fill: var(--disabled-fill-color);\n",
              "    box-shadow: none;\n",
              "  }\n",
              "\n",
              "  .colab-df-spinner {\n",
              "    border: 2px solid var(--fill-color);\n",
              "    border-color: transparent;\n",
              "    border-bottom-color: var(--fill-color);\n",
              "    animation:\n",
              "      spin 1s steps(1) infinite;\n",
              "  }\n",
              "\n",
              "  @keyframes spin {\n",
              "    0% {\n",
              "      border-color: transparent;\n",
              "      border-bottom-color: var(--fill-color);\n",
              "      border-left-color: var(--fill-color);\n",
              "    }\n",
              "    20% {\n",
              "      border-color: transparent;\n",
              "      border-left-color: var(--fill-color);\n",
              "      border-top-color: var(--fill-color);\n",
              "    }\n",
              "    30% {\n",
              "      border-color: transparent;\n",
              "      border-left-color: var(--fill-color);\n",
              "      border-top-color: var(--fill-color);\n",
              "      border-right-color: var(--fill-color);\n",
              "    }\n",
              "    40% {\n",
              "      border-color: transparent;\n",
              "      border-right-color: var(--fill-color);\n",
              "      border-top-color: var(--fill-color);\n",
              "    }\n",
              "    60% {\n",
              "      border-color: transparent;\n",
              "      border-right-color: var(--fill-color);\n",
              "    }\n",
              "    80% {\n",
              "      border-color: transparent;\n",
              "      border-right-color: var(--fill-color);\n",
              "      border-bottom-color: var(--fill-color);\n",
              "    }\n",
              "    90% {\n",
              "      border-color: transparent;\n",
              "      border-bottom-color: var(--fill-color);\n",
              "    }\n",
              "  }\n",
              "</style>\n",
              "\n",
              "  <script>\n",
              "    async function quickchart(key) {\n",
              "      const quickchartButtonEl =\n",
              "        document.querySelector('#' + key + ' button');\n",
              "      quickchartButtonEl.disabled = true;  // To prevent multiple clicks.\n",
              "      quickchartButtonEl.classList.add('colab-df-spinner');\n",
              "      try {\n",
              "        const charts = await google.colab.kernel.invokeFunction(\n",
              "            'suggestCharts', [key], {});\n",
              "      } catch (error) {\n",
              "        console.error('Error during call to suggestCharts:', error);\n",
              "      }\n",
              "      quickchartButtonEl.classList.remove('colab-df-spinner');\n",
              "      quickchartButtonEl.classList.add('colab-df-quickchart-complete');\n",
              "    }\n",
              "    (() => {\n",
              "      let quickchartButtonEl =\n",
              "        document.querySelector('#df-473a0f62-14b6-4be8-b5e1-010920902e44 button');\n",
              "      quickchartButtonEl.style.display =\n",
              "        google.colab.kernel.accessAllowed ? 'block' : 'none';\n",
              "    })();\n",
              "  </script>\n",
              "</div>\n",
              "\n",
              "  <div id=\"id_7056895f-5c7b-40a1-8bff-4675c2d21422\">\n",
              "    <style>\n",
              "      .colab-df-generate {\n",
              "        background-color: #E8F0FE;\n",
              "        border: none;\n",
              "        border-radius: 50%;\n",
              "        cursor: pointer;\n",
              "        display: none;\n",
              "        fill: #1967D2;\n",
              "        height: 32px;\n",
              "        padding: 0 0 0 0;\n",
              "        width: 32px;\n",
              "      }\n",
              "\n",
              "      .colab-df-generate:hover {\n",
              "        background-color: #E2EBFA;\n",
              "        box-shadow: 0px 1px 2px rgba(60, 64, 67, 0.3), 0px 1px 3px 1px rgba(60, 64, 67, 0.15);\n",
              "        fill: #174EA6;\n",
              "      }\n",
              "\n",
              "      [theme=dark] .colab-df-generate {\n",
              "        background-color: #3B4455;\n",
              "        fill: #D2E3FC;\n",
              "      }\n",
              "\n",
              "      [theme=dark] .colab-df-generate:hover {\n",
              "        background-color: #434B5C;\n",
              "        box-shadow: 0px 1px 3px 1px rgba(0, 0, 0, 0.15);\n",
              "        filter: drop-shadow(0px 1px 2px rgba(0, 0, 0, 0.3));\n",
              "        fill: #FFFFFF;\n",
              "      }\n",
              "    </style>\n",
              "    <button class=\"colab-df-generate\" onclick=\"generateWithVariable('df')\"\n",
              "            title=\"Generate code using this dataframe.\"\n",
              "            style=\"display:none;\">\n",
              "\n",
              "  <svg xmlns=\"http://www.w3.org/2000/svg\" height=\"24px\"viewBox=\"0 0 24 24\"\n",
              "       width=\"24px\">\n",
              "    <path d=\"M7,19H8.4L18.45,9,17,7.55,7,17.6ZM5,21V16.75L18.45,3.32a2,2,0,0,1,2.83,0l1.4,1.43a1.91,1.91,0,0,1,.58,1.4,1.91,1.91,0,0,1-.58,1.4L9.25,21ZM18.45,9,17,7.55Zm-12,3A5.31,5.31,0,0,0,4.9,8.1,5.31,5.31,0,0,0,1,6.5,5.31,5.31,0,0,0,4.9,4.9,5.31,5.31,0,0,0,6.5,1,5.31,5.31,0,0,0,8.1,4.9,5.31,5.31,0,0,0,12,6.5,5.46,5.46,0,0,0,6.5,12Z\"/>\n",
              "  </svg>\n",
              "    </button>\n",
              "    <script>\n",
              "      (() => {\n",
              "      const buttonEl =\n",
              "        document.querySelector('#id_7056895f-5c7b-40a1-8bff-4675c2d21422 button.colab-df-generate');\n",
              "      buttonEl.style.display =\n",
              "        google.colab.kernel.accessAllowed ? 'block' : 'none';\n",
              "\n",
              "      buttonEl.onclick = () => {\n",
              "        google.colab.notebook.generateWithVariable('df');\n",
              "      }\n",
              "      })();\n",
              "    </script>\n",
              "  </div>\n",
              "\n",
              "    </div>\n",
              "  </div>\n"
            ],
            "application/vnd.google.colaboratory.intrinsic+json": {
              "type": "dataframe",
              "variable_name": "df",
              "summary": "{\n  \"name\": \"df\",\n  \"rows\": 4,\n  \"fields\": [\n    {\n      \"column\": \"\\u0130sim\",\n      \"properties\": {\n        \"dtype\": \"string\",\n        \"num_unique_values\": 4,\n        \"samples\": [\n          \"Mehmet\",\n          \"Ebru\",\n          \"Ahmet\"\n        ],\n        \"semantic_type\": \"\",\n        \"description\": \"\"\n      }\n    },\n    {\n      \"column\": \"Ya\\u015f\",\n      \"properties\": {\n        \"dtype\": \"number\",\n        \"std\": 8,\n        \"min\": 25,\n        \"max\": 45,\n        \"num_unique_values\": 4,\n        \"samples\": [\n          30,\n          45,\n          25\n        ],\n        \"semantic_type\": \"\",\n        \"description\": \"\"\n      }\n    },\n    {\n      \"column\": \"\\u015eehir\",\n      \"properties\": {\n        \"dtype\": \"string\",\n        \"num_unique_values\": 4,\n        \"samples\": [\n          \"Ankara\",\n          \"Trabzon\",\n          \"\\u0130stanbul\"\n        ],\n        \"semantic_type\": \"\",\n        \"description\": \"\"\n      }\n    },\n    {\n      \"column\": \"Maa\\u015f\",\n      \"properties\": {\n        \"dtype\": \"date\",\n        \"min\": 50000,\n        \"max\": 150000,\n        \"num_unique_values\": 2,\n        \"samples\": [\n          150000,\n          50000\n        ],\n        \"semantic_type\": \"\",\n        \"description\": \"\"\n      }\n    }\n  ]\n}"
            }
          },
          "metadata": {},
          "execution_count": 110
        }
      ]
    },
    {
      "cell_type": "code",
      "source": [
        "kisiler={\n",
        "    \"Mete\":[\"Basketbol\",\"Yüzme\"],\n",
        "    \"Batu\":[\"Yürüyüş\",\"Sinema\",\"Kitap Okuma\"],\n",
        "    \"Ebru\":[\"Yüzme\"],\n",
        "    \"Ferhat\":[\"Yürüyüş\",\"Sinema\",\"Dağcılık\",\"Kitap Okuma\"]\n",
        "}\n",
        "\n",
        "hobi_sayıları={kisi:len(hobi) for kisi,hobi in kisiler.items()}\n",
        "hobi_sayıları"
      ],
      "metadata": {
        "colab": {
          "base_uri": "https://localhost:8080/"
        },
        "id": "btRpW3bV7eFH",
        "outputId": "7f07bd6f-7467-4cd0-dd52-44db55110d31"
      },
      "execution_count": null,
      "outputs": [
        {
          "output_type": "execute_result",
          "data": {
            "text/plain": [
              "{'Mete': 2, 'Batu': 3, 'Ebru': 1, 'Ferhat': 4}"
            ]
          },
          "metadata": {},
          "execution_count": 120
        }
      ]
    },
    {
      "cell_type": "code",
      "source": [
        "sözlük={\"isim\":\"Erhan\",\"yaş\":25,\"şehir\":\"Erzurum\"}"
      ],
      "metadata": {
        "id": "cvO6oxYm81VE"
      },
      "execution_count": null,
      "outputs": []
    },
    {
      "cell_type": "code",
      "source": [
        "sözlük2={\"isim\":\"Ferhat\",\"yaş\":25,\"şehir\":\"Erzurum\"}"
      ],
      "metadata": {
        "id": "r9VI9zcS0V9u"
      },
      "execution_count": null,
      "outputs": []
    },
    {
      "cell_type": "code",
      "source": [
        "birleştirilmiş_sözlük={\"s1\":sözlük,\"s2\":sözlük2}\n",
        "birleştirilmiş_sözlük"
      ],
      "metadata": {
        "colab": {
          "base_uri": "https://localhost:8080/"
        },
        "id": "bhUAwzL00bjH",
        "outputId": "e85480c2-279c-4e03-d026-d85f27fb1d14"
      },
      "execution_count": null,
      "outputs": [
        {
          "output_type": "execute_result",
          "data": {
            "text/plain": [
              "{'s1': {'isim': 'Erhan', 'yaş': 25, 'şehir': 'Erzurum'},\n",
              " 's2': {'isim': 'Ferhat', 'yaş': 25, 'şehir': 'Erzurum'}}"
            ]
          },
          "metadata": {},
          "execution_count": 3
        }
      ]
    },
    {
      "cell_type": "code",
      "source": [
        "a={1:50,2:100,3:22,4:0}\n",
        "a"
      ],
      "metadata": {
        "colab": {
          "base_uri": "https://localhost:8080/"
        },
        "id": "n-sS4OPz0oX6",
        "outputId": "9261950d-1677-4fa5-e739-e8d4a86e839f"
      },
      "execution_count": null,
      "outputs": [
        {
          "output_type": "execute_result",
          "data": {
            "text/plain": [
              "{1: 50, 2: 100, 3: 22, 4: 0}"
            ]
          },
          "metadata": {},
          "execution_count": 2
        }
      ]
    },
    {
      "cell_type": "code",
      "source": [
        "a.keys()"
      ],
      "metadata": {
        "colab": {
          "base_uri": "https://localhost:8080/"
        },
        "id": "xXHwlKk300Fr",
        "outputId": "e7f50e44-7cc4-4742-f663-848e1847e45b"
      },
      "execution_count": null,
      "outputs": [
        {
          "output_type": "execute_result",
          "data": {
            "text/plain": [
              "dict_keys([1, 2, 3, 4])"
            ]
          },
          "metadata": {},
          "execution_count": 7
        }
      ]
    },
    {
      "cell_type": "code",
      "source": [
        "a.values()"
      ],
      "metadata": {
        "colab": {
          "base_uri": "https://localhost:8080/"
        },
        "id": "B0BN3HkL02kP",
        "outputId": "988e15c6-f6f8-42d0-aa11-a8d51ad67bb7"
      },
      "execution_count": null,
      "outputs": [
        {
          "output_type": "execute_result",
          "data": {
            "text/plain": [
              "dict_values([50, 100, 22, 0])"
            ]
          },
          "metadata": {},
          "execution_count": 8
        }
      ]
    },
    {
      "cell_type": "code",
      "source": [
        "a.get(1)"
      ],
      "metadata": {
        "colab": {
          "base_uri": "https://localhost:8080/"
        },
        "id": "kZDCcgSp05pz",
        "outputId": "7c447e3e-6af4-4901-af59-a0697b1886db"
      },
      "execution_count": null,
      "outputs": [
        {
          "output_type": "execute_result",
          "data": {
            "text/plain": [
              "50"
            ]
          },
          "metadata": {},
          "execution_count": 9
        }
      ]
    },
    {
      "cell_type": "code",
      "source": [
        "a.get(5) #Hata vermez, boş döner"
      ],
      "metadata": {
        "id": "b41lyQUH077G"
      },
      "execution_count": null,
      "outputs": []
    },
    {
      "cell_type": "code",
      "source": [
        "print(a.get(5))"
      ],
      "metadata": {
        "colab": {
          "base_uri": "https://localhost:8080/"
        },
        "id": "JszKPJJj1Ajm",
        "outputId": "8337ea82-3eed-4a8a-ca45-4f1914875d36"
      },
      "execution_count": null,
      "outputs": [
        {
          "output_type": "stream",
          "name": "stdout",
          "text": [
            "None\n"
          ]
        }
      ]
    },
    {
      "cell_type": "code",
      "source": [
        "a.get(5,\"Bu anahtar sözlükte yok.\")"
      ],
      "metadata": {
        "colab": {
          "base_uri": "https://localhost:8080/",
          "height": 35
        },
        "id": "Fp_ni8nt1IhH",
        "outputId": "fe0b1dff-e055-43b2-8807-81db214a8742"
      },
      "execution_count": null,
      "outputs": [
        {
          "output_type": "execute_result",
          "data": {
            "text/plain": [
              "'Bu anahtar sözlükte yok.'"
            ],
            "application/vnd.google.colaboratory.intrinsic+json": {
              "type": "string"
            }
          },
          "metadata": {},
          "execution_count": 12
        }
      ]
    },
    {
      "cell_type": "code",
      "source": [
        "print(a.get(5))"
      ],
      "metadata": {
        "colab": {
          "base_uri": "https://localhost:8080/"
        },
        "id": "8WhlctjS1OCk",
        "outputId": "b5a5733d-a07e-45c8-b821-c4105582a991"
      },
      "execution_count": null,
      "outputs": [
        {
          "output_type": "stream",
          "name": "stdout",
          "text": [
            "None\n"
          ]
        }
      ]
    },
    {
      "cell_type": "code",
      "source": [
        "a.get(100,\"Bulunamadı\")"
      ],
      "metadata": {
        "colab": {
          "base_uri": "https://localhost:8080/",
          "height": 35
        },
        "id": "cUFYu0RW1Sb1",
        "outputId": "128082ca-260c-4ed6-8804-43a1e43b3e99"
      },
      "execution_count": null,
      "outputs": [
        {
          "output_type": "execute_result",
          "data": {
            "text/plain": [
              "'Bulunamadı'"
            ],
            "application/vnd.google.colaboratory.intrinsic+json": {
              "type": "string"
            }
          },
          "metadata": {},
          "execution_count": 14
        }
      ]
    },
    {
      "cell_type": "code",
      "source": [
        "a.get(1)+a.get(2) #Sınavda çıkabilir. (value olduğu için toplama işlemi gerçekleşir.)"
      ],
      "metadata": {
        "colab": {
          "base_uri": "https://localhost:8080/"
        },
        "id": "byUmwSPQ1W1J",
        "outputId": "5d260ad7-d1b7-4826-eae0-43c6c037797c"
      },
      "execution_count": null,
      "outputs": [
        {
          "output_type": "execute_result",
          "data": {
            "text/plain": [
              "150"
            ]
          },
          "metadata": {},
          "execution_count": 3
        }
      ]
    },
    {
      "cell_type": "code",
      "source": [
        "b = list(a.keys())\n",
        "b"
      ],
      "metadata": {
        "colab": {
          "base_uri": "https://localhost:8080/"
        },
        "id": "J9VYhEcY1tKJ",
        "outputId": "0f4cc8eb-4d8e-45e0-da90-5a230a1a09c8"
      },
      "execution_count": null,
      "outputs": [
        {
          "output_type": "execute_result",
          "data": {
            "text/plain": [
              "[1, 2, 3, 4]"
            ]
          },
          "metadata": {},
          "execution_count": 4
        }
      ]
    },
    {
      "cell_type": "code",
      "source": [
        "type(b)"
      ],
      "metadata": {
        "colab": {
          "base_uri": "https://localhost:8080/"
        },
        "id": "p8xydGzo128z",
        "outputId": "0a7eb6eb-8b3e-458c-c6e2-28e779d0b7d5"
      },
      "execution_count": null,
      "outputs": [
        {
          "output_type": "execute_result",
          "data": {
            "text/plain": [
              "list"
            ]
          },
          "metadata": {},
          "execution_count": 5
        }
      ]
    },
    {
      "cell_type": "code",
      "source": [
        "c = a"
      ],
      "metadata": {
        "id": "7cQRKQur14bf"
      },
      "execution_count": null,
      "outputs": []
    },
    {
      "cell_type": "code",
      "source": [
        "type(c)"
      ],
      "metadata": {
        "colab": {
          "base_uri": "https://localhost:8080/"
        },
        "id": "VQNMqzar2BcH",
        "outputId": "796fb8fb-8935-4434-c532-907b241ee658"
      },
      "execution_count": null,
      "outputs": [
        {
          "output_type": "execute_result",
          "data": {
            "text/plain": [
              "dict"
            ]
          },
          "metadata": {},
          "execution_count": 7
        }
      ]
    },
    {
      "cell_type": "code",
      "source": [
        "a"
      ],
      "metadata": {
        "colab": {
          "base_uri": "https://localhost:8080/"
        },
        "id": "ckFtGDk52Csm",
        "outputId": "11b8a290-ea5a-4001-f7c0-8efbf88164f7"
      },
      "execution_count": null,
      "outputs": [
        {
          "output_type": "execute_result",
          "data": {
            "text/plain": [
              "{1: 50, 2: 100, 3: 22, 4: 0}"
            ]
          },
          "metadata": {},
          "execution_count": 8
        }
      ]
    },
    {
      "cell_type": "code",
      "source": [
        "c"
      ],
      "metadata": {
        "colab": {
          "base_uri": "https://localhost:8080/"
        },
        "id": "uYtZtQiO2D_K",
        "outputId": "e8a33345-9afe-4e05-98ec-09ac2dc1f144"
      },
      "execution_count": null,
      "outputs": [
        {
          "output_type": "execute_result",
          "data": {
            "text/plain": [
              "{1: 50, 2: 100, 3: 22, 4: 0}"
            ]
          },
          "metadata": {},
          "execution_count": 9
        }
      ]
    },
    {
      "cell_type": "code",
      "source": [
        "c[4]=100"
      ],
      "metadata": {
        "id": "h16enTco2EQC"
      },
      "execution_count": null,
      "outputs": []
    },
    {
      "cell_type": "code",
      "source": [
        "c"
      ],
      "metadata": {
        "colab": {
          "base_uri": "https://localhost:8080/"
        },
        "id": "HuJ_yXyU2Hyt",
        "outputId": "c49b9940-f453-4e5d-e89b-9684ae186cb2"
      },
      "execution_count": null,
      "outputs": [
        {
          "output_type": "execute_result",
          "data": {
            "text/plain": [
              "{1: 50, 2: 100, 3: 22, 4: 100}"
            ]
          },
          "metadata": {},
          "execution_count": 23
        }
      ]
    },
    {
      "cell_type": "code",
      "source": [
        "a # Sınavda çıkabilir. (c değişince a da değişir mi?) (Aynı yeri işaret ediyor o yüzden değişir. Belleksel veri işlemi gerçekleşiyor.)"
      ],
      "metadata": {
        "colab": {
          "base_uri": "https://localhost:8080/"
        },
        "id": "yPxgtrzD2JPQ",
        "outputId": "51d6bf56-2ca3-4e61-effe-2f2a9b63413a"
      },
      "execution_count": null,
      "outputs": [
        {
          "output_type": "execute_result",
          "data": {
            "text/plain": [
              "{1: 50, 2: 100, 3: 22, 4: 100}"
            ]
          },
          "metadata": {},
          "execution_count": 24
        }
      ]
    },
    {
      "cell_type": "code",
      "source": [
        "aaa= a.copy()"
      ],
      "metadata": {
        "id": "6-B3pI4b2MIp"
      },
      "execution_count": null,
      "outputs": []
    },
    {
      "cell_type": "code",
      "source": [
        "aaa[4]=-444"
      ],
      "metadata": {
        "id": "OFM1Ilh32jrq"
      },
      "execution_count": null,
      "outputs": []
    },
    {
      "cell_type": "code",
      "source": [
        "a # copy dersen a'daki değişmez. aaa'daki değişir."
      ],
      "metadata": {
        "colab": {
          "base_uri": "https://localhost:8080/"
        },
        "id": "Zb-mrwGz2nMK",
        "outputId": "af702aa2-6a91-4936-d259-3e2b78151b6d"
      },
      "execution_count": null,
      "outputs": [
        {
          "output_type": "execute_result",
          "data": {
            "text/plain": [
              "{1: 50, 2: 100, 3: 22, 4: 0}"
            ]
          },
          "metadata": {},
          "execution_count": 3
        }
      ]
    },
    {
      "cell_type": "code",
      "source": [
        "a1={1:\"merhaba\",\"yaş\":2222,2:100}"
      ],
      "metadata": {
        "id": "uUW-1og12oZU"
      },
      "execution_count": null,
      "outputs": []
    },
    {
      "cell_type": "code",
      "source": [
        "a.update(a1) #Her şey aktarılır farklı anahtarlar varsa o anahtarlar eklenir."
      ],
      "metadata": {
        "id": "OvBvq_ek26fg"
      },
      "execution_count": null,
      "outputs": []
    },
    {
      "cell_type": "code",
      "source": [
        "a"
      ],
      "metadata": {
        "colab": {
          "base_uri": "https://localhost:8080/"
        },
        "id": "xHxi6z3Q2-ke",
        "outputId": "41c88e96-dae7-4b5e-d39b-da788b80f515"
      },
      "execution_count": null,
      "outputs": [
        {
          "output_type": "execute_result",
          "data": {
            "text/plain": [
              "{1: 'merhaba', 2: 100, 3: 22, 4: 0, 'yaş': 2222}"
            ]
          },
          "metadata": {},
          "execution_count": 6
        }
      ]
    },
    {
      "cell_type": "code",
      "source": [
        "a2.update(a1)\n",
        "a2 #a2 bellekte yok bu yüzden hat alınır."
      ],
      "metadata": {
        "colab": {
          "base_uri": "https://localhost:8080/",
          "height": 159
        },
        "id": "MwuYMLbL2_Fw",
        "outputId": "fd2b5f26-6162-46a4-dce0-a238dba81375"
      },
      "execution_count": null,
      "outputs": [
        {
          "output_type": "error",
          "ename": "NameError",
          "evalue": "name 'a2' is not defined",
          "traceback": [
            "\u001b[0;31m---------------------------------------------------------------------------\u001b[0m",
            "\u001b[0;31mNameError\u001b[0m                                 Traceback (most recent call last)",
            "\u001b[0;32m<ipython-input-31-3256aca889b7>\u001b[0m in \u001b[0;36m<cell line: 0>\u001b[0;34m()\u001b[0m\n\u001b[0;32m----> 1\u001b[0;31m \u001b[0ma2\u001b[0m\u001b[0;34m.\u001b[0m\u001b[0mupdate\u001b[0m\u001b[0;34m(\u001b[0m\u001b[0ma1\u001b[0m\u001b[0;34m)\u001b[0m\u001b[0;34m\u001b[0m\u001b[0;34m\u001b[0m\u001b[0m\n\u001b[0m\u001b[1;32m      2\u001b[0m \u001b[0ma2\u001b[0m\u001b[0;34m\u001b[0m\u001b[0;34m\u001b[0m\u001b[0m\n",
            "\u001b[0;31mNameError\u001b[0m: name 'a2' is not defined"
          ]
        }
      ]
    },
    {
      "cell_type": "code",
      "source": [
        "a.items()"
      ],
      "metadata": {
        "colab": {
          "base_uri": "https://localhost:8080/"
        },
        "id": "3lXJzXkW3Qbp",
        "outputId": "6d210a9c-f3dc-47a4-c954-3502fd5367cc"
      },
      "execution_count": null,
      "outputs": [
        {
          "output_type": "execute_result",
          "data": {
            "text/plain": [
              "dict_items([(1, 'merhaba'), (2, 100), (3, 22), (4, 100), ('yaş', 2222)])"
            ]
          },
          "metadata": {},
          "execution_count": 32
        }
      ]
    },
    {
      "cell_type": "markdown",
      "source": [
        "# **Fonksiyonlar**"
      ],
      "metadata": {
        "id": "E-bT8YLs3hRo"
      }
    },
    {
      "cell_type": "code",
      "source": [
        "isim = input(\"İsminizi Giriniz: \")\n",
        "print(\"Hoşgeldin\",isim)"
      ],
      "metadata": {
        "colab": {
          "base_uri": "https://localhost:8080/"
        },
        "id": "P7XmN9_S3j94",
        "outputId": "68ea7d16-b17d-40d6-9b1c-79694af214bb"
      },
      "execution_count": null,
      "outputs": [
        {
          "output_type": "stream",
          "name": "stdout",
          "text": [
            "İsminizi Giriniz: Erhan\n",
            "Hoşgeldin Erhan\n"
          ]
        }
      ]
    },
    {
      "cell_type": "code",
      "source": [
        "isim = input(\"İsminizi Giriniz: \")\n",
        "print(f\"Hoşgeldin {isim}\")"
      ],
      "metadata": {
        "colab": {
          "base_uri": "https://localhost:8080/"
        },
        "id": "G2t1iMXL3u1D",
        "outputId": "ab27dbba-eb04-45d0-dbf5-c651156425d3"
      },
      "execution_count": null,
      "outputs": [
        {
          "output_type": "stream",
          "name": "stdout",
          "text": [
            "İsminizi Giriniz: Erhan\n",
            "Hoşgeldin Erhan\n"
          ]
        }
      ]
    },
    {
      "cell_type": "code",
      "source": [
        "def hosgeldin():\n",
        "  print(\"Hoşgeldin!!!\")"
      ],
      "metadata": {
        "id": "qanQyFf8329G"
      },
      "execution_count": null,
      "outputs": []
    },
    {
      "cell_type": "code",
      "source": [
        "hosgeldin()"
      ],
      "metadata": {
        "colab": {
          "base_uri": "https://localhost:8080/"
        },
        "id": "VsiQvT-T4U1Y",
        "outputId": "cc429e60-3118-48a4-9d3b-21bc823efaad"
      },
      "execution_count": null,
      "outputs": [
        {
          "output_type": "stream",
          "name": "stdout",
          "text": [
            "Hoşgeldin!!!\n"
          ]
        }
      ]
    },
    {
      "cell_type": "code",
      "source": [
        "hosgeldin()\n",
        "hosgeldin()\n",
        "hosgeldin()"
      ],
      "metadata": {
        "colab": {
          "base_uri": "https://localhost:8080/"
        },
        "id": "gb7mZ40N4WIY",
        "outputId": "c223296f-dbfc-4d7b-aa2b-88956de2d9aa"
      },
      "execution_count": null,
      "outputs": [
        {
          "output_type": "stream",
          "name": "stdout",
          "text": [
            "Hoşgeldin!!!\n",
            "Hoşgeldin!!!\n",
            "Hoşgeldin!!!\n"
          ]
        }
      ]
    },
    {
      "cell_type": "code",
      "source": [
        "def hosgeldin1(isim):\n",
        "  print(\"Hoşgeldin\",isim)"
      ],
      "metadata": {
        "id": "wVwLsdu34giQ"
      },
      "execution_count": null,
      "outputs": []
    },
    {
      "cell_type": "code",
      "source": [
        "hosgeldin1(\"Erhan\")"
      ],
      "metadata": {
        "colab": {
          "base_uri": "https://localhost:8080/"
        },
        "id": "pIh7cnHY4lQG",
        "outputId": "22dec2e8-c63a-4c32-ace4-5bd2e6c42156"
      },
      "execution_count": null,
      "outputs": [
        {
          "output_type": "stream",
          "name": "stdout",
          "text": [
            "Hoşgeldin Erhan\n"
          ]
        }
      ]
    },
    {
      "cell_type": "code",
      "source": [
        "hosgeldin1(\"Ferhat\")"
      ],
      "metadata": {
        "colab": {
          "base_uri": "https://localhost:8080/"
        },
        "id": "bVNGypxZ4pa3",
        "outputId": "34d7ef84-605b-46b7-dad2-52a9303ac439"
      },
      "execution_count": null,
      "outputs": [
        {
          "output_type": "stream",
          "name": "stdout",
          "text": [
            "Hoşgeldin Ferhat\n"
          ]
        }
      ]
    },
    {
      "cell_type": "code",
      "source": [
        "isim= input(\"İsminizi Giriniz: \")\n",
        "hosgeldin1(isim)"
      ],
      "metadata": {
        "colab": {
          "base_uri": "https://localhost:8080/"
        },
        "id": "nZzzEFFn4tYj",
        "outputId": "94df0fe7-4a56-4c5c-81ab-a118f4e94e0d"
      },
      "execution_count": null,
      "outputs": [
        {
          "output_type": "stream",
          "name": "stdout",
          "text": [
            "İsminizi Giriniz: Erhan\n",
            "Hoşgeldin Erhan\n"
          ]
        }
      ]
    },
    {
      "cell_type": "code",
      "source": [
        "hosgeldin1(input(\"İsminizi Giriniz: \"))"
      ],
      "metadata": {
        "colab": {
          "base_uri": "https://localhost:8080/"
        },
        "id": "c-23yxf-42Gm",
        "outputId": "498b129e-133e-4e85-a31c-87d3a3f8236b"
      },
      "execution_count": null,
      "outputs": [
        {
          "output_type": "stream",
          "name": "stdout",
          "text": [
            "İsminizi Giriniz: Mete\n",
            "Hoşgeldin Mete\n"
          ]
        }
      ]
    },
    {
      "cell_type": "code",
      "source": [
        "def hosgeldin2(ad,soyad):\n",
        "  print(\"Hoşgeldin\",ad,soyad)"
      ],
      "metadata": {
        "id": "hkAE6Zgt491j"
      },
      "execution_count": null,
      "outputs": []
    },
    {
      "cell_type": "code",
      "source": [
        "ad = input (\"Adınızı Giriniz: \")\n",
        "soyad = input (\"Soyadınızı Giriniz: \")\n",
        "hosgeldin2(ad,soyad)"
      ],
      "metadata": {
        "colab": {
          "base_uri": "https://localhost:8080/"
        },
        "id": "osM7s_Yu5Pl3",
        "outputId": "16234755-aaa2-4dd1-eb8a-3797348168dc"
      },
      "execution_count": null,
      "outputs": [
        {
          "output_type": "stream",
          "name": "stdout",
          "text": [
            "Adınızı Giriniz: Erhan\n",
            "Soyadınızı Giriniz: K\n",
            "Hoşgeldin Erhan K\n"
          ]
        }
      ]
    },
    {
      "cell_type": "code",
      "source": [
        "def hosgeldin3(ad=\"Python\",soyad=\"Dersi\"):\n",
        "  print(\"Hoşgeldin\",ad,soyad)# Varsayılan değer girildi."
      ],
      "metadata": {
        "id": "oxntOxwV5ack"
      },
      "execution_count": null,
      "outputs": []
    },
    {
      "cell_type": "code",
      "source": [
        "hosgeldin3()"
      ],
      "metadata": {
        "colab": {
          "base_uri": "https://localhost:8080/"
        },
        "id": "RLtq2vAl5o5J",
        "outputId": "c0247162-3e8e-40ff-eb8e-485e5a17d48f"
      },
      "execution_count": null,
      "outputs": [
        {
          "output_type": "stream",
          "name": "stdout",
          "text": [
            "Hoşgeldin Python Dersi\n"
          ]
        }
      ]
    },
    {
      "cell_type": "code",
      "source": [
        "ad = input (\"Adınızı Giriniz: \")\n",
        "soyad = input (\"Soyadınızı Giriniz: \")\n",
        "hosgeldin3(ad,soyad) # Otomatik doldurma yok."
      ],
      "metadata": {
        "colab": {
          "base_uri": "https://localhost:8080/"
        },
        "id": "kvJSXlpu5qcb",
        "outputId": "1d87efdd-23ef-4412-8c4d-30d0b7994914"
      },
      "execution_count": null,
      "outputs": [
        {
          "output_type": "stream",
          "name": "stdout",
          "text": [
            "Adınızı Giriniz: e\n",
            "Soyadınızı Giriniz: \n",
            "Hoşgeldin e \n"
          ]
        }
      ]
    },
    {
      "cell_type": "code",
      "source": [
        "hosgeldin3(ad=\"Erhan\") # Otomatik doldurma var."
      ],
      "metadata": {
        "colab": {
          "base_uri": "https://localhost:8080/"
        },
        "id": "-qzahrDY56hH",
        "outputId": "0be0d0b3-2b9f-4741-b8ad-808cabf9e084"
      },
      "execution_count": null,
      "outputs": [
        {
          "output_type": "stream",
          "name": "stdout",
          "text": [
            "Hoşgeldin Erhan Dersi\n"
          ]
        }
      ]
    },
    {
      "cell_type": "code",
      "source": [
        "hosgeldin3(soyad=\"Erhan\") # Otomatik doldurma var."
      ],
      "metadata": {
        "colab": {
          "base_uri": "https://localhost:8080/"
        },
        "id": "eODCKsYV5-p6",
        "outputId": "b7a93293-73ba-4383-8454-d8cc408e705f"
      },
      "execution_count": null,
      "outputs": [
        {
          "output_type": "stream",
          "name": "stdout",
          "text": [
            "Hoşgeldin Python Erhan\n"
          ]
        }
      ]
    },
    {
      "cell_type": "code",
      "source": [
        "def fonksiyon(ulke=\"Türkiye\"):\n",
        "  print(\"I am from \"+ ulke)"
      ],
      "metadata": {
        "id": "wCPAiG1-6HWS"
      },
      "execution_count": null,
      "outputs": []
    },
    {
      "cell_type": "code",
      "source": [
        "fonksiyon()"
      ],
      "metadata": {
        "colab": {
          "base_uri": "https://localhost:8080/"
        },
        "id": "Dt_jgCXJ6Xiw",
        "outputId": "7b404d0d-fc47-42b0-be50-85953cbb0bc5"
      },
      "execution_count": null,
      "outputs": [
        {
          "output_type": "stream",
          "name": "stdout",
          "text": [
            "I am from Türkiye\n"
          ]
        }
      ]
    },
    {
      "cell_type": "code",
      "source": [
        "fonksiyon(\"Germany\")"
      ],
      "metadata": {
        "colab": {
          "base_uri": "https://localhost:8080/"
        },
        "id": "1GSXOrA46dFt",
        "outputId": "0cd45fa6-f937-45c3-8423-cba464ff6504"
      },
      "execution_count": null,
      "outputs": [
        {
          "output_type": "stream",
          "name": "stdout",
          "text": [
            "I am from Germany\n"
          ]
        }
      ]
    },
    {
      "cell_type": "code",
      "source": [
        "def ogrenci(*bilgiler):\n",
        "  for i in bilgiler:\n",
        "    print(i)"
      ],
      "metadata": {
        "id": "DIuqsyVc6gR4"
      },
      "execution_count": null,
      "outputs": []
    },
    {
      "cell_type": "code",
      "source": [
        "ogrenci=(\"Erhan\",\"Kahveci\",\"Bilgisayar Mühendisliği\",\"Erzurum\",22)\n",
        "ogrenci"
      ],
      "metadata": {
        "id": "0h67vIFR6yj6",
        "colab": {
          "base_uri": "https://localhost:8080/"
        },
        "outputId": "e7da30fd-e35d-4d6b-d0fd-d273f617770b"
      },
      "execution_count": null,
      "outputs": [
        {
          "output_type": "execute_result",
          "data": {
            "text/plain": [
              "('Erhan', 'Kahveci', 'Bilgisayar Mühendisliği', 'Erzurum', 22)"
            ]
          },
          "metadata": {},
          "execution_count": 19
        }
      ]
    },
    {
      "cell_type": "code",
      "source": [
        "def ogrenci2(**bilgiler):\n",
        "  print(\"Adı:\", bilgiler[\"ad\"])\n",
        "  print(\"Soyadı:\", bilgiler[\"soyad\"])\n",
        "  print(\"Bölüm:\", bilgiler[\"bölüm\"])\n",
        "  print(\"Şehir:\", bilgiler[\"şehir\"])\n",
        "  print(\"yaş:\", bilgiler[\"yaş\"])"
      ],
      "metadata": {
        "id": "7bPvsQ8v7KqO"
      },
      "execution_count": null,
      "outputs": []
    },
    {
      "cell_type": "code",
      "source": [
        "ogrenci2(ad=\"Erhan\", soyad=\"Kahveci\", bölüm=\"Bilgisayar Mühendisliği\", şehir=\"Erzurum\",yaş=22)"
      ],
      "metadata": {
        "colab": {
          "base_uri": "https://localhost:8080/"
        },
        "id": "mfKWLGZH70yF",
        "outputId": "3af16e86-3298-40ea-d5e9-e69201ef0e2a"
      },
      "execution_count": null,
      "outputs": [
        {
          "output_type": "stream",
          "name": "stdout",
          "text": [
            "Adı: Erhan\n",
            "Soyadı: Kahveci\n",
            "Bölüm: Bilgisayar Mühendisliği\n",
            "Şehir: Erzurum\n",
            "yaş: 22\n"
          ]
        }
      ]
    },
    {
      "cell_type": "markdown",
      "source": [
        "# **return**"
      ],
      "metadata": {
        "id": "egb_v5_m8bMw"
      }
    },
    {
      "cell_type": "code",
      "source": [
        "def topla(a,b):\n",
        "  return(a+b)"
      ],
      "metadata": {
        "id": "NcfLFdFe8cO5"
      },
      "execution_count": null,
      "outputs": []
    },
    {
      "cell_type": "code",
      "source": [
        "topla(10,20)"
      ],
      "metadata": {
        "colab": {
          "base_uri": "https://localhost:8080/"
        },
        "id": "VOP7AAjQ8f7o",
        "outputId": "e889834d-58ed-4d75-ca54-533ee2e7e7bd"
      },
      "execution_count": null,
      "outputs": [
        {
          "output_type": "execute_result",
          "data": {
            "text/plain": [
              "30"
            ]
          },
          "metadata": {},
          "execution_count": 89
        }
      ]
    },
    {
      "cell_type": "code",
      "source": [
        "def topla(a,b):\n",
        "  toplam=a+b\n",
        "  return toplam"
      ],
      "metadata": {
        "id": "twKPhz238icC"
      },
      "execution_count": null,
      "outputs": []
    },
    {
      "cell_type": "code",
      "source": [
        "topla(20,30)"
      ],
      "metadata": {
        "colab": {
          "base_uri": "https://localhost:8080/"
        },
        "id": "6CLi7RZV8uwk",
        "outputId": "97a830f0-7046-4a04-8f0a-a8d7d6422357"
      },
      "execution_count": null,
      "outputs": [
        {
          "output_type": "execute_result",
          "data": {
            "text/plain": [
              "50"
            ]
          },
          "metadata": {},
          "execution_count": 91
        }
      ]
    },
    {
      "cell_type": "code",
      "source": [
        "sonuc=topla(20,30)\n",
        "print(\"Girilen sayıların toplamı:\",sonuc)"
      ],
      "metadata": {
        "colab": {
          "base_uri": "https://localhost:8080/"
        },
        "id": "56PATwZB8xdv",
        "outputId": "9725a808-6a47-4dec-ee74-745cb41fdba7"
      },
      "execution_count": null,
      "outputs": [
        {
          "output_type": "stream",
          "name": "stdout",
          "text": [
            "Girilen sayıların toplamı: 50\n"
          ]
        }
      ]
    },
    {
      "cell_type": "code",
      "source": [
        "toplaYeni = lambda sayı1,sayı2:sayı1+sayı2\n",
        "toplaYeni(100,300)"
      ],
      "metadata": {
        "colab": {
          "base_uri": "https://localhost:8080/"
        },
        "id": "xiax8TMs9APP",
        "outputId": "16368847-0426-4fa2-85b0-415fdbc3e878"
      },
      "execution_count": null,
      "outputs": [
        {
          "output_type": "execute_result",
          "data": {
            "text/plain": [
              "400"
            ]
          },
          "metadata": {},
          "execution_count": 94
        }
      ]
    },
    {
      "cell_type": "code",
      "source": [
        "carpma = lambda sayı1,sayı2,sayı3:sayı1*sayı2*sayı3\n",
        "carpma(100,300,0)"
      ],
      "metadata": {
        "colab": {
          "base_uri": "https://localhost:8080/"
        },
        "id": "ICUfIfUq9Irt",
        "outputId": "2de56381-6075-4aaa-d44d-5c58f1645845"
      },
      "execution_count": null,
      "outputs": [
        {
          "output_type": "execute_result",
          "data": {
            "text/plain": [
              "0"
            ]
          },
          "metadata": {},
          "execution_count": 95
        }
      ]
    },
    {
      "cell_type": "code",
      "source": [
        "import math"
      ],
      "metadata": {
        "id": "X2LqGmzI9PHX"
      },
      "execution_count": null,
      "outputs": []
    },
    {
      "cell_type": "code",
      "source": [
        "math.sqrt(64) # Kök alma"
      ],
      "metadata": {
        "colab": {
          "base_uri": "https://localhost:8080/"
        },
        "id": "ceJb5MOx9eDY",
        "outputId": "55f008c8-6821-4d10-d258-8ce7681e63b9"
      },
      "execution_count": null,
      "outputs": [
        {
          "output_type": "execute_result",
          "data": {
            "text/plain": [
              "8.0"
            ]
          },
          "metadata": {},
          "execution_count": 97
        }
      ]
    },
    {
      "cell_type": "code",
      "source": [
        "def karakokBul(x):\n",
        "  return x**(1/2)"
      ],
      "metadata": {
        "id": "lYMSh0nS9ghb"
      },
      "execution_count": null,
      "outputs": []
    },
    {
      "cell_type": "code",
      "source": [
        "karakokBul(25)"
      ],
      "metadata": {
        "colab": {
          "base_uri": "https://localhost:8080/"
        },
        "id": "4f5v4Q7S9rsj",
        "outputId": "a08f2af9-d93e-4f0b-f420-632bd6b8e4dc"
      },
      "execution_count": null,
      "outputs": [
        {
          "output_type": "execute_result",
          "data": {
            "text/plain": [
              "5.0"
            ]
          },
          "metadata": {},
          "execution_count": 99
        }
      ]
    },
    {
      "cell_type": "code",
      "source": [
        "math.factorial(5)"
      ],
      "metadata": {
        "colab": {
          "base_uri": "https://localhost:8080/"
        },
        "id": "5CS_QCmf9tN5",
        "outputId": "39c40624-393f-4477-a318-272b08201d20"
      },
      "execution_count": null,
      "outputs": [
        {
          "output_type": "execute_result",
          "data": {
            "text/plain": [
              "120"
            ]
          },
          "metadata": {},
          "execution_count": 100
        }
      ]
    },
    {
      "cell_type": "code",
      "source": [
        "def faktoriyelHesapla(sayi):\n",
        "  if sayi<=0:\n",
        "    return 1\n",
        "  else:\n",
        "    return sayi * faktoriyelHesapla(sayi-1)"
      ],
      "metadata": {
        "id": "h1dU5ODv916j"
      },
      "execution_count": null,
      "outputs": []
    },
    {
      "cell_type": "code",
      "source": [
        "faktoriyelHesapla(5)"
      ],
      "metadata": {
        "colab": {
          "base_uri": "https://localhost:8080/"
        },
        "id": "xwZ8eRQ2-aN-",
        "outputId": "a20ddb5d-51bd-46a1-b738-a1629ee85462"
      },
      "execution_count": null,
      "outputs": [
        {
          "output_type": "execute_result",
          "data": {
            "text/plain": [
              "120"
            ]
          },
          "metadata": {},
          "execution_count": 114
        }
      ]
    },
    {
      "cell_type": "code",
      "source": [
        "def faktoriyelHesapla2(n):\n",
        "  faktoriyel = 1\n",
        "  for i in range(1,n+1):\n",
        "      faktoriyel *= i\n",
        "  return faktoriyel # Bak"
      ],
      "metadata": {
        "id": "oxFHiXcj-cN-"
      },
      "execution_count": null,
      "outputs": []
    },
    {
      "cell_type": "code",
      "source": [
        "faktoriyelHesapla2(5)"
      ],
      "metadata": {
        "colab": {
          "base_uri": "https://localhost:8080/"
        },
        "id": "NvEkIGqo_cOb",
        "outputId": "8ddb77a2-240c-4c6d-a3bf-4e8f6b9c3750"
      },
      "execution_count": null,
      "outputs": [
        {
          "output_type": "execute_result",
          "data": {
            "text/plain": [
              "120"
            ]
          },
          "metadata": {},
          "execution_count": 129
        }
      ]
    },
    {
      "cell_type": "markdown",
      "source": [
        "# **Vizeden Önceki Hafta**"
      ],
      "metadata": {
        "id": "IPX0gjp8B3gG"
      }
    },
    {
      "cell_type": "code",
      "source": [
        "def ikiKatı(x):\n",
        "  return x*2\n",
        "\n",
        "def birCikar(x):\n",
        "  return x-1\n",
        "\n",
        "def kareAl(x):\n",
        "  return x*x\n",
        "\n",
        "import math as matematik\n",
        "\n",
        "fonksiyonlarListesi=[\n",
        "    ikiKatı,\n",
        "    birCikar,\n",
        "    kareAl,\n",
        "    matematik.sqrt\n",
        "]\n"
      ],
      "metadata": {
        "id": "js08aax4CAyo"
      },
      "execution_count": null,
      "outputs": []
    },
    {
      "cell_type": "code",
      "source": [
        "sayi=5\n",
        "\n",
        "for i in fonksiyonlarListesi:\n",
        "  sayi=i(sayi)\n",
        "  print(sayi)"
      ],
      "metadata": {
        "colab": {
          "base_uri": "https://localhost:8080/"
        },
        "id": "JZXBCfiFC3mT",
        "outputId": "1fac3166-d5a6-4091-ef13-410af7820bff"
      },
      "execution_count": null,
      "outputs": [
        {
          "output_type": "stream",
          "name": "stdout",
          "text": [
            "10\n",
            "9\n",
            "81\n",
            "9.0\n"
          ]
        }
      ]
    },
    {
      "cell_type": "code",
      "source": [
        "def yazdır():\n",
        "  def yazıcı():\n",
        "    print(\"Merhaba Dünya\")\n",
        "  return yazıcı"
      ],
      "metadata": {
        "id": "8XFhIlVfDAKQ"
      },
      "execution_count": null,
      "outputs": []
    },
    {
      "cell_type": "code",
      "source": [
        "sonuc=yazdır()\n",
        "sonuc()"
      ],
      "metadata": {
        "colab": {
          "base_uri": "https://localhost:8080/"
        },
        "id": "pMf1kExFDsz1",
        "outputId": "4cd8e9db-8ccd-43fb-b93d-4a6143e8eead"
      },
      "execution_count": null,
      "outputs": [
        {
          "output_type": "stream",
          "name": "stdout",
          "text": [
            "Merhaba Dünya\n"
          ]
        }
      ]
    },
    {
      "cell_type": "code",
      "source": [
        "sonuc=yazıcı() #Hata veriyor.(Sadece yazdır adlı fonksiyon üzerinden çağırabiliriz.)\n",
        "sonuc"
      ],
      "metadata": {
        "colab": {
          "base_uri": "https://localhost:8080/",
          "height": 159
        },
        "id": "7ckPoEyUDxJo",
        "outputId": "a9af2ef4-cddd-440e-a3af-dd7bbd679249"
      },
      "execution_count": null,
      "outputs": [
        {
          "output_type": "error",
          "ename": "NameError",
          "evalue": "name 'yazıcı' is not defined",
          "traceback": [
            "\u001b[0;31m---------------------------------------------------------------------------\u001b[0m",
            "\u001b[0;31mNameError\u001b[0m                                 Traceback (most recent call last)",
            "\u001b[0;32m<ipython-input-14-52e7d1613b68>\u001b[0m in \u001b[0;36m<cell line: 0>\u001b[0;34m()\u001b[0m\n\u001b[0;32m----> 1\u001b[0;31m \u001b[0msonuc\u001b[0m\u001b[0;34m=\u001b[0m\u001b[0myazıcı\u001b[0m\u001b[0;34m(\u001b[0m\u001b[0;34m)\u001b[0m\u001b[0;34m\u001b[0m\u001b[0;34m\u001b[0m\u001b[0m\n\u001b[0m\u001b[1;32m      2\u001b[0m \u001b[0msonuc\u001b[0m\u001b[0;34m\u001b[0m\u001b[0;34m\u001b[0m\u001b[0m\n",
            "\u001b[0;31mNameError\u001b[0m: name 'yazıcı' is not defined"
          ]
        }
      ]
    },
    {
      "cell_type": "code",
      "source": [
        "def carp(a):\n",
        "  def carpma (x):\n",
        "    return x*a\n",
        "  return carpma"
      ],
      "metadata": {
        "id": "9TJO1S1REayq"
      },
      "execution_count": null,
      "outputs": []
    },
    {
      "cell_type": "code",
      "source": [
        "sonuc1=carp(1)\n",
        "sonuc2=carp(2)\n",
        "sonuc3=carp(3)"
      ],
      "metadata": {
        "id": "Jw9-hC2PEy3b"
      },
      "execution_count": null,
      "outputs": []
    },
    {
      "cell_type": "code",
      "source": [
        "sonuc1(2)"
      ],
      "metadata": {
        "colab": {
          "base_uri": "https://localhost:8080/"
        },
        "id": "Afrq3RhrE6-u",
        "outputId": "898299f2-aa2e-4c6c-dc67-f560cb95816e"
      },
      "execution_count": null,
      "outputs": [
        {
          "output_type": "execute_result",
          "data": {
            "text/plain": [
              "2"
            ]
          },
          "metadata": {},
          "execution_count": 17
        }
      ]
    },
    {
      "cell_type": "code",
      "source": [
        "sonuc2(3)"
      ],
      "metadata": {
        "colab": {
          "base_uri": "https://localhost:8080/"
        },
        "id": "_mkGuHL5FARC",
        "outputId": "6ea86725-698e-4017-80b4-c7051b8ad2ce"
      },
      "execution_count": null,
      "outputs": [
        {
          "output_type": "execute_result",
          "data": {
            "text/plain": [
              "6"
            ]
          },
          "metadata": {},
          "execution_count": 18
        }
      ]
    },
    {
      "cell_type": "code",
      "source": [
        "liste=[0,1,2,3,4,5,6,7,8,9]\n",
        "\n",
        "kareListe=[]\n",
        "\n",
        "for i in liste:\n",
        "  kareListe.append(i**2)\n",
        "\n",
        "print(kareListe)"
      ],
      "metadata": {
        "colab": {
          "base_uri": "https://localhost:8080/"
        },
        "id": "fZjN0nE4FHvI",
        "outputId": "c9b46c9b-7746-4ad6-b286-b8189918a137"
      },
      "execution_count": null,
      "outputs": [
        {
          "output_type": "stream",
          "name": "stdout",
          "text": [
            "[0, 1, 4, 9, 16, 25, 36, 49, 64, 81]\n"
          ]
        }
      ]
    },
    {
      "cell_type": "code",
      "source": [
        "def kareHesapla(x):\n",
        "  return x**2"
      ],
      "metadata": {
        "id": "S0O8EzzWFxTE"
      },
      "execution_count": null,
      "outputs": []
    },
    {
      "cell_type": "code",
      "source": [
        "kareHesapla(liste) #Hata veriyor.(Tek bir değer gidiyor gibi düşünüyor bu yüzden hata veriyor.)"
      ],
      "metadata": {
        "colab": {
          "base_uri": "https://localhost:8080/",
          "height": 211
        },
        "id": "D_j-qEjmF2O5",
        "outputId": "5ca38261-5d62-411c-ef8b-7d987fbc33da"
      },
      "execution_count": null,
      "outputs": [
        {
          "output_type": "error",
          "ename": "TypeError",
          "evalue": "unsupported operand type(s) for ** or pow(): 'list' and 'int'",
          "traceback": [
            "\u001b[0;31m---------------------------------------------------------------------------\u001b[0m",
            "\u001b[0;31mTypeError\u001b[0m                                 Traceback (most recent call last)",
            "\u001b[0;32m<ipython-input-8-da85ee48f507>\u001b[0m in \u001b[0;36m<cell line: 0>\u001b[0;34m()\u001b[0m\n\u001b[0;32m----> 1\u001b[0;31m \u001b[0mkareHesapla\u001b[0m\u001b[0;34m(\u001b[0m\u001b[0mliste\u001b[0m\u001b[0;34m)\u001b[0m \u001b[0;31m#Hata veriyor.(Tek bir değer gidiyor gibi düşünüyor bu yüzden hata veriyor.)\u001b[0m\u001b[0;34m\u001b[0m\u001b[0;34m\u001b[0m\u001b[0m\n\u001b[0m",
            "\u001b[0;32m<ipython-input-7-710956ba74ce>\u001b[0m in \u001b[0;36mkareHesapla\u001b[0;34m(x)\u001b[0m\n\u001b[1;32m      1\u001b[0m \u001b[0;32mdef\u001b[0m \u001b[0mkareHesapla\u001b[0m\u001b[0;34m(\u001b[0m\u001b[0mx\u001b[0m\u001b[0;34m)\u001b[0m\u001b[0;34m:\u001b[0m\u001b[0;34m\u001b[0m\u001b[0;34m\u001b[0m\u001b[0m\n\u001b[0;32m----> 2\u001b[0;31m   \u001b[0;32mreturn\u001b[0m \u001b[0mx\u001b[0m\u001b[0;34m**\u001b[0m\u001b[0;36m2\u001b[0m\u001b[0;34m\u001b[0m\u001b[0;34m\u001b[0m\u001b[0m\n\u001b[0m",
            "\u001b[0;31mTypeError\u001b[0m: unsupported operand type(s) for ** or pow(): 'list' and 'int'"
          ]
        }
      ]
    },
    {
      "cell_type": "code",
      "source": [
        "kareHesaplaSonuc=list(map(kareHesapla,liste))\n",
        "kareHesaplaSonuc"
      ],
      "metadata": {
        "colab": {
          "base_uri": "https://localhost:8080/"
        },
        "id": "NAkCC2DtF8U8",
        "outputId": "6f84997c-369a-48be-a12c-604a1f2dbbc8"
      },
      "execution_count": null,
      "outputs": [
        {
          "output_type": "execute_result",
          "data": {
            "text/plain": [
              "[0, 1, 4, 9, 16, 25, 36, 49, 64, 81]"
            ]
          },
          "metadata": {},
          "execution_count": 9
        }
      ]
    },
    {
      "cell_type": "code",
      "source": [
        "kareHesaplaSonuc=tuple(map(kareHesapla,liste))\n",
        "kareHesaplaSonuc"
      ],
      "metadata": {
        "colab": {
          "base_uri": "https://localhost:8080/"
        },
        "id": "qCqM3SAEGm1d",
        "outputId": "4ae41486-aef2-41e5-de86-1956bf4eab09"
      },
      "execution_count": null,
      "outputs": [
        {
          "output_type": "execute_result",
          "data": {
            "text/plain": [
              "(0, 1, 4, 9, 16, 25, 36, 49, 64, 81)"
            ]
          },
          "metadata": {},
          "execution_count": 10
        }
      ]
    },
    {
      "cell_type": "code",
      "source": [
        "kareHesapla1=lambda x:x**2\n",
        "kareHesaplaSonuc=list(map(kareHesapla1,liste))\n",
        "kareHesaplaSonuc"
      ],
      "metadata": {
        "colab": {
          "base_uri": "https://localhost:8080/"
        },
        "id": "2EO_2tkcGz0F",
        "outputId": "2f9ea9a5-d0df-439a-d103-ba70de62db2b"
      },
      "execution_count": null,
      "outputs": [
        {
          "output_type": "execute_result",
          "data": {
            "text/plain": [
              "[0, 1, 4, 9, 16, 25, 36, 49, 64, 81]"
            ]
          },
          "metadata": {},
          "execution_count": 12
        }
      ]
    },
    {
      "cell_type": "code",
      "source": [
        "def carpmaYap(a):\n",
        "  return lambda x: x*a"
      ],
      "metadata": {
        "id": "Xgc1FzqzG9y1"
      },
      "execution_count": null,
      "outputs": []
    },
    {
      "cell_type": "code",
      "source": [
        "a = carpmaYap(10)\n",
        "a(5)"
      ],
      "metadata": {
        "colab": {
          "base_uri": "https://localhost:8080/"
        },
        "id": "OVT8fpDpHbjR",
        "outputId": "c9ad578d-df65-4339-eee0-093a5b636655"
      },
      "execution_count": null,
      "outputs": [
        {
          "output_type": "execute_result",
          "data": {
            "text/plain": [
              "50"
            ]
          },
          "metadata": {},
          "execution_count": 15
        }
      ]
    },
    {
      "cell_type": "code",
      "source": [
        "from math import sqrt\n",
        "sqrt(float(int(\"16\")))"
      ],
      "metadata": {
        "colab": {
          "base_uri": "https://localhost:8080/"
        },
        "id": "8wCTDs_9HhEq",
        "outputId": "c492fe1f-a521-4407-e5ff-d9e2d445286a"
      },
      "execution_count": null,
      "outputs": [
        {
          "output_type": "execute_result",
          "data": {
            "text/plain": [
              "4"
            ]
          },
          "metadata": {},
          "execution_count": 17
        }
      ]
    },
    {
      "cell_type": "code",
      "source": [
        "sqrt(int(\"16\"))"
      ],
      "metadata": {
        "colab": {
          "base_uri": "https://localhost:8080/"
        },
        "id": "wKaxJfZIHxGw",
        "outputId": "fe8e116b-fab8-4848-d34e-35d7d1ff7741"
      },
      "execution_count": null,
      "outputs": [
        {
          "output_type": "execute_result",
          "data": {
            "text/plain": [
              "4.0"
            ]
          },
          "metadata": {},
          "execution_count": 38
        }
      ]
    },
    {
      "cell_type": "code",
      "source": [
        "from datetime import datetime\n",
        "baslangıçZamanı=datetime.now()\n",
        "\n",
        "isim=input(\"İsminizi Giriniz: \")\n",
        "bitişZamanı=datetime.now()\n",
        "\n",
        "gecenSure=bitişZamanı-baslangıçZamanı\n",
        "print(gecenSure)"
      ],
      "metadata": {
        "colab": {
          "base_uri": "https://localhost:8080/"
        },
        "id": "oUzXpyhQH0M_",
        "outputId": "d87ff2cf-7e32-4f6d-d2f1-b5e45438316c"
      },
      "execution_count": null,
      "outputs": [
        {
          "output_type": "stream",
          "name": "stdout",
          "text": [
            "İsminizi Giriniz: a\n",
            "0:00:00.452418\n"
          ]
        }
      ]
    },
    {
      "cell_type": "code",
      "source": [
        "from datetime import datetime\n",
        "baslangıçZamanı=datetime.now()\n",
        "\n",
        "toplam=0\n",
        "for i in range (1,10000):\n",
        "  toplam+=i\n",
        "  for j in range (1,10000):\n",
        "    toplam+=j\n",
        "\n",
        "bitişZamanı=datetime.now()\n",
        "\n",
        "gecenSure=bitişZamanı-baslangıçZamanı\n",
        "print(gecenSure)"
      ],
      "metadata": {
        "colab": {
          "base_uri": "https://localhost:8080/"
        },
        "id": "h-0lXWSrIbBc",
        "outputId": "25d0f9b4-4b36-4dcf-e81b-eddf2851ef06"
      },
      "execution_count": null,
      "outputs": [
        {
          "output_type": "stream",
          "name": "stdout",
          "text": [
            "0:00:21.154579\n"
          ]
        }
      ]
    },
    {
      "cell_type": "markdown",
      "source": [
        "# **EBOBU BULAN FONKSİYONU YAZINIZ**"
      ],
      "metadata": {
        "id": "FUqIAth-I7oe"
      }
    },
    {
      "cell_type": "code",
      "source": [
        "sayı1=int(input(\"Lütfen ilk sayıyı giriniz: \"))\n",
        "sayı2=int(input(\"Lütfen ikinci sayıyı giriniz: \"))\n",
        "\n",
        "enKucukSayı=sayı1\n",
        "if sayı2<sayı1:\n",
        "  enKucukSayı=sayı2\n",
        "\n",
        "for i in range(1,enKucukSayı+1):\n",
        "  if sayı1%i==0 and sayı2%i==0:\n",
        "    ebob=i\n",
        "\n",
        "print(\"EBOB:\",ebob)"
      ],
      "metadata": {
        "colab": {
          "base_uri": "https://localhost:8080/"
        },
        "id": "Mk3OkoxMJCaN",
        "outputId": "388a4503-5995-4db4-ffd5-e68b9175252b"
      },
      "execution_count": null,
      "outputs": [
        {
          "output_type": "stream",
          "name": "stdout",
          "text": [
            "Lütfen ilk sayıyı giriniz: 120\n",
            "Lütfen ikinci sayıyı giriniz: 48\n",
            "EBOB: 24\n"
          ]
        }
      ]
    },
    {
      "cell_type": "markdown",
      "source": [
        "Verilen listedeki elemanların 10 ile 20 arasında olan elamanların karelerinin toplamını bulunuz.\n",
        "test listesi=[5,12,17,23,30,8,14]\n",
        "cevap=629"
      ],
      "metadata": {
        "id": "xNBu9onqOGS0"
      }
    },
    {
      "cell_type": "code",
      "source": [
        "test_listesi=[5,12,17,23,30,8,14]\n",
        "\n",
        "def karelerToplamı(liste):\n",
        "  toplam=0\n",
        "  for i in liste:\n",
        "    if i>=10 and i<=20:\n",
        "      toplam+=i**2\n",
        "  return toplam\n",
        "\n",
        "print(karelerToplamı(test_listesi))"
      ],
      "metadata": {
        "colab": {
          "base_uri": "https://localhost:8080/"
        },
        "id": "XO_5iEk8OYMv",
        "outputId": "f9ccaef9-f968-4b22-a578-bc8da824cf68"
      },
      "execution_count": null,
      "outputs": [
        {
          "output_type": "stream",
          "name": "stdout",
          "text": [
            "629\n"
          ]
        }
      ]
    },
    {
      "cell_type": "code",
      "source": [
        "def karelerToplamı2(sayılar):\n",
        "  filtrelendi=filter(lambda x:10<= x <=20,sayılar)\n",
        "\n",
        "  kareler=map(lambda x:x**2,filtrelendi)\n",
        "\n",
        "  return sum(kareler)\n",
        "\n",
        "test_listesi=[5,12,17,23,30,8,14]\n",
        "sonuc=karelerToplamı2(test_listesi)\n",
        "print(sonuc)"
      ],
      "metadata": {
        "colab": {
          "base_uri": "https://localhost:8080/"
        },
        "id": "Pgr3fxbZOtGD",
        "outputId": "9f8e54b7-68b0-4679-c69f-c48b5a201940"
      },
      "execution_count": null,
      "outputs": [
        {
          "output_type": "stream",
          "name": "stdout",
          "text": [
            "629\n"
          ]
        }
      ]
    },
    {
      "cell_type": "code",
      "source": [
        "class  Ogrenci:\n",
        "  def yazdır(self):\n",
        "    print(\"Python Class Ogreniyorum\")"
      ],
      "metadata": {
        "id": "LCr0bOD6QN4k"
      },
      "execution_count": null,
      "outputs": []
    },
    {
      "cell_type": "code",
      "source": [
        "o= Ogrenci()\n",
        "o.yazdır()"
      ],
      "metadata": {
        "colab": {
          "base_uri": "https://localhost:8080/"
        },
        "id": "dMcsSmnkzx9c",
        "outputId": "6b544ea2-f0dc-43ac-f5df-d2e02f2ea6e7"
      },
      "execution_count": null,
      "outputs": [
        {
          "output_type": "stream",
          "name": "stdout",
          "text": [
            "Python Class Ogreniyorum\n"
          ]
        }
      ]
    },
    {
      "cell_type": "code",
      "source": [
        "print(o)"
      ],
      "metadata": {
        "colab": {
          "base_uri": "https://localhost:8080/"
        },
        "id": "9rfbdkrjz0Qt",
        "outputId": "ec00258f-c8f9-4038-9b45-1b89d1bd91af"
      },
      "execution_count": null,
      "outputs": [
        {
          "output_type": "stream",
          "name": "stdout",
          "text": [
            "<__main__.Ogrenci object at 0x7d0b079a4c50>\n"
          ]
        }
      ]
    },
    {
      "cell_type": "code",
      "source": [
        "print(Ogrenci)"
      ],
      "metadata": {
        "colab": {
          "base_uri": "https://localhost:8080/"
        },
        "id": "4qnnr0QD0RES",
        "outputId": "ccc9f8b4-fccf-48e1-e399-e157e089f135"
      },
      "execution_count": null,
      "outputs": [
        {
          "output_type": "stream",
          "name": "stdout",
          "text": [
            "<class '__main__.Ogrenci'>\n"
          ]
        }
      ]
    },
    {
      "cell_type": "code",
      "source": [
        "class ogrenci1:\n",
        "\n",
        "  def yazdır(self):\n",
        "    print(\"Merhaba\")\n",
        "    print(self)\n",
        "\n",
        "o1 = ogrenci1()\n",
        "o1.yazdır()"
      ],
      "metadata": {
        "colab": {
          "base_uri": "https://localhost:8080/"
        },
        "id": "P1CyZ09Q0Xma",
        "outputId": "b5eca2be-c872-47fc-c10c-539e18dd0cdd"
      },
      "execution_count": null,
      "outputs": [
        {
          "output_type": "stream",
          "name": "stdout",
          "text": [
            "Merhaba\n",
            "<__main__.ogrenci1 object at 0x7d0b079a6210>\n"
          ]
        }
      ]
    },
    {
      "cell_type": "code",
      "source": [
        "print(o1)"
      ],
      "metadata": {
        "colab": {
          "base_uri": "https://localhost:8080/"
        },
        "id": "l6dfsp7U0veR",
        "outputId": "5cf1786b-6561-4a39-fb43-4333b27305a4"
      },
      "execution_count": null,
      "outputs": [
        {
          "output_type": "stream",
          "name": "stdout",
          "text": [
            "<__main__.ogrenci1 object at 0x7d0b079a6210>\n"
          ]
        }
      ]
    },
    {
      "cell_type": "code",
      "source": [
        "class futbol:\n",
        "\n",
        "  def gol(self,x):\n",
        "    self.a=x\n",
        "\n",
        "  def yazdır(self):\n",
        "    print(self.a)\n",
        "\n",
        "f= futbol()"
      ],
      "metadata": {
        "id": "Jy71mXO301Hk"
      },
      "execution_count": null,
      "outputs": []
    },
    {
      "cell_type": "code",
      "source": [
        "f.gol(5)"
      ],
      "metadata": {
        "id": "JzMSMJrs1vhC"
      },
      "execution_count": null,
      "outputs": []
    },
    {
      "cell_type": "code",
      "source": [
        "print(a) #Hata alınır.(a sadece ilk def'in içinde tanımlıdır.)"
      ],
      "metadata": {
        "colab": {
          "base_uri": "https://localhost:8080/",
          "height": 141
        },
        "id": "tNG1SnQN1w74",
        "outputId": "7019613e-0cb0-41f4-dcae-80098eb0bc5f"
      },
      "execution_count": null,
      "outputs": [
        {
          "output_type": "error",
          "ename": "NameError",
          "evalue": "name 'a' is not defined",
          "traceback": [
            "\u001b[0;31m---------------------------------------------------------------------------\u001b[0m",
            "\u001b[0;31mNameError\u001b[0m                                 Traceback (most recent call last)",
            "\u001b[0;32m<ipython-input-15-bca0e2660b9f>\u001b[0m in \u001b[0;36m<cell line: 0>\u001b[0;34m()\u001b[0m\n\u001b[0;32m----> 1\u001b[0;31m \u001b[0mprint\u001b[0m\u001b[0;34m(\u001b[0m\u001b[0ma\u001b[0m\u001b[0;34m)\u001b[0m\u001b[0;34m\u001b[0m\u001b[0;34m\u001b[0m\u001b[0m\n\u001b[0m",
            "\u001b[0;31mNameError\u001b[0m: name 'a' is not defined"
          ]
        }
      ]
    },
    {
      "cell_type": "code",
      "source": [
        "f.a"
      ],
      "metadata": {
        "colab": {
          "base_uri": "https://localhost:8080/"
        },
        "id": "4kzLQSGZ13dA",
        "outputId": "a6b94cd9-4f3c-4d4b-df97-904516201043"
      },
      "execution_count": null,
      "outputs": [
        {
          "output_type": "execute_result",
          "data": {
            "text/plain": [
              "5"
            ]
          },
          "metadata": {},
          "execution_count": 16
        }
      ]
    },
    {
      "cell_type": "code",
      "source": [
        "print(f)"
      ],
      "metadata": {
        "colab": {
          "base_uri": "https://localhost:8080/"
        },
        "id": "Vntyfncv142Y",
        "outputId": "7855e967-643e-471a-a3d5-bf35e97b08fe"
      },
      "execution_count": null,
      "outputs": [
        {
          "output_type": "stream",
          "name": "stdout",
          "text": [
            "<__main__.futbol object at 0x7d0b079d91d0>\n"
          ]
        }
      ]
    },
    {
      "cell_type": "code",
      "source": [
        "a=10"
      ],
      "metadata": {
        "id": "nAeyvCbK2K7B"
      },
      "execution_count": null,
      "outputs": []
    },
    {
      "cell_type": "code",
      "source": [
        "id(a)#Bellekteki eşsiz adresini verir."
      ],
      "metadata": {
        "colab": {
          "base_uri": "https://localhost:8080/"
        },
        "id": "Y2xxt9yF2bm5",
        "outputId": "e20c3fab-ecb2-4d85-fc14-def9483e79c3"
      },
      "execution_count": null,
      "outputs": [
        {
          "output_type": "execute_result",
          "data": {
            "text/plain": [
              "10751144"
            ]
          },
          "metadata": {},
          "execution_count": 21
        }
      ]
    },
    {
      "cell_type": "code",
      "source": [
        "b=10"
      ],
      "metadata": {
        "id": "Hqyowzt82e7e"
      },
      "execution_count": null,
      "outputs": []
    },
    {
      "cell_type": "code",
      "source": [
        "id(b)"
      ],
      "metadata": {
        "colab": {
          "base_uri": "https://localhost:8080/"
        },
        "id": "0BztoRDD2mxr",
        "outputId": "a9202186-8b5b-44c9-c848-4b273818fefc"
      },
      "execution_count": null,
      "outputs": [
        {
          "output_type": "execute_result",
          "data": {
            "text/plain": [
              "10751144"
            ]
          },
          "metadata": {},
          "execution_count": 23
        }
      ]
    },
    {
      "cell_type": "code",
      "source": [
        "class Test:\n",
        "  def ekle(self):\n",
        "    print(self)\n",
        "    print(id(self))\n",
        "    print(\"Eklendi\")\n",
        "t=Test()"
      ],
      "metadata": {
        "id": "yYDJhLhf2nYY"
      },
      "execution_count": null,
      "outputs": []
    },
    {
      "cell_type": "code",
      "source": [
        "print(t)"
      ],
      "metadata": {
        "colab": {
          "base_uri": "https://localhost:8080/"
        },
        "id": "ADFp_Ona3Fo0",
        "outputId": "0a6d444e-a32c-497d-bcfd-ab72c3a6c0cf"
      },
      "execution_count": null,
      "outputs": [
        {
          "output_type": "stream",
          "name": "stdout",
          "text": [
            "<__main__.Test object at 0x7d0b079c3910>\n"
          ]
        }
      ]
    },
    {
      "cell_type": "code",
      "source": [
        "print(id(t))"
      ],
      "metadata": {
        "colab": {
          "base_uri": "https://localhost:8080/"
        },
        "id": "YfQe_Wps3G9m",
        "outputId": "4cd3349c-04df-4585-8fe3-ba9d97864118"
      },
      "execution_count": null,
      "outputs": [
        {
          "output_type": "stream",
          "name": "stdout",
          "text": [
            "137486325790992\n"
          ]
        }
      ]
    },
    {
      "cell_type": "code",
      "source": [
        "t.ekle()"
      ],
      "metadata": {
        "colab": {
          "base_uri": "https://localhost:8080/"
        },
        "id": "CygAl7Nt3J1S",
        "outputId": "c782f3a7-e872-4a1f-86de-5cb7f8e5a996"
      },
      "execution_count": null,
      "outputs": [
        {
          "output_type": "stream",
          "name": "stdout",
          "text": [
            "<__main__.Test object at 0x7d0b079c3910>\n",
            "137486325790992\n",
            "Eklendi\n"
          ]
        }
      ]
    },
    {
      "cell_type": "code",
      "source": [
        "t2= Test()\n",
        "print(t2)"
      ],
      "metadata": {
        "colab": {
          "base_uri": "https://localhost:8080/"
        },
        "id": "2-rsu6Pf3c5v",
        "outputId": "f4d2ee20-5084-4405-e59c-0d5949ac7852"
      },
      "execution_count": null,
      "outputs": [
        {
          "output_type": "stream",
          "name": "stdout",
          "text": [
            "<__main__.Test object at 0x7d0b079c0550>\n"
          ]
        }
      ]
    },
    {
      "cell_type": "code",
      "source": [
        "t2.ekle()"
      ],
      "metadata": {
        "colab": {
          "base_uri": "https://localhost:8080/"
        },
        "id": "QiQo82Qi3i05",
        "outputId": "469738bd-0450-41fd-ea34-3ababfa3a8fe"
      },
      "execution_count": null,
      "outputs": [
        {
          "output_type": "stream",
          "name": "stdout",
          "text": [
            "<__main__.Test object at 0x7d0b079c0550>\n",
            "137486325777744\n",
            "Eklendi\n"
          ]
        }
      ]
    },
    {
      "cell_type": "code",
      "source": [
        "class Test2:\n",
        "\n",
        "  def ekle(self):\n",
        "    print(\"Bu bir metotdur\")\n",
        "\n",
        "  def çıkartma(sel,a,b):\n",
        "    print(a-b)\n",
        "\n",
        "t1=Test2()\n",
        "t2=Test2()\n"
      ],
      "metadata": {
        "id": "gUD60b_z3kIw"
      },
      "execution_count": null,
      "outputs": []
    },
    {
      "cell_type": "code",
      "source": [
        "t1.ekle()"
      ],
      "metadata": {
        "colab": {
          "base_uri": "https://localhost:8080/"
        },
        "id": "fXMpjjlZ4IsD",
        "outputId": "b67fae8e-4027-4600-8e03-f0684eb852dc"
      },
      "execution_count": null,
      "outputs": [
        {
          "output_type": "stream",
          "name": "stdout",
          "text": [
            "Bu bir metotdur\n"
          ]
        }
      ]
    },
    {
      "cell_type": "code",
      "source": [
        "t2.ekle()"
      ],
      "metadata": {
        "colab": {
          "base_uri": "https://localhost:8080/"
        },
        "id": "rF3yIogp4KPE",
        "outputId": "308a2e0d-9e7e-43b6-96bf-77885fd06103"
      },
      "execution_count": null,
      "outputs": [
        {
          "output_type": "stream",
          "name": "stdout",
          "text": [
            "Bu bir metotdur\n"
          ]
        }
      ]
    },
    {
      "cell_type": "code",
      "source": [
        "t1.çıkartma(10,12)"
      ],
      "metadata": {
        "colab": {
          "base_uri": "https://localhost:8080/"
        },
        "id": "wIHzXvbT4Lz8",
        "outputId": "36ae3bc7-cb9b-4a07-c895-0b5cb8619f36"
      },
      "execution_count": null,
      "outputs": [
        {
          "output_type": "stream",
          "name": "stdout",
          "text": [
            "-2\n"
          ]
        }
      ]
    },
    {
      "cell_type": "code",
      "source": [
        "t2.çıkartma(140,120)"
      ],
      "metadata": {
        "colab": {
          "base_uri": "https://localhost:8080/"
        },
        "id": "-7Acs6D44UhF",
        "outputId": "c129c38a-31d4-4029-b656-62c312374090"
      },
      "execution_count": null,
      "outputs": [
        {
          "output_type": "stream",
          "name": "stdout",
          "text": [
            "20\n"
          ]
        }
      ]
    },
    {
      "cell_type": "code",
      "source": [
        "class Test2:\n",
        "  def yaz(self):\n",
        "    print(\"Bu bir fonksiyondur\")\n",
        "\n",
        "  def degisken(self,a,b):\n",
        "    self.x=a\n",
        "    self.y=b\n",
        "\n",
        "  def goster(self):\n",
        "    print(self.x)\n",
        "    print(self.y)\n",
        "\n",
        "t1=Test2()\n",
        "t2=Test2()"
      ],
      "metadata": {
        "id": "RTw_JZ9V4aD1"
      },
      "execution_count": null,
      "outputs": []
    },
    {
      "cell_type": "code",
      "source": [
        "t1.yaz()"
      ],
      "metadata": {
        "colab": {
          "base_uri": "https://localhost:8080/"
        },
        "id": "16ZDEQxA5Cou",
        "outputId": "9f0199e5-c9c9-4440-87a3-6a0013ecfd0f"
      },
      "execution_count": null,
      "outputs": [
        {
          "output_type": "stream",
          "name": "stdout",
          "text": [
            "Bu bir fonksiyondur\n"
          ]
        }
      ]
    },
    {
      "cell_type": "code",
      "source": [
        "t2.yaz()"
      ],
      "metadata": {
        "colab": {
          "base_uri": "https://localhost:8080/"
        },
        "id": "Xkc_xfri5M93",
        "outputId": "f4c61f62-a0fc-4931-ddbe-be66ee29b25e"
      },
      "execution_count": null,
      "outputs": [
        {
          "output_type": "stream",
          "name": "stdout",
          "text": [
            "Bu bir fonksiyondur\n"
          ]
        }
      ]
    },
    {
      "cell_type": "code",
      "source": [
        "t1.degisken(100,-50)"
      ],
      "metadata": {
        "id": "AEn2dgZE5OT8"
      },
      "execution_count": null,
      "outputs": []
    },
    {
      "cell_type": "code",
      "source": [
        "t1.goster()"
      ],
      "metadata": {
        "colab": {
          "base_uri": "https://localhost:8080/"
        },
        "id": "WQ_XkyBI5Rxa",
        "outputId": "8618a7b8-fb4c-42fb-c29e-cd60339e545c"
      },
      "execution_count": null,
      "outputs": [
        {
          "output_type": "stream",
          "name": "stdout",
          "text": [
            "100\n",
            "-50\n"
          ]
        }
      ]
    },
    {
      "cell_type": "code",
      "source": [
        "t1.x"
      ],
      "metadata": {
        "colab": {
          "base_uri": "https://localhost:8080/"
        },
        "id": "S6E9qKra5UPQ",
        "outputId": "7f1bf26b-b4f1-4f0d-8601-03a7c07a45bf"
      },
      "execution_count": null,
      "outputs": [
        {
          "output_type": "execute_result",
          "data": {
            "text/plain": [
              "100"
            ]
          },
          "metadata": {},
          "execution_count": 45
        }
      ]
    },
    {
      "cell_type": "code",
      "source": [
        "t1.y"
      ],
      "metadata": {
        "colab": {
          "base_uri": "https://localhost:8080/"
        },
        "id": "5_9POfGY5blz",
        "outputId": "c37a521c-a3fe-455d-9fda-004d78414b69"
      },
      "execution_count": null,
      "outputs": [
        {
          "output_type": "execute_result",
          "data": {
            "text/plain": [
              "-50"
            ]
          },
          "metadata": {},
          "execution_count": 47
        }
      ]
    },
    {
      "cell_type": "code",
      "source": [
        "t1.a #Hata veriyor."
      ],
      "metadata": {
        "colab": {
          "base_uri": "https://localhost:8080/",
          "height": 141
        },
        "id": "eF1gKZAT5gYi",
        "outputId": "a049c071-be52-465d-df4a-9d4d198e8484"
      },
      "execution_count": null,
      "outputs": [
        {
          "output_type": "error",
          "ename": "AttributeError",
          "evalue": "'Test2' object has no attribute 'a'",
          "traceback": [
            "\u001b[0;31m---------------------------------------------------------------------------\u001b[0m",
            "\u001b[0;31mAttributeError\u001b[0m                            Traceback (most recent call last)",
            "\u001b[0;32m<ipython-input-48-f4146d7aeb28>\u001b[0m in \u001b[0;36m<cell line: 0>\u001b[0;34m()\u001b[0m\n\u001b[0;32m----> 1\u001b[0;31m \u001b[0mt1\u001b[0m\u001b[0;34m.\u001b[0m\u001b[0ma\u001b[0m\u001b[0;34m\u001b[0m\u001b[0;34m\u001b[0m\u001b[0m\n\u001b[0m",
            "\u001b[0;31mAttributeError\u001b[0m: 'Test2' object has no attribute 'a'"
          ]
        }
      ]
    },
    {
      "cell_type": "code",
      "source": [
        "class ogrenci:\n",
        "  def __init__(self):\n",
        "    print(\"Bu bir yapıcı (constructor) metot\") #Bilmiyorsan okulu bırak.\n",
        "\n",
        "o1=ogrenci()"
      ],
      "metadata": {
        "colab": {
          "base_uri": "https://localhost:8080/"
        },
        "id": "PqRNuGJB5k8c",
        "outputId": "b869f1c5-ad20-4852-9468-da311e200d3f"
      },
      "execution_count": null,
      "outputs": [
        {
          "output_type": "stream",
          "name": "stdout",
          "text": [
            "Bu bir yapıcı(constructor) metot\n"
          ]
        }
      ]
    },
    {
      "cell_type": "code",
      "source": [
        "class ogrenci2:\n",
        "  def __init__(self,x):\n",
        "    self.y=x\n",
        "\n",
        "o2=ogrenci2(10)"
      ],
      "metadata": {
        "id": "eDosiyxY6Tq-"
      },
      "execution_count": null,
      "outputs": []
    },
    {
      "cell_type": "code",
      "source": [
        "o2.y"
      ],
      "metadata": {
        "colab": {
          "base_uri": "https://localhost:8080/"
        },
        "id": "dKDEYQ9Z6kmy",
        "outputId": "c9e4bdbd-726f-49fb-db7e-c5381a933e55"
      },
      "execution_count": null,
      "outputs": [
        {
          "output_type": "execute_result",
          "data": {
            "text/plain": [
              "10"
            ]
          },
          "metadata": {},
          "execution_count": 52
        }
      ]
    },
    {
      "cell_type": "code",
      "source": [
        "class ogrenci3:\n",
        "  def __init__(self,a,b):\n",
        "    self.a=a\n",
        "    self.b=b\n",
        "\n",
        "o3=ogrenci3(50,100)"
      ],
      "metadata": {
        "id": "Kv92Fn7P6n5Y"
      },
      "execution_count": null,
      "outputs": []
    },
    {
      "cell_type": "code",
      "source": [
        "o3.a"
      ],
      "metadata": {
        "colab": {
          "base_uri": "https://localhost:8080/"
        },
        "id": "uxud0fGQ60Fr",
        "outputId": "31ffbe60-a7f7-4d42-804d-c80e8f1b350c"
      },
      "execution_count": null,
      "outputs": [
        {
          "output_type": "execute_result",
          "data": {
            "text/plain": [
              "50"
            ]
          },
          "metadata": {},
          "execution_count": 58
        }
      ]
    },
    {
      "cell_type": "code",
      "source": [
        "o3.b"
      ],
      "metadata": {
        "colab": {
          "base_uri": "https://localhost:8080/"
        },
        "id": "fFvLdEdc7Ayf",
        "outputId": "023c733d-06be-4268-b429-c2845d6ac3ed"
      },
      "execution_count": null,
      "outputs": [
        {
          "output_type": "execute_result",
          "data": {
            "text/plain": [
              "100"
            ]
          },
          "metadata": {},
          "execution_count": 60
        }
      ]
    },
    {
      "cell_type": "code",
      "source": [
        "class toplama():\n",
        "  def __init__(self,a,b):\n",
        "    self.x=a\n",
        "    self.y=b\n",
        "\n",
        "  def topla(self):\n",
        "    print(\"Toplam:\", self.x+self.y)\n",
        "\n",
        "t1=toplama(10,20)\n",
        "t1.topla()"
      ],
      "metadata": {
        "colab": {
          "base_uri": "https://localhost:8080/"
        },
        "id": "elpLPeg_7BaB",
        "outputId": "269cb4f6-f324-4c0d-cbcd-bff10b3ba86b"
      },
      "execution_count": null,
      "outputs": [
        {
          "output_type": "stream",
          "name": "stdout",
          "text": [
            "Toplam: 30\n"
          ]
        }
      ]
    },
    {
      "cell_type": "code",
      "source": [
        "class  Teacher:\n",
        "  def __init__(self,name=\"Mete\"):\n",
        "    self.name=name\n",
        "\n",
        "  def goster(self):\n",
        "    print(self.name,\"benim en sevdiğim hoca\")\n",
        "\n",
        "t1=Teacher()\n",
        "t1.goster()"
      ],
      "metadata": {
        "colab": {
          "base_uri": "https://localhost:8080/"
        },
        "id": "8_aeXp5Y7bxl",
        "outputId": "8dbc6627-e2fa-471f-a220-f9bc81893ceb"
      },
      "execution_count": null,
      "outputs": [
        {
          "output_type": "stream",
          "name": "stdout",
          "text": [
            "Mete benim en sevdiğim hoca\n"
          ]
        }
      ]
    },
    {
      "cell_type": "code",
      "source": [
        "t2=Teacher(\"Ferhat\")\n",
        "t2.goster()"
      ],
      "metadata": {
        "colab": {
          "base_uri": "https://localhost:8080/"
        },
        "id": "EkuMS8NP7_c8",
        "outputId": "5c74bb1e-4f25-4388-af2a-4c3f0d04960a"
      },
      "execution_count": null,
      "outputs": [
        {
          "output_type": "stream",
          "name": "stdout",
          "text": [
            "Ferhat benim en sevdiğim hoca\n"
          ]
        }
      ]
    },
    {
      "cell_type": "markdown",
      "source": [
        "# **Kalıtım**"
      ],
      "metadata": {
        "id": "8DAjo0lh8Jrp"
      }
    },
    {
      "cell_type": "code",
      "source": [
        "class windows7:\n",
        "  def yazdır(self):\n",
        "    print(\"Merhaba ben parent sınıf içerisindeyim.\")\n",
        "\n",
        "class windows10(windows7):\n",
        "  def goster(self):\n",
        "    print(\"Merhaba ben child sınıf içerisindeyim.\")"
      ],
      "metadata": {
        "id": "H0weEZV48Mwr"
      },
      "execution_count": null,
      "outputs": []
    },
    {
      "cell_type": "code",
      "source": [
        "x=windows7()\n",
        "x.yazdır()"
      ],
      "metadata": {
        "colab": {
          "base_uri": "https://localhost:8080/"
        },
        "id": "WoCC8EpY8vja",
        "outputId": "f69e6a7f-9b3e-4542-febe-2ea6bf6392f8"
      },
      "execution_count": null,
      "outputs": [
        {
          "output_type": "stream",
          "name": "stdout",
          "text": [
            "Merhaba ben parent sınıf içerisindeyim.\n"
          ]
        }
      ]
    },
    {
      "cell_type": "code",
      "source": [
        "y=windows10()\n",
        "y.yazdır()"
      ],
      "metadata": {
        "colab": {
          "base_uri": "https://localhost:8080/"
        },
        "id": "v5IOgJiD85F7",
        "outputId": "bf87b726-5169-42da-8a19-2bdbb7cd5192"
      },
      "execution_count": null,
      "outputs": [
        {
          "output_type": "stream",
          "name": "stdout",
          "text": [
            "Merhaba ben parent sınıf içerisindeyim.\n"
          ]
        }
      ]
    },
    {
      "cell_type": "code",
      "source": [
        "y.goster()"
      ],
      "metadata": {
        "colab": {
          "base_uri": "https://localhost:8080/"
        },
        "id": "OIbdRV4z9EQm",
        "outputId": "d8dac737-900a-4c91-834a-63585fff8c55"
      },
      "execution_count": null,
      "outputs": [
        {
          "output_type": "stream",
          "name": "stdout",
          "text": [
            "Merhaba ben child sınıf içerisindeyim.\n"
          ]
        }
      ]
    },
    {
      "cell_type": "code",
      "source": [
        "x.goster() #Hata önemli"
      ],
      "metadata": {
        "colab": {
          "base_uri": "https://localhost:8080/",
          "height": 141
        },
        "id": "PpJMkQW-9GEP",
        "outputId": "16409acb-c819-4caf-fbb8-10fc9e53fa21"
      },
      "execution_count": null,
      "outputs": [
        {
          "output_type": "error",
          "ename": "AttributeError",
          "evalue": "'windows7' object has no attribute 'goster'",
          "traceback": [
            "\u001b[0;31m---------------------------------------------------------------------------\u001b[0m",
            "\u001b[0;31mAttributeError\u001b[0m                            Traceback (most recent call last)",
            "\u001b[0;32m<ipython-input-80-e406ea85c83d>\u001b[0m in \u001b[0;36m<cell line: 0>\u001b[0;34m()\u001b[0m\n\u001b[0;32m----> 1\u001b[0;31m \u001b[0mx\u001b[0m\u001b[0;34m.\u001b[0m\u001b[0mgoster\u001b[0m\u001b[0;34m(\u001b[0m\u001b[0;34m)\u001b[0m\u001b[0;34m\u001b[0m\u001b[0;34m\u001b[0m\u001b[0m\n\u001b[0m",
            "\u001b[0;31mAttributeError\u001b[0m: 'windows7' object has no attribute 'goster'"
          ]
        }
      ]
    },
    {
      "cell_type": "code",
      "source": [
        "class A:\n",
        "  def __init__(self):\n",
        "    print(\"A sınıf yapıcı metodu çalıştır.\")\n",
        "\n",
        "  def yazdır(self):\n",
        "    print(\"A sınıf yazdır metodu çalıştır.\")\n",
        "\n",
        "class B(A):\n",
        "  def __init__(self):\n",
        "    print(\"B sınıf yapıcı metodu çalıştır.\")\n",
        "\n",
        "  def yazdır(self):\n",
        "    print(\"B sınıf yazdır metodu çalıştır.\")\n"
      ],
      "metadata": {
        "id": "yjVhnLT39fmV"
      },
      "execution_count": null,
      "outputs": []
    },
    {
      "cell_type": "code",
      "source": [
        "x=A()"
      ],
      "metadata": {
        "colab": {
          "base_uri": "https://localhost:8080/"
        },
        "id": "heofV2Qd9-Kr",
        "outputId": "d0e3fdad-5c46-4750-8c95-a12bc3515e9b"
      },
      "execution_count": null,
      "outputs": [
        {
          "output_type": "stream",
          "name": "stdout",
          "text": [
            "A sınıf yapıcı metodu çalıştır.\n"
          ]
        }
      ]
    },
    {
      "cell_type": "code",
      "source": [
        "y=B()"
      ],
      "metadata": {
        "colab": {
          "base_uri": "https://localhost:8080/"
        },
        "id": "6PX5xilI-PRa",
        "outputId": "aae6c0ff-acd5-486e-d869-a5119a541702"
      },
      "execution_count": null,
      "outputs": [
        {
          "output_type": "stream",
          "name": "stdout",
          "text": [
            "B sınıf yapıcı metodu çalıştır.\n"
          ]
        }
      ]
    },
    {
      "cell_type": "code",
      "source": [
        "class A:\n",
        "  def __init__(self):\n",
        "    print(\"A sınıf yapıcı metodu çalıştır.\")\n",
        "\n",
        "  def yazdır(self):\n",
        "    print(\"A sınıf yazdır metodu çalıştır.\")\n",
        "\n",
        "class B(A):\n",
        "\n",
        "  def yazdır(self):\n",
        "    print(\"B sınıf yazdır metodu çalıştır.\")\n"
      ],
      "metadata": {
        "id": "zYbt8JNF-Rub"
      },
      "execution_count": null,
      "outputs": []
    },
    {
      "cell_type": "code",
      "source": [
        "y=B() #init'i çıkardık."
      ],
      "metadata": {
        "colab": {
          "base_uri": "https://localhost:8080/"
        },
        "id": "sAPoRRq9-41k",
        "outputId": "20e3f939-775a-4815-d3b1-9f71acf14093"
      },
      "execution_count": null,
      "outputs": [
        {
          "output_type": "stream",
          "name": "stdout",
          "text": [
            "A sınıf yapıcı metodu çalıştır.\n"
          ]
        }
      ]
    },
    {
      "cell_type": "code",
      "source": [
        "y=A()"
      ],
      "metadata": {
        "colab": {
          "base_uri": "https://localhost:8080/"
        },
        "id": "xSVqAS9B-7cf",
        "outputId": "ebfa5534-e2ae-4e79-c1da-c8c172d4d3c2"
      },
      "execution_count": null,
      "outputs": [
        {
          "output_type": "stream",
          "name": "stdout",
          "text": [
            "A sınıf yapıcı metodu çalıştır.\n"
          ]
        }
      ]
    },
    {
      "cell_type": "code",
      "source": [
        "class A:\n",
        "  def __init__(self):\n",
        "    print(\"A sınıf yapıcı metodu çalıştır.\")\n",
        "\n",
        "  def yazdır(self):\n",
        "    print(\"A sınıf yazdır metodu çalıştır.\")\n",
        "\n",
        "class B(A):\n",
        "  def __init__(self):\n",
        "    A.__init__(self)\n",
        "\n",
        "  def yazdır(self):\n",
        "    print(\"B sınıf yazdır metodu çalıştır.\")\n",
        "\n",
        "x=A()\n",
        "y=B()\n"
      ],
      "metadata": {
        "colab": {
          "base_uri": "https://localhost:8080/"
        },
        "id": "PL_ejsSU_J2D",
        "outputId": "d93398cd-531a-4c2e-d05a-2d7cff04139f"
      },
      "execution_count": null,
      "outputs": [
        {
          "output_type": "stream",
          "name": "stdout",
          "text": [
            "A sınıf yapıcı metodu çalıştır.\n",
            "A sınıf yapıcı metodu çalıştır.\n"
          ]
        }
      ]
    },
    {
      "cell_type": "code",
      "source": [
        "class A:\n",
        "\n",
        "  def A_yazdır(self):\n",
        "    print(\"A yadır\")\n",
        "\n",
        "class B(A):\n",
        "  def B_yazdır(self):\n",
        "    print(\"B yazdır\")\n",
        "\n",
        "class C(B):\n",
        "  def C_yazdır(self):\n",
        "    print(\"C yazdır\")"
      ],
      "metadata": {
        "id": "KyEGMoUq_ciO"
      },
      "execution_count": null,
      "outputs": []
    },
    {
      "cell_type": "code",
      "source": [
        "x.A_yazdır()\n",
        "y.B_yazdır()\n",
        "z.C_yazdır()"
      ],
      "metadata": {
        "colab": {
          "base_uri": "https://localhost:8080/",
          "height": 176
        },
        "id": "iN54lumIAhQF",
        "outputId": "6eb427d9-0fd9-435a-ce97-84a56b3ec5e1"
      },
      "execution_count": null,
      "outputs": [
        {
          "output_type": "error",
          "ename": "AttributeError",
          "evalue": "'A' object has no attribute 'A_yazdır'",
          "traceback": [
            "\u001b[0;31m---------------------------------------------------------------------------\u001b[0m",
            "\u001b[0;31mAttributeError\u001b[0m                            Traceback (most recent call last)",
            "\u001b[0;32m<ipython-input-109-850a7045b17f>\u001b[0m in \u001b[0;36m<cell line: 0>\u001b[0;34m()\u001b[0m\n\u001b[0;32m----> 1\u001b[0;31m \u001b[0mx\u001b[0m\u001b[0;34m.\u001b[0m\u001b[0mA_yazdır\u001b[0m\u001b[0;34m(\u001b[0m\u001b[0;34m)\u001b[0m\u001b[0;34m\u001b[0m\u001b[0;34m\u001b[0m\u001b[0m\n\u001b[0m\u001b[1;32m      2\u001b[0m \u001b[0my\u001b[0m\u001b[0;34m.\u001b[0m\u001b[0mB_yazdır\u001b[0m\u001b[0;34m(\u001b[0m\u001b[0;34m)\u001b[0m\u001b[0;34m\u001b[0m\u001b[0;34m\u001b[0m\u001b[0m\n\u001b[1;32m      3\u001b[0m \u001b[0mz\u001b[0m\u001b[0;34m.\u001b[0m\u001b[0mC_yazdır\u001b[0m\u001b[0;34m(\u001b[0m\u001b[0;34m)\u001b[0m\u001b[0;34m\u001b[0m\u001b[0;34m\u001b[0m\u001b[0m\n",
            "\u001b[0;31mAttributeError\u001b[0m: 'A' object has no attribute 'A_yazdır'"
          ]
        }
      ]
    },
    {
      "cell_type": "code",
      "source": [
        "class A:\n",
        "\n",
        "  def A_yazdır(self):\n",
        "    print(\"A yazdır\")\n",
        "\n",
        "class B(A):\n",
        "  def B_yazdır(self):\n",
        "    print(\"B yazdır\")\n",
        "\n",
        "class C(A):\n",
        "  def C_yazdır(self):\n",
        "    print(\"C yazdır\")\n",
        "\n",
        "class D(B,C):\n",
        "  def C_yazdır(self):\n",
        "    print(\"D sınıfı\")\n",
        "\n",
        "x=D()"
      ],
      "metadata": {
        "id": "z1f4aOCJAwb3"
      },
      "execution_count": null,
      "outputs": []
    },
    {
      "cell_type": "code",
      "source": [
        "x.A_yazdır()"
      ],
      "metadata": {
        "colab": {
          "base_uri": "https://localhost:8080/"
        },
        "id": "OIzv6rANBPGL",
        "outputId": "8ca80056-e8cb-4639-c16e-12d8d83a2f8a"
      },
      "execution_count": null,
      "outputs": [
        {
          "output_type": "stream",
          "name": "stdout",
          "text": [
            "A yazdır\n"
          ]
        }
      ]
    },
    {
      "cell_type": "code",
      "source": [
        "x.B_yazdır()"
      ],
      "metadata": {
        "colab": {
          "base_uri": "https://localhost:8080/"
        },
        "id": "7vTQQDtCBbyf",
        "outputId": "d0132fed-f877-421c-bf05-b88069ebd898"
      },
      "execution_count": null,
      "outputs": [
        {
          "output_type": "stream",
          "name": "stdout",
          "text": [
            "B yazdır\n"
          ]
        }
      ]
    },
    {
      "cell_type": "code",
      "source": [
        "x.C_yazdır()"
      ],
      "metadata": {
        "colab": {
          "base_uri": "https://localhost:8080/"
        },
        "id": "BA8Q_HYlBe-8",
        "outputId": "d00a8033-c9c6-4ea1-cd89-47afb07285af"
      },
      "execution_count": null,
      "outputs": [
        {
          "output_type": "stream",
          "name": "stdout",
          "text": [
            "D sınıfı\n"
          ]
        }
      ]
    },
    {
      "cell_type": "code",
      "source": [
        "x.sonuc()"
      ],
      "metadata": {
        "colab": {
          "base_uri": "https://localhost:8080/",
          "height": 141
        },
        "id": "rT0bobwOBgKC",
        "outputId": "9768e736-7ddf-427c-982d-42ce1f2979b8"
      },
      "execution_count": null,
      "outputs": [
        {
          "output_type": "error",
          "ename": "AttributeError",
          "evalue": "'D' object has no attribute 'sonuc'",
          "traceback": [
            "\u001b[0;31m---------------------------------------------------------------------------\u001b[0m",
            "\u001b[0;31mAttributeError\u001b[0m                            Traceback (most recent call last)",
            "\u001b[0;32m<ipython-input-121-988083a63924>\u001b[0m in \u001b[0;36m<cell line: 0>\u001b[0;34m()\u001b[0m\n\u001b[0;32m----> 1\u001b[0;31m \u001b[0mx\u001b[0m\u001b[0;34m.\u001b[0m\u001b[0msonuc\u001b[0m\u001b[0;34m(\u001b[0m\u001b[0;34m)\u001b[0m\u001b[0;34m\u001b[0m\u001b[0;34m\u001b[0m\u001b[0m\n\u001b[0m",
            "\u001b[0;31mAttributeError\u001b[0m: 'D' object has no attribute 'sonuc'"
          ]
        }
      ]
    },
    {
      "cell_type": "code",
      "source": [
        "def topla(a,b):\n",
        "  print(a+b)"
      ],
      "metadata": {
        "id": "fCEIetTSBjZm"
      },
      "execution_count": null,
      "outputs": []
    },
    {
      "cell_type": "code",
      "source": [
        "def topla(a,b,c):\n",
        "  print(a+b+c)"
      ],
      "metadata": {
        "id": "FLjqQK2DB4J7"
      },
      "execution_count": null,
      "outputs": []
    },
    {
      "cell_type": "code",
      "source": [
        "topla(100,200) #Hata"
      ],
      "metadata": {
        "colab": {
          "base_uri": "https://localhost:8080/",
          "height": 141
        },
        "id": "ZpjvzaK8CCat",
        "outputId": "8775c6d9-9671-45a4-b158-2d2746a9a8aa"
      },
      "execution_count": null,
      "outputs": [
        {
          "output_type": "error",
          "ename": "TypeError",
          "evalue": "topla() missing 1 required positional argument: 'c'",
          "traceback": [
            "\u001b[0;31m---------------------------------------------------------------------------\u001b[0m",
            "\u001b[0;31mTypeError\u001b[0m                                 Traceback (most recent call last)",
            "\u001b[0;32m<ipython-input-142-d28ab5d3344e>\u001b[0m in \u001b[0;36m<cell line: 0>\u001b[0;34m()\u001b[0m\n\u001b[0;32m----> 1\u001b[0;31m \u001b[0mtopla\u001b[0m\u001b[0;34m(\u001b[0m\u001b[0;36m100\u001b[0m\u001b[0;34m,\u001b[0m\u001b[0;36m200\u001b[0m\u001b[0;34m)\u001b[0m\u001b[0;34m\u001b[0m\u001b[0;34m\u001b[0m\u001b[0m\n\u001b[0m",
            "\u001b[0;31mTypeError\u001b[0m: topla() missing 1 required positional argument: 'c'"
          ]
        }
      ]
    },
    {
      "cell_type": "code",
      "source": [
        "class A:\n",
        "  def __init__(self):\n",
        "    self.x=\"Yapıcı A\"\n",
        "  def goster(self):\n",
        "    print(self.x)\n",
        "\n",
        "class B(A):\n",
        "  def __init__(self):\n",
        "    self.x=\"Yapıcı B\"\n",
        "  def goster(self):\n",
        "    print(self.x)"
      ],
      "metadata": {
        "id": "JYfWfD5tCGRv"
      },
      "execution_count": null,
      "outputs": []
    },
    {
      "cell_type": "code",
      "source": [
        "x=A()\n",
        "y=B()"
      ],
      "metadata": {
        "id": "MvxsYX7YDKy6"
      },
      "execution_count": null,
      "outputs": []
    },
    {
      "cell_type": "code",
      "source": [
        "x.goster()"
      ],
      "metadata": {
        "colab": {
          "base_uri": "https://localhost:8080/"
        },
        "id": "Psts-8ZvDNvl",
        "outputId": "3f2d2f49-12d0-46d5-97c9-cce4ff5b7f34"
      },
      "execution_count": null,
      "outputs": [
        {
          "output_type": "stream",
          "name": "stdout",
          "text": [
            "Yapıcı A\n"
          ]
        }
      ]
    },
    {
      "cell_type": "code",
      "source": [
        "y.goster()"
      ],
      "metadata": {
        "colab": {
          "base_uri": "https://localhost:8080/"
        },
        "id": "PvqDLoNXDQc_",
        "outputId": "b7ce6048-f1fe-4726-d0a1-85eaf525c9de"
      },
      "execution_count": null,
      "outputs": [
        {
          "output_type": "stream",
          "name": "stdout",
          "text": [
            "Yapıcı B\n"
          ]
        }
      ]
    },
    {
      "cell_type": "code",
      "source": [
        "y.x"
      ],
      "metadata": {
        "colab": {
          "base_uri": "https://localhost:8080/",
          "height": 35
        },
        "id": "QaQ_0v1ZDRd0",
        "outputId": "bcbd7245-fd8e-4276-848f-708b32d318ff"
      },
      "execution_count": null,
      "outputs": [
        {
          "output_type": "execute_result",
          "data": {
            "text/plain": [
              "'Yapıcı B'"
            ],
            "application/vnd.google.colaboratory.intrinsic+json": {
              "type": "string"
            }
          },
          "metadata": {},
          "execution_count": 147
        }
      ]
    },
    {
      "cell_type": "code",
      "source": [
        "class A:\n",
        "    def __init__(self, x, y):\n",
        "        self.x = x\n",
        "        self.y = y\n",
        "\n",
        "    def ekle(self, diger):\n",
        "        return A(self.x + diger.x, self.y + diger.y)\n",
        "\n"
      ],
      "metadata": {
        "id": "2EqdLPoUDSeq"
      },
      "execution_count": null,
      "outputs": []
    },
    {
      "cell_type": "code",
      "source": [
        "s1 = A(10,20)"
      ],
      "metadata": {
        "id": "DYEhYBJWDwmn"
      },
      "execution_count": null,
      "outputs": []
    },
    {
      "cell_type": "code",
      "source": [
        "s2 = A(5,10)"
      ],
      "metadata": {
        "id": "PCeEZXNgEE5w"
      },
      "execution_count": null,
      "outputs": []
    },
    {
      "cell_type": "code",
      "source": [
        "s3 = s1+s2"
      ],
      "metadata": {
        "colab": {
          "base_uri": "https://localhost:8080/",
          "height": 141
        },
        "id": "b5SZPsIOE1Rm",
        "outputId": "236075e5-f0b9-4410-9f49-63776eec723a"
      },
      "execution_count": null,
      "outputs": [
        {
          "output_type": "error",
          "ename": "TypeError",
          "evalue": "unsupported operand type(s) for +: 'A' and 'A'",
          "traceback": [
            "\u001b[0;31m---------------------------------------------------------------------------\u001b[0m",
            "\u001b[0;31mTypeError\u001b[0m                                 Traceback (most recent call last)",
            "\u001b[0;32m<ipython-input-169-bfc6a8c87114>\u001b[0m in \u001b[0;36m<cell line: 0>\u001b[0;34m()\u001b[0m\n\u001b[0;32m----> 1\u001b[0;31m \u001b[0ms3\u001b[0m \u001b[0;34m=\u001b[0m \u001b[0ms1\u001b[0m\u001b[0;34m+\u001b[0m\u001b[0ms2\u001b[0m\u001b[0;34m\u001b[0m\u001b[0;34m\u001b[0m\u001b[0m\n\u001b[0m",
            "\u001b[0;31mTypeError\u001b[0m: unsupported operand type(s) for +: 'A' and 'A'"
          ]
        }
      ]
    },
    {
      "cell_type": "code",
      "source": [
        "print(s3.x)"
      ],
      "metadata": {
        "colab": {
          "base_uri": "https://localhost:8080/",
          "height": 141
        },
        "id": "-FdHtqr-E4RJ",
        "outputId": "f14b0bf8-f713-42b3-89a7-1c8473d2b0cc"
      },
      "execution_count": null,
      "outputs": [
        {
          "output_type": "error",
          "ename": "NameError",
          "evalue": "name 's3' is not defined",
          "traceback": [
            "\u001b[0;31m---------------------------------------------------------------------------\u001b[0m",
            "\u001b[0;31mNameError\u001b[0m                                 Traceback (most recent call last)",
            "\u001b[0;32m<ipython-input-166-a824f9b780c3>\u001b[0m in \u001b[0;36m<cell line: 0>\u001b[0;34m()\u001b[0m\n\u001b[0;32m----> 1\u001b[0;31m \u001b[0mprint\u001b[0m\u001b[0;34m(\u001b[0m\u001b[0ms3\u001b[0m\u001b[0;34m.\u001b[0m\u001b[0mx\u001b[0m\u001b[0;34m)\u001b[0m\u001b[0;34m\u001b[0m\u001b[0;34m\u001b[0m\u001b[0m\n\u001b[0m",
            "\u001b[0;31mNameError\u001b[0m: name 's3' is not defined"
          ]
        }
      ]
    },
    {
      "cell_type": "code",
      "source": [
        "class araba():\n",
        "  def __init__(self,motorgucu=200,vites=5):\n",
        "    self.motorgucu=motorgucu\n",
        "    self.vites=vites\n",
        "  def araba_ozellikleri(self):\n",
        "    print(\"Motor gücü\",self.motorgucu)\n",
        "    print(\"Vites\",self.vites)\n",
        "class opel(araba):\n",
        "  def __init__(self, motorgucu=200, vites=5):\n",
        "    super().__init__(motorgucu, vites)\n",
        "    self.cant=cant\n",
        "    print (\"Motor gücü:\", self.motorgucu)\n",
        "    print(\"Vitesi:\",self.vites)\n",
        "    print(\"Cantı:\",self.cant)\n",
        "\n"
      ],
      "metadata": {
        "id": "WMV8oyG4E__w"
      },
      "execution_count": null,
      "outputs": []
    },
    {
      "cell_type": "code",
      "source": [
        "o1.opel(10,20,30)"
      ],
      "metadata": {
        "colab": {
          "base_uri": "https://localhost:8080/",
          "height": 141
        },
        "id": "bSjWxSy_G0pt",
        "outputId": "5631e72b-88e7-404f-c22d-085cc3ee9a56"
      },
      "execution_count": null,
      "outputs": [
        {
          "output_type": "error",
          "ename": "AttributeError",
          "evalue": "'ogrenci' object has no attribute 'opel'",
          "traceback": [
            "\u001b[0;31m---------------------------------------------------------------------------\u001b[0m",
            "\u001b[0;31mAttributeError\u001b[0m                            Traceback (most recent call last)",
            "\u001b[0;32m<ipython-input-173-6672f06e4b36>\u001b[0m in \u001b[0;36m<cell line: 0>\u001b[0;34m()\u001b[0m\n\u001b[0;32m----> 1\u001b[0;31m \u001b[0mo1\u001b[0m\u001b[0;34m.\u001b[0m\u001b[0mopel\u001b[0m\u001b[0;34m(\u001b[0m\u001b[0;36m10\u001b[0m\u001b[0;34m,\u001b[0m\u001b[0;36m20\u001b[0m\u001b[0;34m,\u001b[0m\u001b[0;36m30\u001b[0m\u001b[0;34m)\u001b[0m\u001b[0;34m\u001b[0m\u001b[0;34m\u001b[0m\u001b[0m\n\u001b[0m",
            "\u001b[0;31mAttributeError\u001b[0m: 'ogrenci' object has no attribute 'opel'"
          ]
        }
      ]
    }
  ],
  "metadata": {
    "colab": {
      "provenance": [],
      "authorship_tag": "ABX9TyOVCabhsMnXw3mBDj9hy5S8",
      "include_colab_link": true
    },
    "kernelspec": {
      "display_name": "Python 3",
      "name": "python3"
    },
    "language_info": {
      "name": "python"
    }
  },
  "nbformat": 4,
  "nbformat_minor": 0
}